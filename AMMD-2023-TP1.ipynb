{
 "cells": [
  {
   "cell_type": "markdown",
   "metadata": {},
   "source": [
    "# Trabalho Prático AMMD - 16/10/2023"
   ]
  },
  {
   "cell_type": "markdown",
   "metadata": {},
   "source": [
    "## Equipe:  \n",
    "- Daniel Santiago da Silva - 21950879 - Engenharia da Computação\n",
    "- Thiago Wesley Cunha de Oliveira  - 21950084 - Engenharia da Computação\n",
    "- Vinicius Farias Silva - 21950519 - Engenharia da Computação"
   ]
  },
  {
   "cell_type": "markdown",
   "metadata": {},
   "source": [
    "## Objetivo"
   ]
  },
  {
   "cell_type": "markdown",
   "metadata": {},
   "source": [
    "Este trabalho tem como objetivo a aplicação dos conhecimentos obtidos na disciplina de Aprendizagem de Máquina e Mineração de Dados até então para o desenvolvimento de três modelos de aprendizagem de máquina: a Árvore de Decisão, o k-NN (k Nearest Neighbors) e o Naive Bayes. Além da implementação da funcionalidade básica, os modelos tiveram funções extras adicionadas para sua melhora na eficiência. Todos foram implementados a partir do material base fornecido pelo professor e utilizando principalmente as bibliotecas Numpy e Pandas, com um pequeno auxilio do Sklearn para divisão do conjunto de dados, comparação com o modelo disponibilizado e avaliação das métricas."
   ]
  },
  {
   "cell_type": "markdown",
   "metadata": {},
   "source": [
    "## Implementação"
   ]
  },
  {
   "cell_type": "markdown",
   "metadata": {},
   "source": [
    "As funções e bibliotecas utilizadas por todas as implementações serão criadas e importadas abaixo, bem como as preparação dos conjuntos de testes."
   ]
  },
  {
   "cell_type": "markdown",
   "metadata": {},
   "source": [
    "#### Observação importante:"
   ]
  },
  {
   "cell_type": "markdown",
   "metadata": {},
   "source": [
    "Tempo de execução inteira do notebook nessa máquina foi de x segundos.  \n",
    "Os valores de percentual de redução de tempo e desempenho são referente a execução do notebook de maneira local em um computador equipado com o seguinte hardware utilizando o CPU para o processamento ao invés dos CUDA cores da GPU:\n",
    "- 32 GB a 3000 Mhz de memória ram\n",
    "- Processador Ryzen 5 5600 stock\n",
    "- GPU RTX 3070 stock\n",
    "- HD 1TB 7200 RPM  \n",
    "- Versão Python 3.11.4\n",
    "- Versão sklearn 1.3.0\n",
    "- Versão Pandas 1.5.3\n",
    "- Versão Numpy 1.24.3"
   ]
  },
  {
   "cell_type": "markdown",
   "metadata": {},
   "source": [
    "### Importações"
   ]
  },
  {
   "cell_type": "markdown",
   "metadata": {},
   "source": [
    "As bibliotecas utilizadas serão:\n",
    "\n",
    "- `numpy` : para auxiliar na criação da classe da Árvore de Decisão;\n",
    "- `pandas`: exibir os dados tabulados;\n",
    "- `sklearn`: utilizar o modelo já implementado para comparação de resultados, as funções de métricas e a codificação dos dados de treinamento e teste;\n",
    "- `pyplot`: biblioteca para gerar gráficos;\n",
    "- `math`: biblioteca para cálculos matemáticos;"
   ]
  },
  {
   "cell_type": "code",
   "execution_count": 1,
   "metadata": {},
   "outputs": [],
   "source": [
    "import numpy as np\n",
    "import pandas as pd\n",
    "import sklearn\n",
    "from sklearn import datasets\n",
    "from sklearn.tree import DecisionTreeClassifier \n",
    "from sklearn.metrics import classification_report, confusion_matrix, accuracy_score\n",
    "from sklearn.preprocessing import OrdinalEncoder\n",
    "from sklearn.preprocessing import LabelEncoder\n",
    "from sklearn.preprocessing import StandardScaler\n",
    "from sklearn.model_selection import train_test_split\n",
    "from sklearn.neighbors import KNeighborsClassifier\n",
    "from sklearn.naive_bayes import CategoricalNB\n",
    "from sklearn.naive_bayes import GaussianNB\n",
    "from sklearn.cluster import KMeans\n",
    "import matplotlib.pyplot as plt\n",
    "import math\n",
    "import time"
   ]
  },
  {
   "cell_type": "markdown",
   "metadata": {},
   "source": [
    "### Funções Auxiliares"
   ]
  },
  {
   "cell_type": "markdown",
   "metadata": {},
   "source": [
    "Aqui temos uma função auxiliar utilizada na avaliação dos modelos."
   ]
  },
  {
   "cell_type": "code",
   "execution_count": 2,
   "metadata": {},
   "outputs": [],
   "source": [
    "def avaliacao(Y_pred: np.ndarray, Y_val: np.ndarray):\n",
    "    \"\"\"\n",
    "    Função que recebe dois vetores de classes e imprime sua matriz de confusão, as principais métricas de avaliação,\n",
    "    bem como a sua acurácia.\n",
    "    :param Y_pred: recebe um array de rótulos produzidos pelo modelo\n",
    "    :param Y_val: recebe um array de rótulos corretos\n",
    "    \"\"\"\n",
    "\n",
    "    print(confusion_matrix(Y_val,Y_pred))\n",
    "    print(classification_report(Y_val,Y_pred))  \n",
    "    print(\"Acurácia: {} %\".format(accuracy_score(Y_val, Y_pred)*100))"
   ]
  },
  {
   "cell_type": "markdown",
   "metadata": {},
   "source": [
    "### Pré-processamento dos conjuntos de dados"
   ]
  },
  {
   "cell_type": "markdown",
   "metadata": {},
   "source": [
    "<div style=\" text-align: justify;\">\n",
    "Um árvore de decisão é um algoritmo de apredizagem de máquina bastante conhecido e utilizado para predição em problemas de classificação e de regressão. No presente trabalho iremos implementar um algoritmo que executa a classificação de instâncias que possuem somente atributos categóricos, atributos mistos (categóricos e numéricos) e somente numéricos. Além disso será feita uma implementação do algoritmo utilizando apenas as funções do Numpy para comparar performance.\n",
    "<div>"
   ]
  },
  {
   "cell_type": "markdown",
   "metadata": {},
   "source": [
    "Ao todo serão utilizados 5 Datasets para os testes do modelo e comparação com o modelo implementado pelo `sklearn`. Alguns conjuntos serão atribuidos uma variável `NomeConjuntoDadosPD` contendo o DataFrame dos exemplos para o treinamento no k-NN e Naive Bayes enquanto outra variável conterá o _array_ desses exemplos para o treinamento da Árvore de Decisão."
   ]
  },
  {
   "cell_type": "markdown",
   "metadata": {},
   "source": [
    "- **Base Play Tennis**: O primeiro será o dataset \"_Play Tennis_\" que será utilizado para mostrar como o modelo lida tanto com atributos categoricos, quanto com atributos categóricos codificados numéricamente. São 14 exemplos, sendo 9 da classe 'Sim' e 5 da classe 'Não'."
   ]
  },
  {
   "cell_type": "markdown",
   "metadata": {},
   "source": [
    "- **Base Play Tennis Numérica**: Este dataset possui os mesmos exemplos do anterior, exceto pelos atributos \"_Tempeture_\" e \"_Humidity_\" serem numéricos. São 14 exemplos, sendo 9 da classe 'Sim' e 5 da classe 'Não'."
   ]
  },
  {
   "cell_type": "markdown",
   "metadata": {},
   "source": [
    "- **Base Iris**: É um dataset bastante conhecido já existente no `sklearn`, possui 4 atributos numéricos. Além disso, possui uma maior quantidade de exemplos, sendo 150 no total, com 50 sendo da classe 'Versicolor', 50 da classe 'Setosa' e 50 da classe 'Virginica'."
   ]
  },
  {
   "cell_type": "markdown",
   "metadata": {},
   "source": [
    "- **Base Wine**: É um também um dataset já existente no `sklearn`, possui 13 atributos numéricos. São 178 exemplos no total, com 59 sendo da classe 'class_0', 71 da classe 'class_1' e 48 da classe 'class_2'. Seu uso tem como objetivo testar o modelo para um número maior de atributos bem como lidar com um certo desbalanceamento dos dados."
   ]
  },
  {
   "cell_type": "markdown",
   "metadata": {},
   "source": [
    "- **Base Breast Cancer**: É um um dataset já existente no `sklearn`, possui 30 atributos numéricos. São 569 exemplos no total, com 212 sendo da classe 'Malignant' e 357 da classe 'Benign'. Essa base possui ainda mais exemplos e atributos e será utilizada para testar além da acurácia do modelo, o seu tempo de processamento."
   ]
  },
  {
   "cell_type": "markdown",
   "metadata": {},
   "source": [
    "##### Criando e chamando os datasets utilizados"
   ]
  },
  {
   "cell_type": "markdown",
   "metadata": {},
   "source": [
    "##### Play Tennis"
   ]
  },
  {
   "cell_type": "code",
   "execution_count": 3,
   "metadata": {},
   "outputs": [
    {
     "data": {
      "text/html": [
       "<div>\n",
       "<style scoped>\n",
       "    .dataframe tbody tr th:only-of-type {\n",
       "        vertical-align: middle;\n",
       "    }\n",
       "\n",
       "    .dataframe tbody tr th {\n",
       "        vertical-align: top;\n",
       "    }\n",
       "\n",
       "    .dataframe thead th {\n",
       "        text-align: right;\n",
       "    }\n",
       "</style>\n",
       "<table border=\"1\" class=\"dataframe\">\n",
       "  <thead>\n",
       "    <tr style=\"text-align: right;\">\n",
       "      <th></th>\n",
       "      <th>Outlook</th>\n",
       "      <th>Temperature</th>\n",
       "      <th>Humidity</th>\n",
       "      <th>Wind</th>\n",
       "      <th>Play Tennis</th>\n",
       "    </tr>\n",
       "  </thead>\n",
       "  <tbody>\n",
       "    <tr>\n",
       "      <th>0</th>\n",
       "      <td>Sunny</td>\n",
       "      <td>Hot</td>\n",
       "      <td>High</td>\n",
       "      <td>Weak</td>\n",
       "      <td>No</td>\n",
       "    </tr>\n",
       "    <tr>\n",
       "      <th>1</th>\n",
       "      <td>Sunny</td>\n",
       "      <td>Hot</td>\n",
       "      <td>High</td>\n",
       "      <td>Strong</td>\n",
       "      <td>No</td>\n",
       "    </tr>\n",
       "    <tr>\n",
       "      <th>2</th>\n",
       "      <td>Overcast</td>\n",
       "      <td>Hot</td>\n",
       "      <td>High</td>\n",
       "      <td>Weak</td>\n",
       "      <td>Yes</td>\n",
       "    </tr>\n",
       "    <tr>\n",
       "      <th>3</th>\n",
       "      <td>Rain</td>\n",
       "      <td>Mild</td>\n",
       "      <td>High</td>\n",
       "      <td>Weak</td>\n",
       "      <td>Yes</td>\n",
       "    </tr>\n",
       "    <tr>\n",
       "      <th>4</th>\n",
       "      <td>Rain</td>\n",
       "      <td>Cool</td>\n",
       "      <td>Normal</td>\n",
       "      <td>Weak</td>\n",
       "      <td>Yes</td>\n",
       "    </tr>\n",
       "    <tr>\n",
       "      <th>5</th>\n",
       "      <td>Rain</td>\n",
       "      <td>Cool</td>\n",
       "      <td>Normal</td>\n",
       "      <td>Strong</td>\n",
       "      <td>No</td>\n",
       "    </tr>\n",
       "    <tr>\n",
       "      <th>6</th>\n",
       "      <td>Overcast</td>\n",
       "      <td>Cool</td>\n",
       "      <td>Normal</td>\n",
       "      <td>Strong</td>\n",
       "      <td>Yes</td>\n",
       "    </tr>\n",
       "    <tr>\n",
       "      <th>7</th>\n",
       "      <td>Sunny</td>\n",
       "      <td>Mild</td>\n",
       "      <td>High</td>\n",
       "      <td>Weak</td>\n",
       "      <td>No</td>\n",
       "    </tr>\n",
       "    <tr>\n",
       "      <th>8</th>\n",
       "      <td>Sunny</td>\n",
       "      <td>Cool</td>\n",
       "      <td>Normal</td>\n",
       "      <td>Weak</td>\n",
       "      <td>Yes</td>\n",
       "    </tr>\n",
       "    <tr>\n",
       "      <th>9</th>\n",
       "      <td>Rain</td>\n",
       "      <td>Mild</td>\n",
       "      <td>Normal</td>\n",
       "      <td>Weak</td>\n",
       "      <td>Yes</td>\n",
       "    </tr>\n",
       "    <tr>\n",
       "      <th>10</th>\n",
       "      <td>Sunny</td>\n",
       "      <td>Mild</td>\n",
       "      <td>Normal</td>\n",
       "      <td>Strong</td>\n",
       "      <td>Yes</td>\n",
       "    </tr>\n",
       "    <tr>\n",
       "      <th>11</th>\n",
       "      <td>Overcast</td>\n",
       "      <td>Mild</td>\n",
       "      <td>High</td>\n",
       "      <td>Strong</td>\n",
       "      <td>Yes</td>\n",
       "    </tr>\n",
       "    <tr>\n",
       "      <th>12</th>\n",
       "      <td>Overcast</td>\n",
       "      <td>Hot</td>\n",
       "      <td>Normal</td>\n",
       "      <td>Weak</td>\n",
       "      <td>Yes</td>\n",
       "    </tr>\n",
       "    <tr>\n",
       "      <th>13</th>\n",
       "      <td>Rain</td>\n",
       "      <td>Mild</td>\n",
       "      <td>High</td>\n",
       "      <td>Strong</td>\n",
       "      <td>No</td>\n",
       "    </tr>\n",
       "  </tbody>\n",
       "</table>\n",
       "</div>"
      ],
      "text/plain": [
       "     Outlook Temperature Humidity    Wind Play Tennis\n",
       "0      Sunny         Hot     High    Weak          No\n",
       "1      Sunny         Hot     High  Strong          No\n",
       "2   Overcast         Hot     High    Weak         Yes\n",
       "3       Rain        Mild     High    Weak         Yes\n",
       "4       Rain        Cool   Normal    Weak         Yes\n",
       "5       Rain        Cool   Normal  Strong          No\n",
       "6   Overcast        Cool   Normal  Strong         Yes\n",
       "7      Sunny        Mild     High    Weak          No\n",
       "8      Sunny        Cool   Normal    Weak         Yes\n",
       "9       Rain        Mild   Normal    Weak         Yes\n",
       "10     Sunny        Mild   Normal  Strong         Yes\n",
       "11  Overcast        Mild     High  Strong         Yes\n",
       "12  Overcast         Hot   Normal    Weak         Yes\n",
       "13      Rain        Mild     High  Strong          No"
      ]
     },
     "execution_count": 3,
     "metadata": {},
     "output_type": "execute_result"
    }
   ],
   "source": [
    "values = [['Sunny', 'Hot', 'High', 'Weak', 'No'],\n",
    "       ['Sunny', 'Hot', 'High', 'Strong', 'No'],\n",
    "       ['Overcast', 'Hot', 'High', 'Weak', 'Yes'],\n",
    "       ['Rain', 'Mild', 'High', 'Weak', 'Yes'],\n",
    "       ['Rain', 'Cool', 'Normal', 'Weak', 'Yes'],\n",
    "       ['Rain', 'Cool', 'Normal', 'Strong', 'No'],\n",
    "       ['Overcast', 'Cool', 'Normal', 'Strong', 'Yes'],\n",
    "       ['Sunny', 'Mild', 'High', 'Weak', 'No'],\n",
    "       ['Sunny', 'Cool', 'Normal', 'Weak', 'Yes'],\n",
    "       ['Rain', 'Mild', 'Normal', 'Weak', 'Yes'],\n",
    "       ['Sunny', 'Mild', 'Normal', 'Strong', 'Yes'],\n",
    "       ['Overcast', 'Mild', 'High', 'Strong', 'Yes'],\n",
    "       ['Overcast', 'Hot', 'Normal', 'Weak', 'Yes'],\n",
    "       ['Rain', 'Mild', 'High', 'Strong', 'No']]\n",
    "columnsOrig = ['Outlook', 'Temperature', 'Humidity', 'Wind', 'Play Tennis']\n",
    "tenis = pd.DataFrame(values, columns=columnsOrig)\n",
    "tenis"
   ]
  },
  {
   "cell_type": "code",
   "execution_count": 4,
   "metadata": {},
   "outputs": [
    {
     "data": {
      "text/plain": [
       "(array([['Sunny', 'Hot', 'High', 'Weak'],\n",
       "        ['Sunny', 'Hot', 'High', 'Strong'],\n",
       "        ['Overcast', 'Hot', 'High', 'Weak'],\n",
       "        ['Rain', 'Mild', 'High', 'Weak'],\n",
       "        ['Rain', 'Cool', 'Normal', 'Weak'],\n",
       "        ['Rain', 'Cool', 'Normal', 'Strong'],\n",
       "        ['Overcast', 'Cool', 'Normal', 'Strong'],\n",
       "        ['Sunny', 'Mild', 'High', 'Weak'],\n",
       "        ['Sunny', 'Cool', 'Normal', 'Weak'],\n",
       "        ['Rain', 'Mild', 'Normal', 'Weak'],\n",
       "        ['Sunny', 'Mild', 'Normal', 'Strong'],\n",
       "        ['Overcast', 'Mild', 'High', 'Strong'],\n",
       "        ['Overcast', 'Hot', 'Normal', 'Weak'],\n",
       "        ['Rain', 'Mild', 'High', 'Strong']], dtype=object),\n",
       " array(['No', 'No', 'Yes', 'Yes', 'Yes', 'No', 'Yes', 'No', 'Yes', 'Yes',\n",
       "        'Yes', 'Yes', 'Yes', 'No'], dtype=object))"
      ]
     },
     "execution_count": 4,
     "metadata": {},
     "output_type": "execute_result"
    }
   ],
   "source": [
    "xtennis = tenis.iloc[:, :-1].values\n",
    "xtennisPD = tenis.iloc[:, :-1]\n",
    "ytennis = tenis[\"Play Tennis\"].values\n",
    "ytennisPD = tenis[\"Play Tennis\"]\n",
    "xtennis, ytennis"
   ]
  },
  {
   "cell_type": "markdown",
   "metadata": {},
   "source": [
    "Codificação numérica da base utilizando o `Ordinal_Encoder` e `Label_Encoder`"
   ]
  },
  {
   "cell_type": "code",
   "execution_count": 5,
   "metadata": {},
   "outputs": [
    {
     "data": {
      "text/plain": [
       "(array([[2., 1., 0., 1.],\n",
       "        [2., 1., 0., 0.],\n",
       "        [0., 1., 0., 1.],\n",
       "        [1., 2., 0., 1.],\n",
       "        [1., 0., 1., 1.],\n",
       "        [1., 0., 1., 0.],\n",
       "        [0., 0., 1., 0.],\n",
       "        [2., 2., 0., 1.],\n",
       "        [2., 0., 1., 1.],\n",
       "        [1., 2., 1., 1.],\n",
       "        [2., 2., 1., 0.],\n",
       "        [0., 2., 0., 0.],\n",
       "        [0., 1., 1., 1.],\n",
       "        [1., 2., 0., 0.]]),\n",
       " array([0, 0, 1, 1, 1, 0, 1, 0, 1, 1, 1, 1, 1, 0]))"
      ]
     },
     "execution_count": 5,
     "metadata": {},
     "output_type": "execute_result"
    }
   ],
   "source": [
    "tennis_feat = ['Outlook','Temperature','Humidity','Wind']\n",
    "enc = OrdinalEncoder()\n",
    "enc.fit(xtennis)\n",
    "XTennisEnc = enc.transform(xtennis)\n",
    "\n",
    "lb = LabelEncoder()\n",
    "XTennisEncPD = tenis[tennis_feat].copy()\n",
    "columns = XTennisEncPD.columns\n",
    "for i in columns:\n",
    "    XTennisEncPD[i] = lb.fit_transform(XTennisEncPD[i])\n",
    "YTennisEncPD = tenis['Play Tennis']\n",
    "\n",
    "encLabel = LabelEncoder()\n",
    "encLabel.fit(ytennis)\n",
    "YTennisEnc = encLabel.transform(ytennis)\n",
    "XTennisEnc, YTennisEnc"
   ]
  },
  {
   "cell_type": "markdown",
   "metadata": {},
   "source": [
    "##### Play Tennis Numérico"
   ]
  },
  {
   "cell_type": "code",
   "execution_count": 6,
   "metadata": {},
   "outputs": [
    {
     "data": {
      "text/html": [
       "<div>\n",
       "<style scoped>\n",
       "    .dataframe tbody tr th:only-of-type {\n",
       "        vertical-align: middle;\n",
       "    }\n",
       "\n",
       "    .dataframe tbody tr th {\n",
       "        vertical-align: top;\n",
       "    }\n",
       "\n",
       "    .dataframe thead th {\n",
       "        text-align: right;\n",
       "    }\n",
       "</style>\n",
       "<table border=\"1\" class=\"dataframe\">\n",
       "  <thead>\n",
       "    <tr style=\"text-align: right;\">\n",
       "      <th></th>\n",
       "      <th>Outlook</th>\n",
       "      <th>Temperature</th>\n",
       "      <th>Humidity</th>\n",
       "      <th>Wind</th>\n",
       "      <th>Play Tennis</th>\n",
       "    </tr>\n",
       "  </thead>\n",
       "  <tbody>\n",
       "    <tr>\n",
       "      <th>0</th>\n",
       "      <td>Sunny</td>\n",
       "      <td>23.0</td>\n",
       "      <td>58</td>\n",
       "      <td>Weak</td>\n",
       "      <td>No</td>\n",
       "    </tr>\n",
       "    <tr>\n",
       "      <th>1</th>\n",
       "      <td>Sunny</td>\n",
       "      <td>24.0</td>\n",
       "      <td>55</td>\n",
       "      <td>Strong</td>\n",
       "      <td>No</td>\n",
       "    </tr>\n",
       "    <tr>\n",
       "      <th>2</th>\n",
       "      <td>Overcast</td>\n",
       "      <td>19.0</td>\n",
       "      <td>66</td>\n",
       "      <td>Weak</td>\n",
       "      <td>Yes</td>\n",
       "    </tr>\n",
       "    <tr>\n",
       "      <th>3</th>\n",
       "      <td>Rain</td>\n",
       "      <td>15.1</td>\n",
       "      <td>72</td>\n",
       "      <td>Weak</td>\n",
       "      <td>Yes</td>\n",
       "    </tr>\n",
       "    <tr>\n",
       "      <th>4</th>\n",
       "      <td>Rain</td>\n",
       "      <td>13.5</td>\n",
       "      <td>65</td>\n",
       "      <td>Weak</td>\n",
       "      <td>Yes</td>\n",
       "    </tr>\n",
       "    <tr>\n",
       "      <th>5</th>\n",
       "      <td>Rain</td>\n",
       "      <td>9.0</td>\n",
       "      <td>60</td>\n",
       "      <td>Strong</td>\n",
       "      <td>No</td>\n",
       "    </tr>\n",
       "    <tr>\n",
       "      <th>6</th>\n",
       "      <td>Overcast</td>\n",
       "      <td>14.2</td>\n",
       "      <td>45</td>\n",
       "      <td>Strong</td>\n",
       "      <td>Yes</td>\n",
       "    </tr>\n",
       "    <tr>\n",
       "      <th>7</th>\n",
       "      <td>Sunny</td>\n",
       "      <td>18.0</td>\n",
       "      <td>63</td>\n",
       "      <td>Weak</td>\n",
       "      <td>No</td>\n",
       "    </tr>\n",
       "    <tr>\n",
       "      <th>8</th>\n",
       "      <td>Sunny</td>\n",
       "      <td>13.2</td>\n",
       "      <td>38</td>\n",
       "      <td>Weak</td>\n",
       "      <td>Yes</td>\n",
       "    </tr>\n",
       "    <tr>\n",
       "      <th>9</th>\n",
       "      <td>Rain</td>\n",
       "      <td>15.5</td>\n",
       "      <td>50</td>\n",
       "      <td>Weak</td>\n",
       "      <td>Yes</td>\n",
       "    </tr>\n",
       "    <tr>\n",
       "      <th>10</th>\n",
       "      <td>Sunny</td>\n",
       "      <td>15.0</td>\n",
       "      <td>36</td>\n",
       "      <td>Strong</td>\n",
       "      <td>Yes</td>\n",
       "    </tr>\n",
       "    <tr>\n",
       "      <th>11</th>\n",
       "      <td>Overcast</td>\n",
       "      <td>16.5</td>\n",
       "      <td>68</td>\n",
       "      <td>Strong</td>\n",
       "      <td>Yes</td>\n",
       "    </tr>\n",
       "    <tr>\n",
       "      <th>12</th>\n",
       "      <td>Overcast</td>\n",
       "      <td>20.0</td>\n",
       "      <td>35</td>\n",
       "      <td>Weak</td>\n",
       "      <td>Yes</td>\n",
       "    </tr>\n",
       "    <tr>\n",
       "      <th>13</th>\n",
       "      <td>Rain</td>\n",
       "      <td>13.0</td>\n",
       "      <td>70</td>\n",
       "      <td>Strong</td>\n",
       "      <td>No</td>\n",
       "    </tr>\n",
       "  </tbody>\n",
       "</table>\n",
       "</div>"
      ],
      "text/plain": [
       "     Outlook  Temperature  Humidity    Wind Play Tennis\n",
       "0      Sunny         23.0        58    Weak          No\n",
       "1      Sunny         24.0        55  Strong          No\n",
       "2   Overcast         19.0        66    Weak         Yes\n",
       "3       Rain         15.1        72    Weak         Yes\n",
       "4       Rain         13.5        65    Weak         Yes\n",
       "5       Rain          9.0        60  Strong          No\n",
       "6   Overcast         14.2        45  Strong         Yes\n",
       "7      Sunny         18.0        63    Weak          No\n",
       "8      Sunny         13.2        38    Weak         Yes\n",
       "9       Rain         15.5        50    Weak         Yes\n",
       "10     Sunny         15.0        36  Strong         Yes\n",
       "11  Overcast         16.5        68  Strong         Yes\n",
       "12  Overcast         20.0        35    Weak         Yes\n",
       "13      Rain         13.0        70  Strong          No"
      ]
     },
     "execution_count": 6,
     "metadata": {},
     "output_type": "execute_result"
    }
   ],
   "source": [
    "valuesNum = [['Sunny', 23.0, 58, 'Weak', 'No'],\n",
    "       ['Sunny', 24.0, 55, 'Strong', 'No'],\n",
    "       ['Overcast', 19.0, 66, 'Weak', 'Yes'],\n",
    "       ['Rain', 15.1, 72, 'Weak', 'Yes'],\n",
    "       ['Rain', 13.5, 65, 'Weak', 'Yes'],\n",
    "       ['Rain', 9.0, 60, 'Strong', 'No'],\n",
    "       ['Overcast', 14.2, 45, 'Strong', 'Yes'],\n",
    "       ['Sunny', 18.0, 63, 'Weak', 'No'],\n",
    "       ['Sunny', 13.2, 38, 'Weak', 'Yes'],\n",
    "       ['Rain', 15.5, 50, 'Weak', 'Yes'],\n",
    "       ['Sunny', 15.0, 36, 'Strong', 'Yes'],\n",
    "       ['Overcast', 16.5, 68, 'Strong', 'Yes'],\n",
    "       ['Overcast', 20.0, 35, 'Weak', 'Yes'],\n",
    "       ['Rain', 13.0, 70, 'Strong', 'No']]\n",
    "tenisNumerico = pd.DataFrame(valuesNum, columns=columnsOrig)\n",
    "tenisNumerico"
   ]
  },
  {
   "cell_type": "code",
   "execution_count": 7,
   "metadata": {},
   "outputs": [
    {
     "data": {
      "text/plain": [
       "(array([['Sunny', 23.0, 58, 'Weak'],\n",
       "        ['Sunny', 24.0, 55, 'Strong'],\n",
       "        ['Overcast', 19.0, 66, 'Weak'],\n",
       "        ['Rain', 15.1, 72, 'Weak'],\n",
       "        ['Rain', 13.5, 65, 'Weak'],\n",
       "        ['Rain', 9.0, 60, 'Strong'],\n",
       "        ['Overcast', 14.2, 45, 'Strong'],\n",
       "        ['Sunny', 18.0, 63, 'Weak'],\n",
       "        ['Sunny', 13.2, 38, 'Weak'],\n",
       "        ['Rain', 15.5, 50, 'Weak'],\n",
       "        ['Sunny', 15.0, 36, 'Strong'],\n",
       "        ['Overcast', 16.5, 68, 'Strong'],\n",
       "        ['Overcast', 20.0, 35, 'Weak'],\n",
       "        ['Rain', 13.0, 70, 'Strong']], dtype=object),\n",
       " array(['No', 'No', 'Yes', 'Yes', 'Yes', 'No', 'Yes', 'No', 'Yes', 'Yes',\n",
       "        'Yes', 'Yes', 'Yes', 'No'], dtype=object))"
      ]
     },
     "execution_count": 7,
     "metadata": {},
     "output_type": "execute_result"
    }
   ],
   "source": [
    "xtennisNum = tenisNumerico.iloc[:, :-1].values\n",
    "xtennisNumPD = tenisNumerico.iloc[:, :-1]\n",
    "ytennisNum = tenisNumerico[\"Play Tennis\"].values\n",
    "ytennisNumPD = tenisNumerico[\"Play Tennis\"]\n",
    "xtennisNum, ytennisNum"
   ]
  },
  {
   "cell_type": "markdown",
   "metadata": {},
   "source": [
    "##### Dataset Iris"
   ]
  },
  {
   "cell_type": "code",
   "execution_count": 8,
   "metadata": {},
   "outputs": [],
   "source": [
    "iris = datasets.load_iris()"
   ]
  },
  {
   "cell_type": "code",
   "execution_count": 9,
   "metadata": {},
   "outputs": [
    {
     "data": {
      "text/plain": [
       "(     sepal length (cm)  sepal width (cm)  petal length (cm)  petal width (cm)\n",
       " 0                  5.1               3.5                1.4               0.2\n",
       " 1                  4.9               3.0                1.4               0.2\n",
       " 2                  4.7               3.2                1.3               0.2\n",
       " 3                  4.6               3.1                1.5               0.2\n",
       " 4                  5.0               3.6                1.4               0.2\n",
       " ..                 ...               ...                ...               ...\n",
       " 145                6.7               3.0                5.2               2.3\n",
       " 146                6.3               2.5                5.0               1.9\n",
       " 147                6.5               3.0                5.2               2.0\n",
       " 148                6.2               3.4                5.4               2.3\n",
       " 149                5.9               3.0                5.1               1.8\n",
       " \n",
       " [150 rows x 4 columns],\n",
       " 0         setosa\n",
       " 1         setosa\n",
       " 2         setosa\n",
       " 3         setosa\n",
       " 4         setosa\n",
       "          ...    \n",
       " 145    virginica\n",
       " 146    virginica\n",
       " 147    virginica\n",
       " 148    virginica\n",
       " 149    virginica\n",
       " Length: 150, dtype: category\n",
       " Categories (3, object): ['setosa', 'versicolor', 'virginica'])"
      ]
     },
     "execution_count": 9,
     "metadata": {},
     "output_type": "execute_result"
    }
   ],
   "source": [
    "iris = datasets.load_iris()\n",
    "\n",
    "Xiris = pd.DataFrame(iris.data, columns=iris.feature_names)\n",
    "yiris=pd.Series(pd.Categorical.from_codes(iris.target, iris.target_names))\n",
    "Xiris, yiris"
   ]
  },
  {
   "cell_type": "code",
   "execution_count": 10,
   "metadata": {},
   "outputs": [
    {
     "name": "stdout",
     "output_type": "stream",
     "text": [
      "Shape Treino: (112, 4). Shape Teste: (38, 4)\n"
     ]
    }
   ],
   "source": [
    "X_trainIris, X_testIris, y_trainIris, y_testIris = train_test_split(Xiris.values, yiris.values, random_state=1)\n",
    "X_trainIrisPD, X_testIrisPD, y_trainIrisPD, y_testIrisPD = train_test_split(Xiris, yiris, random_state=1)\n",
    "print(\"Shape Treino: {}. Shape Teste: {}\".format(X_trainIris.shape, X_testIris.shape))"
   ]
  },
  {
   "cell_type": "markdown",
   "metadata": {},
   "source": [
    "##### Dataset Wine"
   ]
  },
  {
   "cell_type": "code",
   "execution_count": 11,
   "metadata": {},
   "outputs": [],
   "source": [
    "wine = datasets.load_wine()"
   ]
  },
  {
   "cell_type": "code",
   "execution_count": 12,
   "metadata": {},
   "outputs": [
    {
     "data": {
      "text/plain": [
       "(     alcohol  malic_acid   ash  alcalinity_of_ash  magnesium  total_phenols  \\\n",
       " 0      14.23        1.71  2.43               15.6      127.0           2.80   \n",
       " 1      13.20        1.78  2.14               11.2      100.0           2.65   \n",
       " 2      13.16        2.36  2.67               18.6      101.0           2.80   \n",
       " 3      14.37        1.95  2.50               16.8      113.0           3.85   \n",
       " 4      13.24        2.59  2.87               21.0      118.0           2.80   \n",
       " ..       ...         ...   ...                ...        ...            ...   \n",
       " 173    13.71        5.65  2.45               20.5       95.0           1.68   \n",
       " 174    13.40        3.91  2.48               23.0      102.0           1.80   \n",
       " 175    13.27        4.28  2.26               20.0      120.0           1.59   \n",
       " 176    13.17        2.59  2.37               20.0      120.0           1.65   \n",
       " 177    14.13        4.10  2.74               24.5       96.0           2.05   \n",
       " \n",
       "      flavanoids  nonflavanoid_phenols  proanthocyanins  color_intensity   hue  \\\n",
       " 0          3.06                  0.28             2.29             5.64  1.04   \n",
       " 1          2.76                  0.26             1.28             4.38  1.05   \n",
       " 2          3.24                  0.30             2.81             5.68  1.03   \n",
       " 3          3.49                  0.24             2.18             7.80  0.86   \n",
       " 4          2.69                  0.39             1.82             4.32  1.04   \n",
       " ..          ...                   ...              ...              ...   ...   \n",
       " 173        0.61                  0.52             1.06             7.70  0.64   \n",
       " 174        0.75                  0.43             1.41             7.30  0.70   \n",
       " 175        0.69                  0.43             1.35            10.20  0.59   \n",
       " 176        0.68                  0.53             1.46             9.30  0.60   \n",
       " 177        0.76                  0.56             1.35             9.20  0.61   \n",
       " \n",
       "      od280/od315_of_diluted_wines  proline  \n",
       " 0                            3.92   1065.0  \n",
       " 1                            3.40   1050.0  \n",
       " 2                            3.17   1185.0  \n",
       " 3                            3.45   1480.0  \n",
       " 4                            2.93    735.0  \n",
       " ..                            ...      ...  \n",
       " 173                          1.74    740.0  \n",
       " 174                          1.56    750.0  \n",
       " 175                          1.56    835.0  \n",
       " 176                          1.62    840.0  \n",
       " 177                          1.60    560.0  \n",
       " \n",
       " [178 rows x 13 columns],\n",
       " 0      class_0\n",
       " 1      class_0\n",
       " 2      class_0\n",
       " 3      class_0\n",
       " 4      class_0\n",
       "         ...   \n",
       " 173    class_2\n",
       " 174    class_2\n",
       " 175    class_2\n",
       " 176    class_2\n",
       " 177    class_2\n",
       " Length: 178, dtype: category\n",
       " Categories (3, object): ['class_0', 'class_1', 'class_2'])"
      ]
     },
     "execution_count": 12,
     "metadata": {},
     "output_type": "execute_result"
    }
   ],
   "source": [
    "Xwine = pd.DataFrame(wine.data, columns=wine.feature_names)\n",
    "ywine=pd.Series(pd.Categorical.from_codes(wine.target, wine.target_names))\n",
    "Xwine, ywine"
   ]
  },
  {
   "cell_type": "code",
   "execution_count": 13,
   "metadata": {},
   "outputs": [
    {
     "name": "stdout",
     "output_type": "stream",
     "text": [
      "Shape Treino: (124, 13). Shape Teste: (54, 13)\n"
     ]
    }
   ],
   "source": [
    "X_trainWine, X_testWine, y_trainWine, y_testWine = train_test_split(Xwine.values, ywine.values, test_size=0.30, random_state = 45)\n",
    "sc = StandardScaler()  \n",
    "X_trainWine = sc.fit_transform(X_trainWine)  \n",
    "X_testWine = sc.transform(X_testWine)\n",
    "\n",
    "X_trainWinePD = pd.DataFrame(X_trainWine, columns=Xwine.columns)\n",
    "X_testWinePD = pd.DataFrame(X_testWine, columns=Xwine.columns)\n",
    "y_trainWinePD, y_testWinePD = pd.Series(y_trainWine), pd.Series(y_testWine)\n",
    "print(\"Shape Treino: {}. Shape Teste: {}\".format(X_trainWine.shape, X_testWine.shape))"
   ]
  },
  {
   "cell_type": "markdown",
   "metadata": {},
   "source": [
    "##### Dataset Breast Cancer "
   ]
  },
  {
   "cell_type": "code",
   "execution_count": 14,
   "metadata": {},
   "outputs": [],
   "source": [
    "cancer = datasets.load_breast_cancer()"
   ]
  },
  {
   "cell_type": "code",
   "execution_count": 15,
   "metadata": {},
   "outputs": [
    {
     "data": {
      "text/plain": [
       "(     mean radius  mean texture  mean perimeter  mean area  mean smoothness  \\\n",
       " 0          17.99         10.38          122.80     1001.0          0.11840   \n",
       " 1          20.57         17.77          132.90     1326.0          0.08474   \n",
       " 2          19.69         21.25          130.00     1203.0          0.10960   \n",
       " 3          11.42         20.38           77.58      386.1          0.14250   \n",
       " 4          20.29         14.34          135.10     1297.0          0.10030   \n",
       " ..           ...           ...             ...        ...              ...   \n",
       " 564        21.56         22.39          142.00     1479.0          0.11100   \n",
       " 565        20.13         28.25          131.20     1261.0          0.09780   \n",
       " 566        16.60         28.08          108.30      858.1          0.08455   \n",
       " 567        20.60         29.33          140.10     1265.0          0.11780   \n",
       " 568         7.76         24.54           47.92      181.0          0.05263   \n",
       " \n",
       "      mean compactness  mean concavity  mean concave points  mean symmetry  \\\n",
       " 0             0.27760         0.30010              0.14710         0.2419   \n",
       " 1             0.07864         0.08690              0.07017         0.1812   \n",
       " 2             0.15990         0.19740              0.12790         0.2069   \n",
       " 3             0.28390         0.24140              0.10520         0.2597   \n",
       " 4             0.13280         0.19800              0.10430         0.1809   \n",
       " ..                ...             ...                  ...            ...   \n",
       " 564           0.11590         0.24390              0.13890         0.1726   \n",
       " 565           0.10340         0.14400              0.09791         0.1752   \n",
       " 566           0.10230         0.09251              0.05302         0.1590   \n",
       " 567           0.27700         0.35140              0.15200         0.2397   \n",
       " 568           0.04362         0.00000              0.00000         0.1587   \n",
       " \n",
       "      mean fractal dimension  ...  worst radius  worst texture  \\\n",
       " 0                   0.07871  ...        25.380          17.33   \n",
       " 1                   0.05667  ...        24.990          23.41   \n",
       " 2                   0.05999  ...        23.570          25.53   \n",
       " 3                   0.09744  ...        14.910          26.50   \n",
       " 4                   0.05883  ...        22.540          16.67   \n",
       " ..                      ...  ...           ...            ...   \n",
       " 564                 0.05623  ...        25.450          26.40   \n",
       " 565                 0.05533  ...        23.690          38.25   \n",
       " 566                 0.05648  ...        18.980          34.12   \n",
       " 567                 0.07016  ...        25.740          39.42   \n",
       " 568                 0.05884  ...         9.456          30.37   \n",
       " \n",
       "      worst perimeter  worst area  worst smoothness  worst compactness  \\\n",
       " 0             184.60      2019.0           0.16220            0.66560   \n",
       " 1             158.80      1956.0           0.12380            0.18660   \n",
       " 2             152.50      1709.0           0.14440            0.42450   \n",
       " 3              98.87       567.7           0.20980            0.86630   \n",
       " 4             152.20      1575.0           0.13740            0.20500   \n",
       " ..               ...         ...               ...                ...   \n",
       " 564           166.10      2027.0           0.14100            0.21130   \n",
       " 565           155.00      1731.0           0.11660            0.19220   \n",
       " 566           126.70      1124.0           0.11390            0.30940   \n",
       " 567           184.60      1821.0           0.16500            0.86810   \n",
       " 568            59.16       268.6           0.08996            0.06444   \n",
       " \n",
       "      worst concavity  worst concave points  worst symmetry  \\\n",
       " 0             0.7119                0.2654          0.4601   \n",
       " 1             0.2416                0.1860          0.2750   \n",
       " 2             0.4504                0.2430          0.3613   \n",
       " 3             0.6869                0.2575          0.6638   \n",
       " 4             0.4000                0.1625          0.2364   \n",
       " ..               ...                   ...             ...   \n",
       " 564           0.4107                0.2216          0.2060   \n",
       " 565           0.3215                0.1628          0.2572   \n",
       " 566           0.3403                0.1418          0.2218   \n",
       " 567           0.9387                0.2650          0.4087   \n",
       " 568           0.0000                0.0000          0.2871   \n",
       " \n",
       "      worst fractal dimension  \n",
       " 0                    0.11890  \n",
       " 1                    0.08902  \n",
       " 2                    0.08758  \n",
       " 3                    0.17300  \n",
       " 4                    0.07678  \n",
       " ..                       ...  \n",
       " 564                  0.07115  \n",
       " 565                  0.06637  \n",
       " 566                  0.07820  \n",
       " 567                  0.12400  \n",
       " 568                  0.07039  \n",
       " \n",
       " [569 rows x 30 columns],\n",
       " 0      malignant\n",
       " 1      malignant\n",
       " 2      malignant\n",
       " 3      malignant\n",
       " 4      malignant\n",
       "          ...    \n",
       " 564    malignant\n",
       " 565    malignant\n",
       " 566    malignant\n",
       " 567    malignant\n",
       " 568       benign\n",
       " Length: 569, dtype: category\n",
       " Categories (2, object): ['malignant', 'benign'])"
      ]
     },
     "execution_count": 15,
     "metadata": {},
     "output_type": "execute_result"
    }
   ],
   "source": [
    "Xcancer = pd.DataFrame(cancer.data, columns=cancer.feature_names)\n",
    "ycancer = pd.Series(pd.Categorical.from_codes(cancer.target, cancer.target_names))\n",
    "Xcancer, ycancer"
   ]
  },
  {
   "cell_type": "code",
   "execution_count": 33,
   "metadata": {},
   "outputs": [
    {
     "data": {
      "text/plain": [
       "array([[9.029e+00, 1.733e+01, 5.879e+01, ..., 1.750e-01, 4.228e-01,\n",
       "        1.175e-01],\n",
       "       [2.109e+01, 2.657e+01, 1.427e+02, ..., 2.903e-01, 4.098e-01,\n",
       "        1.284e-01],\n",
       "       [9.173e+00, 1.386e+01, 5.920e+01, ..., 5.087e-02, 3.282e-01,\n",
       "        8.490e-02],\n",
       "       ...,\n",
       "       [1.429e+01, 1.682e+01, 9.030e+01, ..., 3.333e-02, 2.458e-01,\n",
       "        6.120e-02],\n",
       "       [1.398e+01, 1.962e+01, 9.112e+01, ..., 1.827e-01, 3.179e-01,\n",
       "        1.055e-01],\n",
       "       [1.218e+01, 2.052e+01, 7.722e+01, ..., 7.431e-02, 2.694e-01,\n",
       "        6.878e-02]])"
      ]
     },
     "execution_count": 33,
     "metadata": {},
     "output_type": "execute_result"
    }
   ],
   "source": [
    "X_trainCancer, X_testCancer, y_trainCancer, y_testCancer = train_test_split(Xcancer.values, ycancer.values, test_size=0.2, random_state = 42)\n"
   ]
  },
  {
   "cell_type": "markdown",
   "metadata": {},
   "source": [
    "Será feita uma normalização dos valores de treino e teste para melhor representação do modelo"
   ]
  },
  {
   "cell_type": "code",
   "execution_count": 17,
   "metadata": {},
   "outputs": [
    {
     "name": "stdout",
     "output_type": "stream",
     "text": [
      "Shape Treino: (455, 30). Shape Teste: (114, 30)\n"
     ]
    }
   ],
   "source": [
    "print(\"Shape Treino: {}. Shape Teste: {}\".format(X_trainCancer.shape, X_testCancer.shape))\n",
    "sc = StandardScaler()  \n",
    "X_trainCancer = sc.fit_transform(X_trainCancer)  \n",
    "X_testCancer = sc.transform(X_testCancer)\n",
    "\n",
    "X_trainCancerPD = pd.DataFrame(X_trainCancer, columns=Xcancer.columns)\n",
    "X_testCancerPD = pd.DataFrame(X_testCancer, columns=Xcancer.columns)\n",
    "y_trainCancerPD, y_testCancerPD = pd.Series(y_trainCancer), pd.Series(y_testCancer)\n"
   ]
  },
  {
   "cell_type": "markdown",
   "metadata": {},
   "source": [
    "### Árvore de Decisão"
   ]
  },
  {
   "cell_type": "markdown",
   "metadata": {},
   "source": [
    "<div style=\" text-align: justify;\">\n",
    "A árvore de decisão é um algoritmo de apredizagem de máquina bastante conhecido e utilizado para predição em problemas de classificação e de regressão. No presente trabalho iremos implementar um algoritmo que executa a classificação de instâncias que possuem somente atributos categóricos, atributos mistos (categóricos e numéricos) e somente numéricos. Além disso será feita uma implementação do algoritmo utilizando apenas as funções do Numpy para comparar performance.\n",
    "<div>"
   ]
  },
  {
   "cell_type": "markdown",
   "metadata": {},
   "source": [
    "#### Funções Auxiliares Exclusivas"
   ]
  },
  {
   "cell_type": "markdown",
   "metadata": {},
   "source": [
    "Aqui temos as funções auxiliares utilizadas no cálculo da entropia e do ganho de informação de determinado atributo."
   ]
  },
  {
   "cell_type": "markdown",
   "metadata": {},
   "source": [
    "Função da entropia de Shannon utiliza a seguinte fórmula:\n",
    "<br>\n",
    "<br>\n",
    "![Alt text](image-1.png)"
   ]
  },
  {
   "cell_type": "code",
   "execution_count": 18,
   "metadata": {},
   "outputs": [],
   "source": [
    "def entropia(probs: list) -> float:\n",
    "    \"\"\"\n",
    "    Função que recebe um vetor de probabilidades e retorna o cálculo da entropia de Shannon baseado na seguinte fórmula:\n",
    "    H(x) = -p1*log(p1)-p2*log(p2)-...-pn*log(pn).\n",
    "    :param probs: recebe um array de probabilidades (valores entre 0 e 1)\n",
    "    :return: float Entropia\n",
    "    \"\"\"\n",
    "    probs = np.array(probs)\n",
    "    idx = np.nonzero(probs)[0]\n",
    "    probs = np.log2(probs[idx]) * -1*probs[idx]\n",
    "    return np.sum(probs)"
   ]
  },
  {
   "cell_type": "code",
   "execution_count": 19,
   "metadata": {},
   "outputs": [],
   "source": [
    "def infoTabela(classes: np.ndarray) -> float:\n",
    "    \"\"\"\n",
    "    Função que recebe um vetor de classes (rótulos) e retorna a entropia do determinado vetor\n",
    "    :param classes: recebe um array de classes (rótulos)\n",
    "    :return float Entropia contida no vetor de classes\n",
    "    \"\"\"\n",
    "    probs = np.array([])\n",
    "    _, freq = np.unique(classes, return_counts=True)\n",
    "    probs = np.append(probs, freq/len(classes))\n",
    "    return entropia(probs)"
   ]
  },
  {
   "cell_type": "markdown",
   "metadata": {},
   "source": [
    "Dependendo do tipo de atributos que serão passados para o modelo treinar, deve-se implementar diferentes funções para o cálculo do ganho. Para isso há duas funções implementadas, uma para atributos numéricos e outra para atributos categóricos. As fórmulas utilizadas foram disponibilizadas pelo professor da disciplina no arquivo \"AMMD - Árvores de Decisão.pdf\" dentro do ColabWeb. A implementação de funções separadas para cada tipo de atributo permite a passagem de atributos mistos no treinamento já que há um tratamento exclusivico para numéricos e categóricos."
   ]
  },
  {
   "cell_type": "markdown",
   "metadata": {},
   "source": [
    "- **Atributos categóricos:** Para esse tipo de atributos foi implementado a função `ganho_info_categoria`. Esta função só é chamada apenas quando o atributo for formato `string`. Nela é retirada todos os possíveis valores do determinado atributo e em seguida é calculado o ganho de informação a partir da média ponderada das entropias de cada um dos valores possíveis."
   ]
  },
  {
   "cell_type": "markdown",
   "metadata": {},
   "source": [
    "- **Atributos numéricos:** Para esse tipo de atributos foi implementado a função `ganho_info_numerico` e a auxiliar `ganho_Corte`. Estas funções só são chamadas apenas quando o atributo for um número, mesmo sendo categórico e codificado numericamente. Nela é retirada todos os possíveis valores do determinado atributo e determinado um valor de corte na qual exemplos com os valores do atributo menores que o corte sendo separado dos demais. Se houver apenas dois possíveis valores de atributos, o valor de corte é escolhido como maior dentre os dois. Caso haja mais possibilidades, o valor de corte é definido pela divisão que retornar o maior ganho de informação. Depois de definir o corte, é retornado o valor do ganho da informação a partir da média ponderada da entropia da divisão dos exemplos pelo corte e o próprio valor de corte."
   ]
  },
  {
   "cell_type": "code",
   "execution_count": 20,
   "metadata": {},
   "outputs": [],
   "source": [
    "def ganho_info_categoria(idx: int, tabela: np.ndarray, classes: np.ndarray) -> float:\n",
    "    \"\"\"\n",
    "    Função que recebe um índice referente a um atributo específico, um array com todos os exemplos da amostra \n",
    "    selecionada e o array contendo as classes desses exemplos e retorna o ganho de informação obtido por esse \n",
    "    determinado atributo.\n",
    "    :param idx: recebe um inteiro que representa o índice do atributo desejado\n",
    "    :param tabela: recebe um array com os exemplos da amostra\n",
    "    :param classes: recebe um array de classes dos exemplos\n",
    "    :return float retorna o ganho de informação do atributo desejado\n",
    "    \"\"\"\n",
    "    infos = np.array([])\n",
    "    probs = np.array([])\n",
    "    freq = np.array([])\n",
    "    _, freqClasse = np.unique(classes, return_counts=True)\n",
    "    probs = np.append(probs, freqClasse/len(classes))\n",
    "    infoOriginal = infoTabela(classes)\n",
    "    tabelaT = tabela.T[idx]\n",
    "    for val in np.unique(tabelaT):\n",
    "        idxClasses = np.nonzero(tabelaT==val)[0]\n",
    "        infos = np.append(infos, infoTabela(classes[idxClasses]))\n",
    "        freq = np.append(freq, len(idxClasses))\n",
    "    infoNova = np.sum(freq*infos)\n",
    "    infoNova = infoNova/np.sum(freq)\n",
    "    ganho = infoOriginal - infoNova\n",
    "    return ganho\n"
   ]
  },
  {
   "cell_type": "code",
   "execution_count": 21,
   "metadata": {},
   "outputs": [],
   "source": [
    "def ganhoCorte(tabela: np.ndarray, classes: np.ndarray, infoOriginal: float, idx: int, corte: float) -> float:\n",
    "    \"\"\"\n",
    "    Função que recebe um array com todos os exemplos da amostra selecionada, o array contendo as classes \n",
    "    desses exemplos, um valor de informação, um índice do atributo desejado, um valor de corte e retorna \n",
    "    o ganho de informação obtido por esse determinado atributo com base no valor de corte especificado.\n",
    "    :param tabela: recebe um array com os exemplos da amostra\n",
    "    :param classes: recebe um array de classes dos exemplos\n",
    "    :param infoOriginal: recebe um float que representa a entropia de todos os exemplos\n",
    "    :param idx: recebe um inteiro que representa o índice do atributo desejado\n",
    "    :param corte: recebe um float que representa o valor de corte desejado\n",
    "    :return float retorna o ganho de informação do atributo desejado\n",
    "    \"\"\"\n",
    "    freq = np.array([])\n",
    "    infos = np.array([])\n",
    "    for s in [0,1]:\n",
    "        if(s == 0):\n",
    "            idxClasses = np.nonzero(tabela[idx]<corte)[0]\n",
    "        else:\n",
    "            idxClasses = np.nonzero(tabela[idx]>=corte)[0]\n",
    "        infos = np.append(infos, infoTabela(classes[idxClasses]))\n",
    "        freq = np.append(freq, len(idxClasses))\n",
    "    infoNova = np.sum(freq*infos)\n",
    "    infoNova = infoNova/np.sum(freq)\n",
    "    ganho = infoOriginal - infoNova\n",
    "    return ganho"
   ]
  },
  {
   "cell_type": "code",
   "execution_count": 22,
   "metadata": {},
   "outputs": [],
   "source": [
    "def ganho_info_numerico(idx: int, tabela: np.ndarray, classes: np.ndarray) -> tuple: \n",
    "    \"\"\"\n",
    "    Função que recebe um índice de determinado atributo, um array com todos os exemplos da amostra selecionada, \n",
    "    um array contendo as classes desses exemplos e retorna o maior ganho de informação obtido por esse determinado \n",
    "    atributo e valor corte que gera essa este ganho de informação.\n",
    "    :param idx: recebe um inteiro que representa o índice do atributo desejado\n",
    "    :param tabela: recebe um array com os exemplos da amostra\n",
    "    :param classes: recebe um array de classes dos exemplos\n",
    "    :return retorna o ganho de informação do atributo desejado e o valor de corte encontrado\n",
    "    \"\"\"\n",
    "    ganhoFinal = 0\n",
    "    corteFinal = 0\n",
    "    tabelaTransposta = tabela.T\n",
    "    atributos = np.unique(tabelaTransposta[idx])\n",
    "    infoOriginal = infoTabela(classes)\n",
    "    n = len(atributos)\n",
    "    if(n==2):\n",
    "        corteFinal = atributos[1]\n",
    "        ganhoFinal = ganhoCorte(tabelaTransposta, classes, infoOriginal, idx, corteFinal)\n",
    "    elif(n>2):\n",
    "        for i in range(n):\n",
    "            corte = atributos[i]\n",
    "            ganho = ganhoCorte(tabelaTransposta, classes, infoOriginal, idx, corte)\n",
    "            if(ganhoFinal <= ganho):\n",
    "                ganhoFinal = ganho\n",
    "                corteFinal = corte\n",
    "    return ganhoFinal, corteFinal"
   ]
  },
  {
   "cell_type": "markdown",
   "metadata": {},
   "source": [
    "#### Definição do Nó da Árvore"
   ]
  },
  {
   "cell_type": "markdown",
   "metadata": {},
   "source": [
    "Abaixo temos a implementação da classe da Árvore de Decisão. Ao todo ela possui 7 métodos, sendo 1 de treinamento, 2 para predição, 2 para a impressão, 1 auxiliar e o último de inicialização."
   ]
  },
  {
   "cell_type": "markdown",
   "metadata": {},
   "source": [
    "- **\\_\\_init\\_\\_:** O método de inicialização pode receber 5 parâmetros opcionais, sendo o valor o atributo relacionado a esse nó da árvore, o número de ramos, os valores de atributos relacionados a cada ramo, a lista de nós dos seus ramos e uma _flag_ que indica se o nó representa um atributo numérico e o valor do ramo é um valor de corte."
   ]
  },
  {
   "cell_type": "markdown",
   "metadata": {},
   "source": [
    "- **folha:** O método que indica se o nó é folha verificando se há algum sub-nó associado ao mesmo."
   ]
  },
  {
   "cell_type": "markdown",
   "metadata": {},
   "source": [
    "- **\\_\\_str\\_\\_:** O método que imprime a árvore mostrando o índice do atributo associado como _Valor_, os valores dos ramos como _Ramos_ e indica se o valor do ramo é de corte e se o nó é folha. Os subnós são impressos seguindo a ordem dos ramos. Caso o ramo seja um valor de corte, o próximo nó a ser impresso é exatamente o relacionado aos valores desse atributo menores que o de corte e o próximo nó do mesmo nível é o relacionado a valores iguais ou maiores que o de corte."
   ]
  },
  {
   "cell_type": "markdown",
   "metadata": {},
   "source": [
    "- **\\_\\_repr\\_\\_:** O método que auxilia na impressão da Árvore."
   ]
  },
  {
   "cell_type": "markdown",
   "metadata": {},
   "source": [
    "- **fit:** O método que realiza o treinamento da árvore. Seus parâmetros são os exemplos de treino, suas respectivas classes, o índice do atributo do nó pai e a lista com o tipo dos atributos. O algoritmo implementado aceita apenas numpy arrays como entrada. **O modelo NÃO aceita DataFrames nem Serie do pandas.**  \n",
    "A principio o algoritmo verifica se o vetor de classes recebido possui apenas uma classe, se sim ele retorna um nó folha com o valor dessa classe. Caso não tenha, ele inicia a procura do melhor atributo para a divisão dos ramos. Essa busca consiste na aplicação das funções de ganho de informação para cada atributo e selecionar aquele que retornar o maior ganho.  \n",
    "Após a seleção do melhor atributo é criado o nó referente a esse melhor atributo e em seguida os subnós de maneira recursiva seguindo a ordem dos ramos estabelecido neste nó, passando como.  \n",
    "A diferenciação de atributos Categóricos e Numéricos ocorre na primeira iteração da recursão, quando o parâmetro \"atributo\" é uma `string` vazia, pois não há nó pai para o nó raiz. Nesse momento, todas os atributos seguintes tem uo tipo do valor verificado, se for `string` um \"C\" é adicionado a lista \"tipoColuna\" e a função `ganho_info_categoria` é utilizada, caso não seja então um \"N\" é adicionado a mesma lista e a função `ganho_info_numerica` é aplicada. Para as próximas iterações dos nós, a lista indicando o tipo de cada atributo é passada como parâmetro do _fit_.  \n",
    "Se o melhor atributo for numérico, apenas dois subnós são adicionados, o primeiro relacionado aos exemplos com valores do melhor atributo menor que corte e o segundo relacionado aos exemplos restantes. Caso o melhor atributo seja categórico, cada subnó será relacionado aos exemplos que possuem valor igual a cada um dos valores únicos deste atributo.  \n",
    "Por fim, é retornado o nó criado."
   ]
  },
  {
   "cell_type": "markdown",
   "metadata": {},
   "source": [
    "- **predictOne:** O método que realiza a predição da classe para um único exemplo. Ele recebe como parâmetro um array com os valores dos atributos do mesmo e vai percorrendo a árvore a partir do nó atual de maneira recursiva. Caso o atributo _corte_ do nó for verdadeiro, então ele vai verificar se o valor do atributo indicado pelo índice guardado no \"valor\" do nó é menor que o corte guardado no \"valRamos\" do nó. Se sim, o exemplo percorre para o primeiro subnó recursivamente, caso contrário vai para o segundo recursivamente. Caso não haja valores de corte, o subnó a ser percorrido será escolhido a partir da igualdade entre o valor no exemplo do atributo relacionado ao  nó e os valores guardados em _valRamos_. Ao chegar em nó folha é retornado a classe guardada no mesmo."
   ]
  },
  {
   "cell_type": "markdown",
   "metadata": {},
   "source": [
    "- **predict:** O método que realiza a predição da classe para vários exemplo. Ele recebe como parâmetro um array com os exemplos e retorna um array com as classes preditas. Com os exemplos em mão, ele executa o método `predictOne` para cada um e guarda no array de classes preditas."
   ]
  },
  {
   "cell_type": "markdown",
   "metadata": {},
   "source": [
    "- **poda:** O método que realiza a poda por vários ciclos. Ele recebe como parâmetro um float contendo a porcentagem máxima para o corte de nós e um inteiro contendo a quantidade de vezes que a poda deve ser feita"
   ]
  },
  {
   "cell_type": "markdown",
   "metadata": {},
   "source": [
    "- **podaUnica:** O método que realiza a poda da Árvore de Decisão. Ele recebe como parâmetro um float contendo a porcentagem máxima para o corte de nós e percorre por toda a árvore a fim de encontrar um nó que possua como subnós apenas nós folha. Em seguida ele verifica se algum desses subnós contemplam uma porcentagem de pelo menos 100-(100*porcentagemCorte)% dos exemplos contemplados pelo nó pai. Se sim, então o nó pai é substituido por esse nó que contempla a maior parte dos exemplos."
   ]
  },
  {
   "cell_type": "code",
   "execution_count": 23,
   "metadata": {},
   "outputs": [],
   "source": [
    "class ArvoreDecisao:\n",
    "    def __init__(self, valor=-1,  nramos = 1, valRamos = np.array([]), subnos = np.array([]), corte=False, exemplos=0):\n",
    "        \"\"\"\n",
    "        Método que recebe um índice do atributo que o nó representa, o número de ramos que ele possui, um array contendo os \n",
    "        valores do atributo do nó associados a cada subnó, um array contendo os subnós e um indicador se o atributo relacionado \n",
    "        ao nó é numérico ou categórico (possui valor de corte ou não).\n",
    "        :param valor: recebe um inteiro que representa o índice do atributo relacionado ao nó\n",
    "        :param nramos:  recebe um inteiro que indica a quantidade de ramos do nó\n",
    "        :param valRamos: recebe um array com os valores associados aos ramos do nó\n",
    "        :param subnos: recebe um array nós do tipo Árvore de Decisão associados aos ramos\n",
    "        :param corte: recebe um booleano que indica se valor do ramo é um valor de corte e consequentemente se o atributo \n",
    "        do nó é numérico\n",
    "        \"\"\"\n",
    "        self.valor = valor\n",
    "        self.nramos = nramos\n",
    "        self.valRamos = valRamos\n",
    "        self.subnos = subnos\n",
    "        self.corte = corte\n",
    "        self.exemplos = exemplos\n",
    "    \n",
    "    def folha(self):\n",
    "        \"\"\"\n",
    "        Método que indica se o nó da árvore é folha ou não.\n",
    "        :return retorna um booleano indicando se o nó é folha\n",
    "        \"\"\"\n",
    "        return len(self.subnos) == 0\n",
    "\n",
    "    \n",
    "    def __str__(self, level=0) -> str: \n",
    "        \"\"\"\n",
    "        Método que transforma o nó atual em string e os seus ramos recursivamente de maneira estruturada.\n",
    "        :param level recebe um inteiro que indica o nível do nó atual em relação à raíz da árvore.\n",
    "        :return retorna a string estruturada do nó e de seus ramos\n",
    "        \"\"\"\n",
    "        no = \"Atributo = {} // Ramos = {}\".format(self.valor, self.valRamos) + str(\" <= Valor de corte\" if self.corte else \"\") + str(\" Folha;\" if self.folha() else \"\") + \" // Exemplos no Nó = {}\".format(self.exemplos)\n",
    "        ret = \"\\t\"*level+repr(no)+\"\\n\"\n",
    "        for subno in self.subnos:\n",
    "            ret += subno.__str__(level+1)\n",
    "        return ret\n",
    "\n",
    "    def __repr__(self):\n",
    "        \"\"\"\n",
    "        Método que retorna a string que contém o índice do atributo associado ao nó, os valores dos ramos,\n",
    "        as indicações se o nó pussi valor de corte ou se é folha.\n",
    "        :return retorna a string do nó atual\n",
    "        \"\"\"\n",
    "        no = \"Atributo = {} // Ramos = {}\".format(self.valor, self.valRamos) + str(\" <= Valor de corte\" if self.corte else \"\") + str(\" Folha;\" if self.folha() else \"\") + \" // Exemplos no Nó = {}\".format(self.exemplos)\n",
    "        return no\n",
    "\n",
    "        \n",
    "    def fit(self, X: np.ndarray, Y: np.ndarray, atributo=-1, tipoColuna=np.array([])):\n",
    "        \"\"\"\n",
    "        Método que realiza o treinamento da Árvore de Decisão a partir do array contendo os exemplos de \n",
    "        treinamento, um array contendo as classes dos exemplos, o atributo associado ao nó pai, um array \n",
    "        contendo o tipo de cada atributo dos exemplos e retorna o nó raiz da árvore.\n",
    "        :param X recebe um array contendo os exemplos de treinameto\n",
    "        :param Y: recebe um array contendo as classes dos exemplos de treinamento\n",
    "        :param atributo: recebe um inteiro indicando o índice do atributo relacionado ao nó pai\n",
    "        :param tipoColuna: recebe um array contendo o tipo de cada atributo dos exemplos de treinamento\n",
    "        \"\"\"\n",
    "        self.valor=-1\n",
    "        self.valRamos=np.array([])\n",
    "        self.subnos = np.array([])\n",
    "        self.corte=False\n",
    "        self.exemplos = len(Y)\n",
    "        if( len(np.unique(Y))==1):\n",
    "            self.valor=atributo\n",
    "            self.valRamos=np.array([Y[0]])\n",
    "        else:\n",
    "            Xtransposto = X.T\n",
    "            Xbest = 0\n",
    "            valorCorteBest = \"\"\n",
    "            for col in range(X.shape[1]):\n",
    "                if(type(Xtransposto[Xbest][0])!=str if (atributo == -1 and len(tipoColuna)<X.shape[1]) else tipoColuna[Xbest] == \"N\"):\n",
    "                    num = ganho_info_numerico(Xbest, X, Y)\n",
    "                    ganhoBest = num[0]\n",
    "                    valorCorteBest = num[1]\n",
    "                else:\n",
    "                    ganhoBest = ganho_info_categoria(Xbest, X, Y)\n",
    "                    valorCorteBest = \"\"\n",
    "                if(type(Xtransposto[col][0])!=str if (atributo == -1 and len(tipoColuna)<X.shape[1]) else tipoColuna[col] == \"N\"):\n",
    "                    if(atributo == -1 and len(tipoColuna)<X.shape[1]):\n",
    "                        tipoColuna = np.append(tipoColuna,\"N\")\n",
    "                    num = ganho_info_numerico(col, X, Y)\n",
    "                    ganhoCol = num[0]\n",
    "                    valorCorte = num[1]\n",
    "                else:\n",
    "                    if(atributo == -1 and len(tipoColuna)<X.shape[1]):\n",
    "                        tipoColuna = np.append(tipoColuna,\"C\")\n",
    "                    ganhoCol = ganho_info_categoria(col, X, Y)\n",
    "                    valorCorte=\"\"\n",
    "                if(ganhoCol>= ganhoBest):\n",
    "                    Xbest =  col\n",
    "                    valorCorteBest = valorCorte\n",
    "            if(valorCorteBest!=\"\"):\n",
    "                valRamos = np.array([valorCorteBest])\n",
    "                self.valor=Xbest; self.nramos=len(valRamos); self.valRamos=valRamos; self.corte=True\n",
    "                idxVal = np.nonzero(Xtransposto[Xbest]<valorCorteBest)[0]\n",
    "                self.subnos = np.append(self.subnos, ArvoreDecisao())\n",
    "                self.subnos[0].fit(X[idxVal], Y[idxVal], Xbest, tipoColuna=tipoColuna)\n",
    "                idxVal = np.nonzero(Xtransposto[Xbest]>=valorCorteBest)[0]\n",
    "                self.subnos = np.append(self.subnos, ArvoreDecisao())\n",
    "                self.subnos[1].fit(X[idxVal], Y[idxVal], Xbest, tipoColuna=tipoColuna)\n",
    "            else:\n",
    "                valRamos = np.unique(Xtransposto[Xbest])\n",
    "                self.valor=Xbest; self.nramos=len(valRamos); self.valRamos=valRamos\n",
    "                for i, val in enumerate(valRamos):\n",
    "                    idxVal = np.nonzero(Xtransposto[Xbest]==val)[0]\n",
    "                    self.subnos = np.append(self.subnos, ArvoreDecisao())\n",
    "                    self.subnos[i].fit(X[idxVal], Y[idxVal], Xbest, tipoColuna=tipoColuna)\n",
    "\n",
    "\n",
    "    def predictOne(self, X: np.ndarray):\n",
    "        \"\"\"\n",
    "        Método que realiza a predição de um exemplo ao percorrer a árvore e retornando a classe do nó folha encontrado\n",
    "        :param X recebe um array contendo os atributos do exemplo de treinamento\n",
    "        :return retorna a classe predita do exemplo passado\n",
    "        \"\"\"\n",
    "        if(self.folha()):\n",
    "            return self.valRamos[0]\n",
    "        elif(self.corte):\n",
    "             if(X[self.valor]<self.valRamos[0]):\n",
    "                return self.subnos[0].predictOne(X)\n",
    "             else:\n",
    "                 return self.subnos[1].predictOne(X)\n",
    "        else:\n",
    "            idx = np.nonzero(self.valRamos==X[self.valor])[0][0]\n",
    "            return self.subnos[idx].predictOne(X)\n",
    "            \n",
    "    def predict(self, X):\n",
    "        \"\"\"\n",
    "        Método que realiza a predição de vários exemplos\n",
    "        :param X recebe um array contendo os exemplos de treinamento\n",
    "        :return retorna um array com as classes preditas dos exemplos passado\n",
    "        \"\"\"\n",
    "        ypred = []\n",
    "        for x in X:\n",
    "            ypred.append(self.predictOne(x))\n",
    "        return ypred\n",
    "    \n",
    "    def poda(self, porcentagemCorte=0.1, ciclos=1):\n",
    "        \"\"\"\n",
    "        Método que aplica a função de poda podaUnica por um determinada quantidade de ciclos\n",
    "        :param porcentagemCorte recebe um float contendo o valor máximod de porcentagem de exemplos para podar o nó\n",
    "        :param ciclos recebe um inteiro contendo a quantidade de ciclos\n",
    "        \"\"\"\n",
    "        i=0\n",
    "        while (i<ciclos):\n",
    "            print(\"Ciclo {}\".format(i+1))\n",
    "            if(not self.podaUnica(porcentagemCorte)):\n",
    "                print(\"Nenhum nó podado neste ciclo\")\n",
    "                break\n",
    "            i=i+1\n",
    "\n",
    "    \n",
    "    def podaUnica(self, porcentagemCorte=0.1, podado=False):\n",
    "        \"\"\"\n",
    "        Método que recebe a porcentagem de corte e procura por toda árvore nós folha em que contemplem 100-(100*porcentagemCorte)%\n",
    "        dos exemplos para poder podar\n",
    "        :param porcentagemCorte recebe um float contendo o valor máximod de porcentagem de exemplos para podar o nó\n",
    "        \"\"\"\n",
    "        if(not self.folha()):\n",
    "            todosFolha = True\n",
    "            distribuicao = np.array([])\n",
    "            for subno in self.subnos:\n",
    "                distribuicao = np.append(distribuicao, subno.exemplos/self.exemplos)\n",
    "                if (not subno.folha()):\n",
    "                    todosFolha = False\n",
    "            if(todosFolha):\n",
    "                for i, dist in enumerate(distribuicao):\n",
    "                    if(dist>=1-porcentagemCorte):\n",
    "                        print(\"Nó podado: \", self.__repr__())\n",
    "                        podado = True\n",
    "                        self.nramos=self.subnos[i].nramos; self.valRamos=self.subnos[i].valRamos; self.corte=self.subnos[i].corte\n",
    "                        subs = self.subnos\n",
    "                        self.subnos = self.subnos[i].subnos\n",
    "                        for sub in subs:\n",
    "                            del sub\n",
    "                        break\n",
    "            else:\n",
    "                for subno in self.subnos:\n",
    "                    podado = subno.podaUnica(porcentagemCorte,podado)\n",
    "        return podado\n",
    "                        \n"
   ]
  },
  {
   "cell_type": "markdown",
   "metadata": {},
   "source": [
    "#### Treinamento dos modelos"
   ]
  },
  {
   "cell_type": "markdown",
   "metadata": {},
   "source": [
    "No treinamento do modelo será executado o método `fit` para cada dataset, o tempo de execução será mostrado e a árvore resultante será impressa. Além disso será feito o mesmo treinamento utilizando o modelo do `sklearn` com o critério de entropia."
   ]
  },
  {
   "cell_type": "markdown",
   "metadata": {},
   "source": [
    "##### Play Tennis"
   ]
  },
  {
   "cell_type": "markdown",
   "metadata": {},
   "source": [
    "- **Agoritmo**"
   ]
  },
  {
   "cell_type": "code",
   "execution_count": 24,
   "metadata": {},
   "outputs": [
    {
     "name": "stdout",
     "output_type": "stream",
     "text": [
      "\"Atributo = 0 // Ramos = ['Overcast' 'Rain' 'Sunny'] // Exemplos no Nó = 14\"\n",
      "\t\"Atributo = 0 // Ramos = ['Yes'] Folha; // Exemplos no Nó = 4\"\n",
      "\t\"Atributo = 3 // Ramos = ['Strong' 'Weak'] // Exemplos no Nó = 5\"\n",
      "\t\t\"Atributo = 3 // Ramos = ['No'] Folha; // Exemplos no Nó = 2\"\n",
      "\t\t\"Atributo = 3 // Ramos = ['Yes'] Folha; // Exemplos no Nó = 3\"\n",
      "\t\"Atributo = 2 // Ramos = ['High' 'Normal'] // Exemplos no Nó = 5\"\n",
      "\t\t\"Atributo = 2 // Ramos = ['No'] Folha; // Exemplos no Nó = 3\"\n",
      "\t\t\"Atributo = 2 // Ramos = ['Yes'] Folha; // Exemplos no Nó = 2\"\n",
      "\n"
     ]
    }
   ],
   "source": [
    "ArvoreTennis = ArvoreDecisao()\n",
    "ArvoreTennis.fit(xtennis, ytennis)\n",
    "print(ArvoreTennis)"
   ]
  },
  {
   "cell_type": "markdown",
   "metadata": {},
   "source": [
    "- **Função sklearn** (O modelo de `DecisionTreeClassifier` do `sklearn` não aceita atributos string, dessa forma essa execução não será feita)"
   ]
  },
  {
   "cell_type": "markdown",
   "metadata": {},
   "source": [
    "##### Play Tennis Codificado"
   ]
  },
  {
   "cell_type": "markdown",
   "metadata": {},
   "source": [
    "- **Agoritmo**"
   ]
  },
  {
   "cell_type": "code",
   "execution_count": 25,
   "metadata": {},
   "outputs": [
    {
     "name": "stdout",
     "output_type": "stream",
     "text": [
      "'Atributo = 0 // Ramos = [0. 1. 2.] // Exemplos no Nó = 14'\n",
      "\t'Atributo = 0 // Ramos = [1] Folha; // Exemplos no Nó = 4'\n",
      "\t'Atributo = 3 // Ramos = [0. 1.] // Exemplos no Nó = 5'\n",
      "\t\t'Atributo = 3 // Ramos = [0] Folha; // Exemplos no Nó = 2'\n",
      "\t\t'Atributo = 3 // Ramos = [1] Folha; // Exemplos no Nó = 3'\n",
      "\t'Atributo = 2 // Ramos = [0. 1.] // Exemplos no Nó = 5'\n",
      "\t\t'Atributo = 2 // Ramos = [0] Folha; // Exemplos no Nó = 3'\n",
      "\t\t'Atributo = 2 // Ramos = [1] Folha; // Exemplos no Nó = 2'\n",
      "\n"
     ]
    }
   ],
   "source": [
    "ArvoreTennisEnc = ArvoreDecisao()\n",
    "ArvoreTennisEnc.fit(XTennisEnc, YTennisEnc, tipoColuna=np.array([\"C\", \"C\", \"C\", \"C\"]))\n",
    "print(ArvoreTennisEnc)"
   ]
  },
  {
   "cell_type": "markdown",
   "metadata": {},
   "source": [
    "- **Função sklearn**"
   ]
  },
  {
   "cell_type": "code",
   "execution_count": 26,
   "metadata": {},
   "outputs": [
    {
     "data": {
      "image/png": "[encoded data removed]",
      "text/plain": [
       "<Figure size 640x480 with 1 Axes>"
      ]
     },
     "metadata": {},
     "output_type": "display_data"
    },
    {
     "data": {
      "text/plain": [
       "<Figure size 500x600 with 0 Axes>"
      ]
     },
     "metadata": {},
     "output_type": "display_data"
    }
   ],
   "source": [
    "dtTennisEnc = DecisionTreeClassifier(criterion=\"entropy\")\n",
    "dtTennisEnc.fit(XTennisEnc, YTennisEnc)\n",
    "sklearn.tree.plot_tree(dtTennisEnc); plt.figure(figsize=(5, 6)); plt.show()"
   ]
  },
  {
   "cell_type": "markdown",
   "metadata": {},
   "source": [
    "##### Play Tennis Numérico"
   ]
  },
  {
   "cell_type": "markdown",
   "metadata": {},
   "source": [
    "- **Agoritmo**"
   ]
  },
  {
   "cell_type": "code",
   "execution_count": 27,
   "metadata": {},
   "outputs": [
    {
     "name": "stdout",
     "output_type": "stream",
     "text": [
      "'Atributo = 2 // Ramos = [55] <= Valor de corte // Exemplos no Nó = 14'\n",
      "\t\"Atributo = 2 // Ramos = ['Yes'] Folha; // Exemplos no Nó = 5\"\n",
      "\t'Atributo = 2 // Ramos = [65] <= Valor de corte // Exemplos no Nó = 9'\n",
      "\t\t\"Atributo = 2 // Ramos = ['No'] Folha; // Exemplos no Nó = 4\"\n",
      "\t\t'Atributo = 1 // Ramos = [13.5] <= Valor de corte // Exemplos no Nó = 5'\n",
      "\t\t\t\"Atributo = 1 // Ramos = ['No'] Folha; // Exemplos no Nó = 1\"\n",
      "\t\t\t\"Atributo = 1 // Ramos = ['Yes'] Folha; // Exemplos no Nó = 4\"\n",
      "\n"
     ]
    }
   ],
   "source": [
    "ArvoreTennisNum = ArvoreDecisao()\n",
    "ArvoreTennisNum.fit(xtennisNum, ytennisNum)\n",
    "print(ArvoreTennisNum)"
   ]
  },
  {
   "cell_type": "markdown",
   "metadata": {},
   "source": [
    "- **Função sklearn** (O modelo de `DecisionTreeClassifier` do `sklearn` não aceita atributos mistos, dessa forma essa execução não será feita)"
   ]
  },
  {
   "cell_type": "markdown",
   "metadata": {},
   "source": [
    "##### Iris"
   ]
  },
  {
   "cell_type": "markdown",
   "metadata": {},
   "source": [
    "- **Agoritmo**"
   ]
  },
  {
   "cell_type": "code",
   "execution_count": 28,
   "metadata": {},
   "outputs": [
    {
     "name": "stdout",
     "output_type": "stream",
     "text": [
      "'Atributo = 3 // Ramos = [1.] <= Valor de corte // Exemplos no Nó = 112'\n",
      "\t\"Atributo = 3 // Ramos = ['setosa'] Folha; // Exemplos no Nó = 37\"\n",
      "\t'Atributo = 3 // Ramos = [1.7] <= Valor de corte // Exemplos no Nó = 75'\n",
      "\t\t'Atributo = 2 // Ramos = [5.] <= Valor de corte // Exemplos no Nó = 37'\n",
      "\t\t\t\"Atributo = 2 // Ramos = ['versicolor'] Folha; // Exemplos no Nó = 32\"\n",
      "\t\t\t'Atributo = 3 // Ramos = [1.6] <= Valor de corte // Exemplos no Nó = 5'\n",
      "\t\t\t\t\"Atributo = 3 // Ramos = ['virginica'] Folha; // Exemplos no Nó = 3\"\n",
      "\t\t\t\t'Atributo = 2 // Ramos = [5.8] <= Valor de corte // Exemplos no Nó = 2'\n",
      "\t\t\t\t\t\"Atributo = 2 // Ramos = ['versicolor'] Folha; // Exemplos no Nó = 1\"\n",
      "\t\t\t\t\t\"Atributo = 2 // Ramos = ['virginica'] Folha; // Exemplos no Nó = 1\"\n",
      "\t\t'Atributo = 2 // Ramos = [4.9] <= Valor de corte // Exemplos no Nó = 38'\n",
      "\t\t\t'Atributo = 1 // Ramos = [3.2] <= Valor de corte // Exemplos no Nó = 4'\n",
      "\t\t\t\t\"Atributo = 1 // Ramos = ['virginica'] Folha; // Exemplos no Nó = 3\"\n",
      "\t\t\t\t\"Atributo = 1 // Ramos = ['versicolor'] Folha; // Exemplos no Nó = 1\"\n",
      "\t\t\t\"Atributo = 2 // Ramos = ['virginica'] Folha; // Exemplos no Nó = 34\"\n",
      "\n"
     ]
    }
   ],
   "source": [
    "ArvoreIris = ArvoreDecisao()\n",
    "ArvoreIris.fit(X_trainIris, y_trainIris)\n",
    "print(ArvoreIris)"
   ]
  },
  {
   "cell_type": "markdown",
   "metadata": {},
   "source": [
    "- **Função sklearn**"
   ]
  },
  {
   "cell_type": "code",
   "execution_count": 29,
   "metadata": {},
   "outputs": [
    {
     "data": {
      "image/png": "[encoded data removed]",
      "text/plain": [
       "<Figure size 640x480 with 1 Axes>"
      ]
     },
     "metadata": {},
     "output_type": "display_data"
    },
    {
     "data": {
      "text/plain": [
       "<Figure size 500x600 with 0 Axes>"
      ]
     },
     "metadata": {},
     "output_type": "display_data"
    }
   ],
   "source": [
    "dtIris = DecisionTreeClassifier(criterion=\"entropy\")\n",
    "dtIris.fit(X_trainIris, y_trainIris)\n",
    "sklearn.tree.plot_tree(dtIris); plt.figure(figsize=(5, 6)); plt.show()"
   ]
  },
  {
   "cell_type": "markdown",
   "metadata": {},
   "source": [
    "##### Wine"
   ]
  },
  {
   "cell_type": "markdown",
   "metadata": {},
   "source": [
    "- **Agoritmo**"
   ]
  },
  {
   "cell_type": "code",
   "execution_count": 30,
   "metadata": {},
   "outputs": [
    {
     "name": "stdout",
     "output_type": "stream",
     "text": [
      "'Atributo = 9 // Ramos = [-0.60725343] <= Valor de corte // Exemplos no Nó = 124'\n",
      "\t\"Atributo = 9 // Ramos = ['class_1'] Folha; // Exemplos no Nó = 43\"\n",
      "\t'Atributo = 6 // Ramos = [-0.53632625] <= Valor de corte // Exemplos no Nó = 81'\n",
      "\t\t\"Atributo = 6 // Ramos = ['class_2'] Folha; // Exemplos no Nó = 28\"\n",
      "\t\t'Atributo = 12 // Ramos = [0.00164224] <= Valor de corte // Exemplos no Nó = 53'\n",
      "\t\t\t'Atributo = 1 // Ramos = [1.4440327] <= Valor de corte // Exemplos no Nó = 11'\n",
      "\t\t\t\t\"Atributo = 1 // Ramos = ['class_1'] Folha; // Exemplos no Nó = 10\"\n",
      "\t\t\t\t\"Atributo = 1 // Ramos = ['class_0'] Folha; // Exemplos no Nó = 1\"\n",
      "\t\t\t\"Atributo = 12 // Ramos = ['class_0'] Folha; // Exemplos no Nó = 42\"\n",
      "\n"
     ]
    }
   ],
   "source": [
    "ArvoreWine = ArvoreDecisao()\n",
    "ArvoreWine.fit(X_trainWine, y_trainWine)\n",
    "print(ArvoreWine)"
   ]
  },
  {
   "cell_type": "markdown",
   "metadata": {},
   "source": [
    "- **Função sklearn**"
   ]
  },
  {
   "cell_type": "code",
   "execution_count": 31,
   "metadata": {},
   "outputs": [
    {
     "data": {
      "image/png": "[encoded data removed]",
      "text/plain": [
       "<Figure size 640x480 with 1 Axes>"
      ]
     },
     "metadata": {},
     "output_type": "display_data"
    },
    {
     "data": {
      "text/plain": [
       "<Figure size 500x600 with 0 Axes>"
      ]
     },
     "metadata": {},
     "output_type": "display_data"
    }
   ],
   "source": [
    "dtWine = DecisionTreeClassifier(criterion=\"entropy\")\n",
    "dtWine.fit(X_trainWine, y_trainWine)\n",
    "sklearn.tree.plot_tree(dtWine); plt.figure(figsize=(5, 6)); plt.show()"
   ]
  },
  {
   "cell_type": "markdown",
   "metadata": {},
   "source": [
    "##### Breast Cancer"
   ]
  },
  {
   "cell_type": "markdown",
   "metadata": {},
   "source": [
    "- **Agoritmo**"
   ]
  },
  {
   "cell_type": "code",
   "execution_count": 32,
   "metadata": {},
   "outputs": [
    {
     "ename": "KeyboardInterrupt",
     "evalue": "",
     "output_type": "error",
     "traceback": [
      "\u001b[1;31m---------------------------------------------------------------------------\u001b[0m",
      "\u001b[1;31mKeyboardInterrupt\u001b[0m                         Traceback (most recent call last)",
      "\u001b[1;32mc:\\Users\\thiag\\OneDrive\\Documentos\\Aprendizagem de Maquina\\Aprendizado_de_Maquina\\AMMD-2023-TP1.ipynb Célula 98\u001b[0m line \u001b[0;36m2\n\u001b[0;32m      <a href='vscode-notebook-cell:/c%3A/Users/thiag/OneDrive/Documentos/Aprendizagem%20de%20Maquina/Aprendizado_de_Maquina/AMMD-2023-TP1.ipynb#Y166sZmlsZQ%3D%3D?line=0'>1</a>\u001b[0m ArvoreCancer \u001b[39m=\u001b[39m ArvoreDecisao()\n\u001b[1;32m----> <a href='vscode-notebook-cell:/c%3A/Users/thiag/OneDrive/Documentos/Aprendizagem%20de%20Maquina/Aprendizado_de_Maquina/AMMD-2023-TP1.ipynb#Y166sZmlsZQ%3D%3D?line=1'>2</a>\u001b[0m ArvoreCancer\u001b[39m.\u001b[39;49mfit(X_trainCancer, y_trainCancer)\n\u001b[0;32m      <a href='vscode-notebook-cell:/c%3A/Users/thiag/OneDrive/Documentos/Aprendizagem%20de%20Maquina/Aprendizado_de_Maquina/AMMD-2023-TP1.ipynb#Y166sZmlsZQ%3D%3D?line=2'>3</a>\u001b[0m \u001b[39mprint\u001b[39m(ArvoreCancer)\n",
      "\u001b[1;32mc:\\Users\\thiag\\OneDrive\\Documentos\\Aprendizagem de Maquina\\Aprendizado_de_Maquina\\AMMD-2023-TP1.ipynb Célula 98\u001b[0m line \u001b[0;36m1\n\u001b[0;32m     <a href='vscode-notebook-cell:/c%3A/Users/thiag/OneDrive/Documentos/Aprendizagem%20de%20Maquina/Aprendizado_de_Maquina/AMMD-2023-TP1.ipynb#Y166sZmlsZQ%3D%3D?line=97'>98</a>\u001b[0m idxVal \u001b[39m=\u001b[39m np\u001b[39m.\u001b[39mnonzero(Xtransposto[Xbest]\u001b[39m<\u001b[39mvalorCorteBest)[\u001b[39m0\u001b[39m]\n\u001b[0;32m     <a href='vscode-notebook-cell:/c%3A/Users/thiag/OneDrive/Documentos/Aprendizagem%20de%20Maquina/Aprendizado_de_Maquina/AMMD-2023-TP1.ipynb#Y166sZmlsZQ%3D%3D?line=98'>99</a>\u001b[0m \u001b[39mself\u001b[39m\u001b[39m.\u001b[39msubnos \u001b[39m=\u001b[39m np\u001b[39m.\u001b[39mappend(\u001b[39mself\u001b[39m\u001b[39m.\u001b[39msubnos, ArvoreDecisao())\n\u001b[1;32m--> <a href='vscode-notebook-cell:/c%3A/Users/thiag/OneDrive/Documentos/Aprendizagem%20de%20Maquina/Aprendizado_de_Maquina/AMMD-2023-TP1.ipynb#Y166sZmlsZQ%3D%3D?line=99'>100</a>\u001b[0m \u001b[39mself\u001b[39;49m\u001b[39m.\u001b[39;49msubnos[\u001b[39m0\u001b[39;49m]\u001b[39m.\u001b[39;49mfit(X[idxVal], Y[idxVal], Xbest, tipoColuna\u001b[39m=\u001b[39;49mtipoColuna)\n\u001b[0;32m    <a href='vscode-notebook-cell:/c%3A/Users/thiag/OneDrive/Documentos/Aprendizagem%20de%20Maquina/Aprendizado_de_Maquina/AMMD-2023-TP1.ipynb#Y166sZmlsZQ%3D%3D?line=100'>101</a>\u001b[0m idxVal \u001b[39m=\u001b[39m np\u001b[39m.\u001b[39mnonzero(Xtransposto[Xbest]\u001b[39m>\u001b[39m\u001b[39m=\u001b[39mvalorCorteBest)[\u001b[39m0\u001b[39m]\n\u001b[0;32m    <a href='vscode-notebook-cell:/c%3A/Users/thiag/OneDrive/Documentos/Aprendizagem%20de%20Maquina/Aprendizado_de_Maquina/AMMD-2023-TP1.ipynb#Y166sZmlsZQ%3D%3D?line=101'>102</a>\u001b[0m \u001b[39mself\u001b[39m\u001b[39m.\u001b[39msubnos \u001b[39m=\u001b[39m np\u001b[39m.\u001b[39mappend(\u001b[39mself\u001b[39m\u001b[39m.\u001b[39msubnos, ArvoreDecisao())\n",
      "\u001b[1;32mc:\\Users\\thiag\\OneDrive\\Documentos\\Aprendizagem de Maquina\\Aprendizado_de_Maquina\\AMMD-2023-TP1.ipynb Célula 98\u001b[0m line \u001b[0;36m1\n\u001b[0;32m     <a href='vscode-notebook-cell:/c%3A/Users/thiag/OneDrive/Documentos/Aprendizagem%20de%20Maquina/Aprendizado_de_Maquina/AMMD-2023-TP1.ipynb#Y166sZmlsZQ%3D%3D?line=97'>98</a>\u001b[0m idxVal \u001b[39m=\u001b[39m np\u001b[39m.\u001b[39mnonzero(Xtransposto[Xbest]\u001b[39m<\u001b[39mvalorCorteBest)[\u001b[39m0\u001b[39m]\n\u001b[0;32m     <a href='vscode-notebook-cell:/c%3A/Users/thiag/OneDrive/Documentos/Aprendizagem%20de%20Maquina/Aprendizado_de_Maquina/AMMD-2023-TP1.ipynb#Y166sZmlsZQ%3D%3D?line=98'>99</a>\u001b[0m \u001b[39mself\u001b[39m\u001b[39m.\u001b[39msubnos \u001b[39m=\u001b[39m np\u001b[39m.\u001b[39mappend(\u001b[39mself\u001b[39m\u001b[39m.\u001b[39msubnos, ArvoreDecisao())\n\u001b[1;32m--> <a href='vscode-notebook-cell:/c%3A/Users/thiag/OneDrive/Documentos/Aprendizagem%20de%20Maquina/Aprendizado_de_Maquina/AMMD-2023-TP1.ipynb#Y166sZmlsZQ%3D%3D?line=99'>100</a>\u001b[0m \u001b[39mself\u001b[39;49m\u001b[39m.\u001b[39;49msubnos[\u001b[39m0\u001b[39;49m]\u001b[39m.\u001b[39;49mfit(X[idxVal], Y[idxVal], Xbest, tipoColuna\u001b[39m=\u001b[39;49mtipoColuna)\n\u001b[0;32m    <a href='vscode-notebook-cell:/c%3A/Users/thiag/OneDrive/Documentos/Aprendizagem%20de%20Maquina/Aprendizado_de_Maquina/AMMD-2023-TP1.ipynb#Y166sZmlsZQ%3D%3D?line=100'>101</a>\u001b[0m idxVal \u001b[39m=\u001b[39m np\u001b[39m.\u001b[39mnonzero(Xtransposto[Xbest]\u001b[39m>\u001b[39m\u001b[39m=\u001b[39mvalorCorteBest)[\u001b[39m0\u001b[39m]\n\u001b[0;32m    <a href='vscode-notebook-cell:/c%3A/Users/thiag/OneDrive/Documentos/Aprendizagem%20de%20Maquina/Aprendizado_de_Maquina/AMMD-2023-TP1.ipynb#Y166sZmlsZQ%3D%3D?line=101'>102</a>\u001b[0m \u001b[39mself\u001b[39m\u001b[39m.\u001b[39msubnos \u001b[39m=\u001b[39m np\u001b[39m.\u001b[39mappend(\u001b[39mself\u001b[39m\u001b[39m.\u001b[39msubnos, ArvoreDecisao())\n",
      "\u001b[1;32mc:\\Users\\thiag\\OneDrive\\Documentos\\Aprendizagem de Maquina\\Aprendizado_de_Maquina\\AMMD-2023-TP1.ipynb Célula 98\u001b[0m line \u001b[0;36m8\n\u001b[0;32m     <a href='vscode-notebook-cell:/c%3A/Users/thiag/OneDrive/Documentos/Aprendizagem%20de%20Maquina/Aprendizado_de_Maquina/AMMD-2023-TP1.ipynb#Y166sZmlsZQ%3D%3D?line=81'>82</a>\u001b[0m \u001b[39mif\u001b[39;00m(atributo \u001b[39m==\u001b[39m \u001b[39m-\u001b[39m\u001b[39m1\u001b[39m \u001b[39mand\u001b[39;00m \u001b[39mlen\u001b[39m(tipoColuna)\u001b[39m<\u001b[39mX\u001b[39m.\u001b[39mshape[\u001b[39m1\u001b[39m]):\n\u001b[0;32m     <a href='vscode-notebook-cell:/c%3A/Users/thiag/OneDrive/Documentos/Aprendizagem%20de%20Maquina/Aprendizado_de_Maquina/AMMD-2023-TP1.ipynb#Y166sZmlsZQ%3D%3D?line=82'>83</a>\u001b[0m     tipoColuna \u001b[39m=\u001b[39m np\u001b[39m.\u001b[39mappend(tipoColuna,\u001b[39m\"\u001b[39m\u001b[39mN\u001b[39m\u001b[39m\"\u001b[39m)\n\u001b[1;32m---> <a href='vscode-notebook-cell:/c%3A/Users/thiag/OneDrive/Documentos/Aprendizagem%20de%20Maquina/Aprendizado_de_Maquina/AMMD-2023-TP1.ipynb#Y166sZmlsZQ%3D%3D?line=83'>84</a>\u001b[0m num \u001b[39m=\u001b[39m ganho_info_numerico(col, X, Y)\n\u001b[0;32m     <a href='vscode-notebook-cell:/c%3A/Users/thiag/OneDrive/Documentos/Aprendizagem%20de%20Maquina/Aprendizado_de_Maquina/AMMD-2023-TP1.ipynb#Y166sZmlsZQ%3D%3D?line=84'>85</a>\u001b[0m ganhoCol \u001b[39m=\u001b[39m num[\u001b[39m0\u001b[39m]\n\u001b[0;32m     <a href='vscode-notebook-cell:/c%3A/Users/thiag/OneDrive/Documentos/Aprendizagem%20de%20Maquina/Aprendizado_de_Maquina/AMMD-2023-TP1.ipynb#Y166sZmlsZQ%3D%3D?line=85'>86</a>\u001b[0m valorCorte \u001b[39m=\u001b[39m num[\u001b[39m1\u001b[39m]\n",
      "\u001b[1;32mc:\\Users\\thiag\\OneDrive\\Documentos\\Aprendizagem de Maquina\\Aprendizado_de_Maquina\\AMMD-2023-TP1.ipynb Célula 98\u001b[0m line \u001b[0;36m2\n\u001b[0;32m     <a href='vscode-notebook-cell:/c%3A/Users/thiag/OneDrive/Documentos/Aprendizagem%20de%20Maquina/Aprendizado_de_Maquina/AMMD-2023-TP1.ipynb#Y166sZmlsZQ%3D%3D?line=20'>21</a>\u001b[0m \u001b[39mfor\u001b[39;00m i \u001b[39min\u001b[39;00m \u001b[39mrange\u001b[39m(n):\n\u001b[0;32m     <a href='vscode-notebook-cell:/c%3A/Users/thiag/OneDrive/Documentos/Aprendizagem%20de%20Maquina/Aprendizado_de_Maquina/AMMD-2023-TP1.ipynb#Y166sZmlsZQ%3D%3D?line=21'>22</a>\u001b[0m     corte \u001b[39m=\u001b[39m atributos[i]\n\u001b[1;32m---> <a href='vscode-notebook-cell:/c%3A/Users/thiag/OneDrive/Documentos/Aprendizagem%20de%20Maquina/Aprendizado_de_Maquina/AMMD-2023-TP1.ipynb#Y166sZmlsZQ%3D%3D?line=22'>23</a>\u001b[0m     ganho \u001b[39m=\u001b[39m ganhoCorte(tabelaTransposta, classes, infoOriginal, idx, corte)\n\u001b[0;32m     <a href='vscode-notebook-cell:/c%3A/Users/thiag/OneDrive/Documentos/Aprendizagem%20de%20Maquina/Aprendizado_de_Maquina/AMMD-2023-TP1.ipynb#Y166sZmlsZQ%3D%3D?line=23'>24</a>\u001b[0m     \u001b[39mif\u001b[39;00m(ganhoFinal \u001b[39m<\u001b[39m\u001b[39m=\u001b[39m ganho):\n\u001b[0;32m     <a href='vscode-notebook-cell:/c%3A/Users/thiag/OneDrive/Documentos/Aprendizagem%20de%20Maquina/Aprendizado_de_Maquina/AMMD-2023-TP1.ipynb#Y166sZmlsZQ%3D%3D?line=24'>25</a>\u001b[0m         ganhoFinal \u001b[39m=\u001b[39m ganho\n",
      "\u001b[1;32mc:\\Users\\thiag\\OneDrive\\Documentos\\Aprendizagem de Maquina\\Aprendizado_de_Maquina\\AMMD-2023-TP1.ipynb Célula 98\u001b[0m line \u001b[0;36m2\n\u001b[0;32m     <a href='vscode-notebook-cell:/c%3A/Users/thiag/OneDrive/Documentos/Aprendizagem%20de%20Maquina/Aprendizado_de_Maquina/AMMD-2023-TP1.ipynb#Y166sZmlsZQ%3D%3D?line=17'>18</a>\u001b[0m     \u001b[39melse\u001b[39;00m:\n\u001b[0;32m     <a href='vscode-notebook-cell:/c%3A/Users/thiag/OneDrive/Documentos/Aprendizagem%20de%20Maquina/Aprendizado_de_Maquina/AMMD-2023-TP1.ipynb#Y166sZmlsZQ%3D%3D?line=18'>19</a>\u001b[0m         idxClasses \u001b[39m=\u001b[39m np\u001b[39m.\u001b[39mnonzero(tabela[idx]\u001b[39m>\u001b[39m\u001b[39m=\u001b[39mcorte)[\u001b[39m0\u001b[39m]\n\u001b[1;32m---> <a href='vscode-notebook-cell:/c%3A/Users/thiag/OneDrive/Documentos/Aprendizagem%20de%20Maquina/Aprendizado_de_Maquina/AMMD-2023-TP1.ipynb#Y166sZmlsZQ%3D%3D?line=19'>20</a>\u001b[0m     infos \u001b[39m=\u001b[39m np\u001b[39m.\u001b[39mappend(infos, infoTabela(classes[idxClasses]))\n\u001b[0;32m     <a href='vscode-notebook-cell:/c%3A/Users/thiag/OneDrive/Documentos/Aprendizagem%20de%20Maquina/Aprendizado_de_Maquina/AMMD-2023-TP1.ipynb#Y166sZmlsZQ%3D%3D?line=20'>21</a>\u001b[0m     freq \u001b[39m=\u001b[39m np\u001b[39m.\u001b[39mappend(freq, \u001b[39mlen\u001b[39m(idxClasses))\n\u001b[0;32m     <a href='vscode-notebook-cell:/c%3A/Users/thiag/OneDrive/Documentos/Aprendizagem%20de%20Maquina/Aprendizado_de_Maquina/AMMD-2023-TP1.ipynb#Y166sZmlsZQ%3D%3D?line=21'>22</a>\u001b[0m infoNova \u001b[39m=\u001b[39m np\u001b[39m.\u001b[39msum(freq\u001b[39m*\u001b[39minfos)\n",
      "\u001b[1;32mc:\\Users\\thiag\\OneDrive\\Documentos\\Aprendizagem de Maquina\\Aprendizado_de_Maquina\\AMMD-2023-TP1.ipynb Célula 98\u001b[0m line \u001b[0;36m8\n\u001b[0;32m      <a href='vscode-notebook-cell:/c%3A/Users/thiag/OneDrive/Documentos/Aprendizagem%20de%20Maquina/Aprendizado_de_Maquina/AMMD-2023-TP1.ipynb#Y166sZmlsZQ%3D%3D?line=1'>2</a>\u001b[0m \u001b[39m\u001b[39m\u001b[39m\"\"\"\u001b[39;00m\n\u001b[0;32m      <a href='vscode-notebook-cell:/c%3A/Users/thiag/OneDrive/Documentos/Aprendizagem%20de%20Maquina/Aprendizado_de_Maquina/AMMD-2023-TP1.ipynb#Y166sZmlsZQ%3D%3D?line=2'>3</a>\u001b[0m \u001b[39mFunção que recebe um vetor de classes (rótulos) e retorna a entropia do determinado vetor\u001b[39;00m\n\u001b[0;32m      <a href='vscode-notebook-cell:/c%3A/Users/thiag/OneDrive/Documentos/Aprendizagem%20de%20Maquina/Aprendizado_de_Maquina/AMMD-2023-TP1.ipynb#Y166sZmlsZQ%3D%3D?line=3'>4</a>\u001b[0m \u001b[39m:param classes: recebe um array de classes (rótulos)\u001b[39;00m\n\u001b[0;32m      <a href='vscode-notebook-cell:/c%3A/Users/thiag/OneDrive/Documentos/Aprendizagem%20de%20Maquina/Aprendizado_de_Maquina/AMMD-2023-TP1.ipynb#Y166sZmlsZQ%3D%3D?line=4'>5</a>\u001b[0m \u001b[39m:return float Entropia contida no vetor de classes\u001b[39;00m\n\u001b[0;32m      <a href='vscode-notebook-cell:/c%3A/Users/thiag/OneDrive/Documentos/Aprendizagem%20de%20Maquina/Aprendizado_de_Maquina/AMMD-2023-TP1.ipynb#Y166sZmlsZQ%3D%3D?line=5'>6</a>\u001b[0m \u001b[39m\"\"\"\u001b[39;00m\n\u001b[0;32m      <a href='vscode-notebook-cell:/c%3A/Users/thiag/OneDrive/Documentos/Aprendizagem%20de%20Maquina/Aprendizado_de_Maquina/AMMD-2023-TP1.ipynb#Y166sZmlsZQ%3D%3D?line=6'>7</a>\u001b[0m probs \u001b[39m=\u001b[39m np\u001b[39m.\u001b[39marray([])\n\u001b[1;32m----> <a href='vscode-notebook-cell:/c%3A/Users/thiag/OneDrive/Documentos/Aprendizagem%20de%20Maquina/Aprendizado_de_Maquina/AMMD-2023-TP1.ipynb#Y166sZmlsZQ%3D%3D?line=7'>8</a>\u001b[0m _, freq \u001b[39m=\u001b[39m np\u001b[39m.\u001b[39;49munique(classes, return_counts\u001b[39m=\u001b[39;49m\u001b[39mTrue\u001b[39;49;00m)\n\u001b[0;32m      <a href='vscode-notebook-cell:/c%3A/Users/thiag/OneDrive/Documentos/Aprendizagem%20de%20Maquina/Aprendizado_de_Maquina/AMMD-2023-TP1.ipynb#Y166sZmlsZQ%3D%3D?line=8'>9</a>\u001b[0m probs \u001b[39m=\u001b[39m np\u001b[39m.\u001b[39mappend(probs, freq\u001b[39m/\u001b[39m\u001b[39mlen\u001b[39m(classes))\n\u001b[0;32m     <a href='vscode-notebook-cell:/c%3A/Users/thiag/OneDrive/Documentos/Aprendizagem%20de%20Maquina/Aprendizado_de_Maquina/AMMD-2023-TP1.ipynb#Y166sZmlsZQ%3D%3D?line=9'>10</a>\u001b[0m \u001b[39mreturn\u001b[39;00m entropia(probs)\n",
      "File \u001b[1;32mc:\\Users\\thiag\\AppData\\Local\\Programs\\Python\\Python311\\Lib\\site-packages\\numpy\\lib\\arraysetops.py:274\u001b[0m, in \u001b[0;36munique\u001b[1;34m(ar, return_index, return_inverse, return_counts, axis, equal_nan)\u001b[0m\n\u001b[0;32m    272\u001b[0m ar \u001b[39m=\u001b[39m np\u001b[39m.\u001b[39masanyarray(ar)\n\u001b[0;32m    273\u001b[0m \u001b[39mif\u001b[39;00m axis \u001b[39mis\u001b[39;00m \u001b[39mNone\u001b[39;00m:\n\u001b[1;32m--> 274\u001b[0m     ret \u001b[39m=\u001b[39m _unique1d(ar, return_index, return_inverse, return_counts, \n\u001b[0;32m    275\u001b[0m                     equal_nan\u001b[39m=\u001b[39;49mequal_nan)\n\u001b[0;32m    276\u001b[0m     \u001b[39mreturn\u001b[39;00m _unpack_tuple(ret)\n\u001b[0;32m    278\u001b[0m \u001b[39m# axis was specified and not None\u001b[39;00m\n",
      "File \u001b[1;32mc:\\Users\\thiag\\AppData\\Local\\Programs\\Python\\Python311\\Lib\\site-packages\\numpy\\lib\\arraysetops.py:328\u001b[0m, in \u001b[0;36m_unique1d\u001b[1;34m(ar, return_index, return_inverse, return_counts, equal_nan)\u001b[0m\n\u001b[0;32m    323\u001b[0m \u001b[39mdef\u001b[39;00m \u001b[39m_unique1d\u001b[39m(ar, return_index\u001b[39m=\u001b[39m\u001b[39mFalse\u001b[39;00m, return_inverse\u001b[39m=\u001b[39m\u001b[39mFalse\u001b[39;00m,\n\u001b[0;32m    324\u001b[0m               return_counts\u001b[39m=\u001b[39m\u001b[39mFalse\u001b[39;00m, \u001b[39m*\u001b[39m, equal_nan\u001b[39m=\u001b[39m\u001b[39mTrue\u001b[39;00m):\n\u001b[0;32m    325\u001b[0m \u001b[39m    \u001b[39m\u001b[39m\"\"\"\u001b[39;00m\n\u001b[0;32m    326\u001b[0m \u001b[39m    Find the unique elements of an array, ignoring shape.\u001b[39;00m\n\u001b[0;32m    327\u001b[0m \u001b[39m    \"\"\"\u001b[39;00m\n\u001b[1;32m--> 328\u001b[0m     ar \u001b[39m=\u001b[39m np\u001b[39m.\u001b[39masanyarray(ar)\u001b[39m.\u001b[39mflatten()\n\u001b[0;32m    330\u001b[0m     optional_indices \u001b[39m=\u001b[39m return_index \u001b[39mor\u001b[39;00m return_inverse\n\u001b[0;32m    332\u001b[0m     \u001b[39mif\u001b[39;00m optional_indices:\n",
      "\u001b[1;31mKeyboardInterrupt\u001b[0m: "
     ]
    }
   ],
   "source": [
    "ArvoreCancer = ArvoreDecisao()\n",
    "ArvoreCancer.fit(X_trainCancer, y_trainCancer)\n",
    "print(ArvoreCancer)"
   ]
  },
  {
   "cell_type": "markdown",
   "metadata": {},
   "source": [
    "- **Função sklearn**"
   ]
  },
  {
   "cell_type": "code",
   "execution_count": null,
   "metadata": {},
   "outputs": [
    {
     "data": {
      "image/png": "[encoded data removed]",
      "text/plain": [
       "<Figure size 640x480 with 1 Axes>"
      ]
     },
     "metadata": {},
     "output_type": "display_data"
    },
    {
     "data": {
      "text/plain": [
       "<Figure size 500x600 with 0 Axes>"
      ]
     },
     "metadata": {},
     "output_type": "display_data"
    }
   ],
   "source": [
    "dtCancer = DecisionTreeClassifier(criterion=\"entropy\")\n",
    "dtCancer.fit(X_trainCancer, y_trainCancer)\n",
    "sklearn.tree.plot_tree(dtCancer); plt.figure(figsize=(5, 6)); plt.show()"
   ]
  },
  {
   "cell_type": "markdown",
   "metadata": {},
   "source": [
    "#### Avaliação dos Modelos e Podagem"
   ]
  },
  {
   "cell_type": "markdown",
   "metadata": {},
   "source": [
    "Abaixo serão executados os testes do modelo para cada base de dados comparando os resultados com a predição do modelo podado e com a predição do modelo importado do `sklearn` quando realizado o treinamento no mesmo. A avaliação dos modelos é feita pela função `avaliacao` que retorna a matriz de confusão da predição, algumas métricas de revocação, precisão e f1-score bem como a acurácia da predição.  A poda será feita com o método `poda` com os parâmetros de _porcentagemCorte_=0.33 e ciclos=3."
   ]
  },
  {
   "cell_type": "markdown",
   "metadata": {},
   "source": [
    "##### Play Tennis"
   ]
  },
  {
   "cell_type": "code",
   "execution_count": null,
   "metadata": {},
   "outputs": [
    {
     "name": "stdout",
     "output_type": "stream",
     "text": [
      "############## Agoritmo Proposto ##############\n",
      "\n",
      "[[5 0]\n",
      " [0 9]]\n",
      "              precision    recall  f1-score   support\n",
      "\n",
      "          No       1.00      1.00      1.00         5\n",
      "         Yes       1.00      1.00      1.00         9\n",
      "\n",
      "    accuracy                           1.00        14\n",
      "   macro avg       1.00      1.00      1.00        14\n",
      "weighted avg       1.00      1.00      1.00        14\n",
      "\n",
      "Acurácia: 100.0 %\n"
     ]
    }
   ],
   "source": [
    "print(\"############## Agoritmo Proposto ##############\\n\")\n",
    "avaliacao(ArvoreTennis.predict(xtennis), ytennis)"
   ]
  },
  {
   "cell_type": "markdown",
   "metadata": {},
   "source": [
    "Como podemos ver abaixo, nenhum nó se encaixa nos requisitos de poda, dessa forma nenhum nó é podado para esta árvore."
   ]
  },
  {
   "cell_type": "code",
   "execution_count": null,
   "metadata": {},
   "outputs": [
    {
     "name": "stdout",
     "output_type": "stream",
     "text": [
      "Ciclo 1\n",
      "Nenhum nó podado neste ciclo\n"
     ]
    }
   ],
   "source": [
    "ArvoreTennis.poda(0.33,3)"
   ]
  },
  {
   "cell_type": "markdown",
   "metadata": {},
   "source": [
    "##### Play Tennis Codificado"
   ]
  },
  {
   "cell_type": "code",
   "execution_count": null,
   "metadata": {},
   "outputs": [
    {
     "name": "stdout",
     "output_type": "stream",
     "text": [
      "############## Agoritmo Proposto ##############\n",
      "\n",
      "[[5 0]\n",
      " [0 9]]\n",
      "              precision    recall  f1-score   support\n",
      "\n",
      "           0       1.00      1.00      1.00         5\n",
      "           1       1.00      1.00      1.00         9\n",
      "\n",
      "    accuracy                           1.00        14\n",
      "   macro avg       1.00      1.00      1.00        14\n",
      "weighted avg       1.00      1.00      1.00        14\n",
      "\n",
      "Acurácia: 100.0 %\n",
      "\n",
      "############## Modelo Sklearn ##############\n",
      "\n",
      "[[5 0]\n",
      " [0 9]]\n",
      "              precision    recall  f1-score   support\n",
      "\n",
      "           0       1.00      1.00      1.00         5\n",
      "           1       1.00      1.00      1.00         9\n",
      "\n",
      "    accuracy                           1.00        14\n",
      "   macro avg       1.00      1.00      1.00        14\n",
      "weighted avg       1.00      1.00      1.00        14\n",
      "\n",
      "Acurácia: 100.0 %\n"
     ]
    }
   ],
   "source": [
    "print(\"############## Agoritmo Proposto ##############\\n\")\n",
    "avaliacao(ArvoreTennisEnc.predict(XTennisEnc), YTennisEnc)\n",
    "\n",
    "print(\"\\n############## Modelo Sklearn ##############\\n\")\n",
    "avaliacao(dtTennisEnc.predict(XTennisEnc), YTennisEnc)\n"
   ]
  },
  {
   "cell_type": "markdown",
   "metadata": {},
   "source": [
    "Como podemos ver abaixo, nenhum nó se encaixa nos requisitos de poda, dessa forma nenhum nó é podado para esta árvore."
   ]
  },
  {
   "cell_type": "code",
   "execution_count": null,
   "metadata": {},
   "outputs": [
    {
     "name": "stdout",
     "output_type": "stream",
     "text": [
      "Ciclo 1\n",
      "Nenhum nó podado neste ciclo\n"
     ]
    }
   ],
   "source": [
    "ArvoreTennisEnc.poda(0.33, 3)"
   ]
  },
  {
   "cell_type": "markdown",
   "metadata": {},
   "source": [
    "##### Play Tennis Numérico"
   ]
  },
  {
   "cell_type": "code",
   "execution_count": null,
   "metadata": {},
   "outputs": [
    {
     "name": "stdout",
     "output_type": "stream",
     "text": [
      "############## Agoritmo Proposto ##############\n",
      "\n",
      "[[5 0]\n",
      " [0 9]]\n",
      "              precision    recall  f1-score   support\n",
      "\n",
      "          No       1.00      1.00      1.00         5\n",
      "         Yes       1.00      1.00      1.00         9\n",
      "\n",
      "    accuracy                           1.00        14\n",
      "   macro avg       1.00      1.00      1.00        14\n",
      "weighted avg       1.00      1.00      1.00        14\n",
      "\n",
      "Acurácia: 100.0 %\n"
     ]
    }
   ],
   "source": [
    "print(\"############## Agoritmo Proposto ##############\\n\")\n",
    "avaliacao(ArvoreTennisNum.predict(xtennisNum), ytennisNum)"
   ]
  },
  {
   "cell_type": "markdown",
   "metadata": {},
   "source": [
    "Árvore original antes da poda"
   ]
  },
  {
   "cell_type": "code",
   "execution_count": null,
   "metadata": {},
   "outputs": [
    {
     "name": "stdout",
     "output_type": "stream",
     "text": [
      "'Atributo = 2 // Ramos = [55] <= Valor de corte // Exemplos no Nó = 14'\n",
      "\t\"Atributo = 2 // Ramos = ['Yes'] Folha; // Exemplos no Nó = 5\"\n",
      "\t'Atributo = 2 // Ramos = [65] <= Valor de corte // Exemplos no Nó = 9'\n",
      "\t\t\"Atributo = 2 // Ramos = ['No'] Folha; // Exemplos no Nó = 4\"\n",
      "\t\t'Atributo = 1 // Ramos = [13.5] <= Valor de corte // Exemplos no Nó = 5'\n",
      "\t\t\t\"Atributo = 1 // Ramos = ['No'] Folha; // Exemplos no Nó = 1\"\n",
      "\t\t\t\"Atributo = 1 // Ramos = ['Yes'] Folha; // Exemplos no Nó = 4\"\n",
      "\n"
     ]
    }
   ],
   "source": [
    "print(ArvoreTennisNum)"
   ]
  },
  {
   "cell_type": "markdown",
   "metadata": {},
   "source": [
    "Árvore resultante da poda e sua avaliação de desempenho."
   ]
  },
  {
   "cell_type": "code",
   "execution_count": null,
   "metadata": {},
   "outputs": [
    {
     "name": "stdout",
     "output_type": "stream",
     "text": [
      "Ciclo 1\n",
      "Nó podado:  Atributo = 1 // Ramos = [13.5] <= Valor de corte // Exemplos no Nó = 5\n",
      "Ciclo 2\n",
      "Nenhum nó podado neste ciclo\n"
     ]
    }
   ],
   "source": [
    "ArvoreTennisNum.poda(0.33, 3)"
   ]
  },
  {
   "cell_type": "code",
   "execution_count": null,
   "metadata": {},
   "outputs": [
    {
     "name": "stdout",
     "output_type": "stream",
     "text": [
      "'Atributo = 2 // Ramos = [55] <= Valor de corte // Exemplos no Nó = 14'\n",
      "\t\"Atributo = 2 // Ramos = ['Yes'] Folha; // Exemplos no Nó = 5\"\n",
      "\t'Atributo = 2 // Ramos = [65] <= Valor de corte // Exemplos no Nó = 9'\n",
      "\t\t\"Atributo = 2 // Ramos = ['No'] Folha; // Exemplos no Nó = 4\"\n",
      "\t\t\"Atributo = 1 // Ramos = ['Yes'] Folha; // Exemplos no Nó = 5\"\n",
      "\n"
     ]
    }
   ],
   "source": [
    "print(ArvoreTennisNum)"
   ]
  },
  {
   "cell_type": "code",
   "execution_count": null,
   "metadata": {},
   "outputs": [
    {
     "name": "stdout",
     "output_type": "stream",
     "text": [
      "############## Agoritmo Podado ##############\n",
      "\n",
      "[[4 1]\n",
      " [0 9]]\n",
      "              precision    recall  f1-score   support\n",
      "\n",
      "          No       1.00      0.80      0.89         5\n",
      "         Yes       0.90      1.00      0.95         9\n",
      "\n",
      "    accuracy                           0.93        14\n",
      "   macro avg       0.95      0.90      0.92        14\n",
      "weighted avg       0.94      0.93      0.93        14\n",
      "\n",
      "Acurácia: 92.85714285714286 %\n"
     ]
    }
   ],
   "source": [
    "print(\"############## Agoritmo Podado ##############\\n\")\n",
    "avaliacao(ArvoreTennisNum.predict(xtennisNum), ytennisNum)"
   ]
  },
  {
   "cell_type": "markdown",
   "metadata": {},
   "source": [
    "##### Iris"
   ]
  },
  {
   "cell_type": "code",
   "execution_count": null,
   "metadata": {},
   "outputs": [
    {
     "name": "stdout",
     "output_type": "stream",
     "text": [
      "############## Agoritmo Proposto ##############\n",
      "\n",
      "[[13  0  0]\n",
      " [ 0 15  1]\n",
      " [ 0  0  9]]\n",
      "              precision    recall  f1-score   support\n",
      "\n",
      "      setosa       1.00      1.00      1.00        13\n",
      "  versicolor       1.00      0.94      0.97        16\n",
      "   virginica       0.90      1.00      0.95         9\n",
      "\n",
      "    accuracy                           0.97        38\n",
      "   macro avg       0.97      0.98      0.97        38\n",
      "weighted avg       0.98      0.97      0.97        38\n",
      "\n",
      "Acurácia: 97.36842105263158 %\n",
      "\n",
      "############## Modelo Sklearn ##############\n",
      "\n",
      "[[13  0  0]\n",
      " [ 0 15  1]\n",
      " [ 0  0  9]]\n",
      "              precision    recall  f1-score   support\n",
      "\n",
      "      setosa       1.00      1.00      1.00        13\n",
      "  versicolor       1.00      0.94      0.97        16\n",
      "   virginica       0.90      1.00      0.95         9\n",
      "\n",
      "    accuracy                           0.97        38\n",
      "   macro avg       0.97      0.98      0.97        38\n",
      "weighted avg       0.98      0.97      0.97        38\n",
      "\n",
      "Acurácia: 97.36842105263158 %\n"
     ]
    }
   ],
   "source": [
    "print(\"############## Agoritmo Proposto ##############\\n\")\n",
    "avaliacao(ArvoreIris.predict(X_testIris), y_testIris)\n",
    "\n",
    "print(\"\\n############## Modelo Sklearn ##############\\n\")\n",
    "avaliacao(dtIris.predict(X_testIris), y_testIris)"
   ]
  },
  {
   "cell_type": "markdown",
   "metadata": {},
   "source": [
    "Árvore original antes da poda"
   ]
  },
  {
   "cell_type": "code",
   "execution_count": null,
   "metadata": {},
   "outputs": [
    {
     "name": "stdout",
     "output_type": "stream",
     "text": [
      "'Atributo = 3 // Ramos = [1.] <= Valor de corte // Exemplos no Nó = 112'\n",
      "\t\"Atributo = 3 // Ramos = ['setosa'] Folha; // Exemplos no Nó = 37\"\n",
      "\t'Atributo = 3 // Ramos = [1.7] <= Valor de corte // Exemplos no Nó = 75'\n",
      "\t\t'Atributo = 2 // Ramos = [5.] <= Valor de corte // Exemplos no Nó = 37'\n",
      "\t\t\t\"Atributo = 2 // Ramos = ['versicolor'] Folha; // Exemplos no Nó = 32\"\n",
      "\t\t\t'Atributo = 3 // Ramos = [1.6] <= Valor de corte // Exemplos no Nó = 5'\n",
      "\t\t\t\t\"Atributo = 3 // Ramos = ['virginica'] Folha; // Exemplos no Nó = 3\"\n",
      "\t\t\t\t'Atributo = 2 // Ramos = [5.8] <= Valor de corte // Exemplos no Nó = 2'\n",
      "\t\t\t\t\t\"Atributo = 2 // Ramos = ['versicolor'] Folha; // Exemplos no Nó = 1\"\n",
      "\t\t\t\t\t\"Atributo = 2 // Ramos = ['virginica'] Folha; // Exemplos no Nó = 1\"\n",
      "\t\t'Atributo = 2 // Ramos = [4.9] <= Valor de corte // Exemplos no Nó = 38'\n",
      "\t\t\t'Atributo = 1 // Ramos = [3.2] <= Valor de corte // Exemplos no Nó = 4'\n",
      "\t\t\t\t\"Atributo = 1 // Ramos = ['virginica'] Folha; // Exemplos no Nó = 3\"\n",
      "\t\t\t\t\"Atributo = 1 // Ramos = ['versicolor'] Folha; // Exemplos no Nó = 1\"\n",
      "\t\t\t\"Atributo = 2 // Ramos = ['virginica'] Folha; // Exemplos no Nó = 34\"\n",
      "\n"
     ]
    }
   ],
   "source": [
    "print(ArvoreIris)"
   ]
  },
  {
   "cell_type": "markdown",
   "metadata": {},
   "source": [
    "Árvore resultante da poda e sua avaliação de desempenho."
   ]
  },
  {
   "cell_type": "code",
   "execution_count": null,
   "metadata": {},
   "outputs": [
    {
     "name": "stdout",
     "output_type": "stream",
     "text": [
      "Ciclo 1\n",
      "Nó podado:  Atributo = 1 // Ramos = [3.2] <= Valor de corte // Exemplos no Nó = 4\n",
      "Ciclo 2\n",
      "Nó podado:  Atributo = 2 // Ramos = [4.9] <= Valor de corte // Exemplos no Nó = 38\n",
      "Ciclo 3\n",
      "Nenhum nó podado neste ciclo\n"
     ]
    }
   ],
   "source": [
    "ArvoreIris.poda(0.33, 3)"
   ]
  },
  {
   "cell_type": "code",
   "execution_count": null,
   "metadata": {},
   "outputs": [
    {
     "name": "stdout",
     "output_type": "stream",
     "text": [
      "'Atributo = 3 // Ramos = [1.] <= Valor de corte // Exemplos no Nó = 112'\n",
      "\t\"Atributo = 3 // Ramos = ['setosa'] Folha; // Exemplos no Nó = 37\"\n",
      "\t'Atributo = 3 // Ramos = [1.7] <= Valor de corte // Exemplos no Nó = 75'\n",
      "\t\t'Atributo = 2 // Ramos = [5.] <= Valor de corte // Exemplos no Nó = 37'\n",
      "\t\t\t\"Atributo = 2 // Ramos = ['versicolor'] Folha; // Exemplos no Nó = 32\"\n",
      "\t\t\t'Atributo = 3 // Ramos = [1.6] <= Valor de corte // Exemplos no Nó = 5'\n",
      "\t\t\t\t\"Atributo = 3 // Ramos = ['virginica'] Folha; // Exemplos no Nó = 3\"\n",
      "\t\t\t\t'Atributo = 2 // Ramos = [5.8] <= Valor de corte // Exemplos no Nó = 2'\n",
      "\t\t\t\t\t\"Atributo = 2 // Ramos = ['versicolor'] Folha; // Exemplos no Nó = 1\"\n",
      "\t\t\t\t\t\"Atributo = 2 // Ramos = ['virginica'] Folha; // Exemplos no Nó = 1\"\n",
      "\t\t\"Atributo = 2 // Ramos = ['virginica'] Folha; // Exemplos no Nó = 38\"\n",
      "\n"
     ]
    }
   ],
   "source": [
    "print(ArvoreIris)"
   ]
  },
  {
   "cell_type": "code",
   "execution_count": null,
   "metadata": {},
   "outputs": [
    {
     "name": "stdout",
     "output_type": "stream",
     "text": [
      "############## Agoritmo Podado ##############\n",
      "\n",
      "[[13  0  0]\n",
      " [ 0 15  1]\n",
      " [ 0  0  9]]\n",
      "              precision    recall  f1-score   support\n",
      "\n",
      "      setosa       1.00      1.00      1.00        13\n",
      "  versicolor       1.00      0.94      0.97        16\n",
      "   virginica       0.90      1.00      0.95         9\n",
      "\n",
      "    accuracy                           0.97        38\n",
      "   macro avg       0.97      0.98      0.97        38\n",
      "weighted avg       0.98      0.97      0.97        38\n",
      "\n",
      "Acurácia: 97.36842105263158 %\n"
     ]
    }
   ],
   "source": [
    "print(\"############## Agoritmo Podado ##############\\n\")\n",
    "avaliacao(ArvoreIris.predict(X_testIris), y_testIris)"
   ]
  },
  {
   "cell_type": "markdown",
   "metadata": {},
   "source": [
    "##### Wine"
   ]
  },
  {
   "cell_type": "code",
   "execution_count": null,
   "metadata": {},
   "outputs": [
    {
     "name": "stdout",
     "output_type": "stream",
     "text": [
      "############## Agoritmo Proposto ##############\n",
      "\n",
      "[[15  1  0]\n",
      " [ 0 16  2]\n",
      " [ 0  1 19]]\n",
      "              precision    recall  f1-score   support\n",
      "\n",
      "     class_0       1.00      0.94      0.97        16\n",
      "     class_1       0.89      0.89      0.89        18\n",
      "     class_2       0.90      0.95      0.93        20\n",
      "\n",
      "    accuracy                           0.93        54\n",
      "   macro avg       0.93      0.93      0.93        54\n",
      "weighted avg       0.93      0.93      0.93        54\n",
      "\n",
      "Acurácia: 92.5925925925926 %\n",
      "\n",
      " ############## Modelo Sklearn ##############\n",
      "\n",
      "[[15  1  0]\n",
      " [ 0 16  2]\n",
      " [ 0  1 19]]\n",
      "              precision    recall  f1-score   support\n",
      "\n",
      "     class_0       1.00      0.94      0.97        16\n",
      "     class_1       0.89      0.89      0.89        18\n",
      "     class_2       0.90      0.95      0.93        20\n",
      "\n",
      "    accuracy                           0.93        54\n",
      "   macro avg       0.93      0.93      0.93        54\n",
      "weighted avg       0.93      0.93      0.93        54\n",
      "\n",
      "Acurácia: 92.5925925925926 %\n"
     ]
    }
   ],
   "source": [
    "print(\"############## Agoritmo Proposto ##############\\n\")\n",
    "avaliacao(ArvoreWine.predict(X_testWine), y_testWine)\n",
    "\n",
    "print(\"\\n ############## Modelo Sklearn ##############\\n\")\n",
    "avaliacao(dtWine.predict(X_testWine), y_testWine)"
   ]
  },
  {
   "cell_type": "markdown",
   "metadata": {},
   "source": [
    "Árvore original antes da poda"
   ]
  },
  {
   "cell_type": "code",
   "execution_count": null,
   "metadata": {},
   "outputs": [
    {
     "name": "stdout",
     "output_type": "stream",
     "text": [
      "'Atributo = 9 // Ramos = [-0.60725343] <= Valor de corte // Exemplos no Nó = 124'\n",
      "\t\"Atributo = 9 // Ramos = ['class_1'] Folha; // Exemplos no Nó = 43\"\n",
      "\t'Atributo = 6 // Ramos = [-0.53632625] <= Valor de corte // Exemplos no Nó = 81'\n",
      "\t\t\"Atributo = 6 // Ramos = ['class_2'] Folha; // Exemplos no Nó = 28\"\n",
      "\t\t'Atributo = 12 // Ramos = [0.00164224] <= Valor de corte // Exemplos no Nó = 53'\n",
      "\t\t\t'Atributo = 1 // Ramos = [1.4440327] <= Valor de corte // Exemplos no Nó = 11'\n",
      "\t\t\t\t\"Atributo = 1 // Ramos = ['class_1'] Folha; // Exemplos no Nó = 10\"\n",
      "\t\t\t\t\"Atributo = 1 // Ramos = ['class_0'] Folha; // Exemplos no Nó = 1\"\n",
      "\t\t\t\"Atributo = 12 // Ramos = ['class_0'] Folha; // Exemplos no Nó = 42\"\n",
      "\n"
     ]
    }
   ],
   "source": [
    "print(ArvoreWine)"
   ]
  },
  {
   "cell_type": "markdown",
   "metadata": {},
   "source": [
    "Árvore resultante da poda e sua avaliação de desempenho."
   ]
  },
  {
   "cell_type": "code",
   "execution_count": null,
   "metadata": {},
   "outputs": [
    {
     "name": "stdout",
     "output_type": "stream",
     "text": [
      "Ciclo 1\n",
      "Nó podado:  Atributo = 1 // Ramos = [1.4440327] <= Valor de corte // Exemplos no Nó = 11\n",
      "Ciclo 2\n",
      "Nó podado:  Atributo = 12 // Ramos = [0.00164224] <= Valor de corte // Exemplos no Nó = 53\n",
      "Ciclo 3\n",
      "Nenhum nó podado neste ciclo\n"
     ]
    }
   ],
   "source": [
    "ArvoreWine.poda(0.33, 3)"
   ]
  },
  {
   "cell_type": "code",
   "execution_count": null,
   "metadata": {},
   "outputs": [
    {
     "name": "stdout",
     "output_type": "stream",
     "text": [
      "'Atributo = 9 // Ramos = [-0.60725343] <= Valor de corte // Exemplos no Nó = 124'\n",
      "\t\"Atributo = 9 // Ramos = ['class_1'] Folha; // Exemplos no Nó = 43\"\n",
      "\t'Atributo = 6 // Ramos = [-0.53632625] <= Valor de corte // Exemplos no Nó = 81'\n",
      "\t\t\"Atributo = 6 // Ramos = ['class_2'] Folha; // Exemplos no Nó = 28\"\n",
      "\t\t\"Atributo = 12 // Ramos = ['class_0'] Folha; // Exemplos no Nó = 53\"\n",
      "\n"
     ]
    }
   ],
   "source": [
    "print(ArvoreWine)"
   ]
  },
  {
   "cell_type": "code",
   "execution_count": null,
   "metadata": {},
   "outputs": [
    {
     "name": "stdout",
     "output_type": "stream",
     "text": [
      "############## Agoritmo Podado ##############\n",
      "\n",
      "[[16  0  0]\n",
      " [ 4 12  2]\n",
      " [ 1  0 19]]\n",
      "              precision    recall  f1-score   support\n",
      "\n",
      "     class_0       0.76      1.00      0.86        16\n",
      "     class_1       1.00      0.67      0.80        18\n",
      "     class_2       0.90      0.95      0.93        20\n",
      "\n",
      "    accuracy                           0.87        54\n",
      "   macro avg       0.89      0.87      0.86        54\n",
      "weighted avg       0.89      0.87      0.87        54\n",
      "\n",
      "Acurácia: 87.03703703703704 %\n"
     ]
    }
   ],
   "source": [
    "print(\"############## Agoritmo Podado ##############\\n\")\n",
    "avaliacao(ArvoreWine.predict(X_testWine), y_testWine)"
   ]
  },
  {
   "cell_type": "markdown",
   "metadata": {},
   "source": [
    "##### Breast Cancer"
   ]
  },
  {
   "cell_type": "code",
   "execution_count": null,
   "metadata": {},
   "outputs": [
    {
     "name": "stdout",
     "output_type": "stream",
     "text": [
      "############## Agoritmo Proposto ##############\n",
      "\n",
      "[[71  0]\n",
      " [ 4 39]]\n",
      "              precision    recall  f1-score   support\n",
      "\n",
      "      benign       0.95      1.00      0.97        71\n",
      "   malignant       1.00      0.91      0.95        43\n",
      "\n",
      "    accuracy                           0.96       114\n",
      "   macro avg       0.97      0.95      0.96       114\n",
      "weighted avg       0.97      0.96      0.96       114\n",
      "\n",
      "Acurácia: 96.49122807017544 %\n",
      "\n",
      "############## Modelo Sklearn ##############n\n",
      "[[70  1]\n",
      " [ 4 39]]\n",
      "              precision    recall  f1-score   support\n",
      "\n",
      "      benign       0.95      0.99      0.97        71\n",
      "   malignant       0.97      0.91      0.94        43\n",
      "\n",
      "    accuracy                           0.96       114\n",
      "   macro avg       0.96      0.95      0.95       114\n",
      "weighted avg       0.96      0.96      0.96       114\n",
      "\n",
      "Acurácia: 95.6140350877193 %\n"
     ]
    }
   ],
   "source": [
    "print(\"############## Agoritmo Proposto ##############\\n\")\n",
    "avaliacao(ArvoreCancer.predict(X_testCancer), y_testCancer)\n",
    "\n",
    "print(\"\\n############## Modelo Sklearn ##############n\")\n",
    "avaliacao(dtCancer.predict(X_testCancer), y_testCancer)"
   ]
  },
  {
   "cell_type": "markdown",
   "metadata": {},
   "source": [
    "Árvore original antes da poda"
   ]
  },
  {
   "cell_type": "code",
   "execution_count": null,
   "metadata": {},
   "outputs": [
    {
     "name": "stdout",
     "output_type": "stream",
     "text": [
      "'Atributo = 7 // Ramos = [0.09311633] <= Valor de corte // Exemplos no Nó = 455'\n",
      "\t'Atributo = 20 // Ramos = [0.13626713] <= Valor de corte // Exemplos no Nó = 282'\n",
      "\t\t'Atributo = 13 // Ramos = [0.19156129] <= Valor de corte // Exemplos no Nó = 263'\n",
      "\t\t\t'Atributo = 21 // Ramos = [0.77813892] <= Valor de corte // Exemplos no Nó = 260'\n",
      "\t\t\t\t\"Atributo = 21 // Ramos = ['benign'] Folha; // Exemplos no Nó = 225\"\n",
      "\t\t\t\t'Atributo = 23 // Ramos = [-0.39394683] <= Valor de corte // Exemplos no Nó = 35'\n",
      "\t\t\t\t\t\"Atributo = 23 // Ramos = ['benign'] Folha; // Exemplos no Nó = 25\"\n",
      "\t\t\t\t\t'Atributo = 2 // Ramos = [-0.22812006] <= Valor de corte // Exemplos no Nó = 10'\n",
      "\t\t\t\t\t\t'Atributo = 29 // Ramos = [-0.69596444] <= Valor de corte // Exemplos no Nó = 4'\n",
      "\t\t\t\t\t\t\t\"Atributo = 29 // Ramos = ['benign'] Folha; // Exemplos no Nó = 1\"\n",
      "\t\t\t\t\t\t\t\"Atributo = 29 // Ramos = ['malignant'] Folha; // Exemplos no Nó = 3\"\n",
      "\t\t\t\t\t\t\"Atributo = 2 // Ramos = ['benign'] Folha; // Exemplos no Nó = 6\"\n",
      "\t\t\t'Atributo = 28 // Ramos = [-1.15092154] <= Valor de corte // Exemplos no Nó = 3'\n",
      "\t\t\t\t\"Atributo = 28 // Ramos = ['malignant'] Folha; // Exemplos no Nó = 2\"\n",
      "\t\t\t\t\"Atributo = 28 // Ramos = ['benign'] Folha; // Exemplos no Nó = 1\"\n",
      "\t\t'Atributo = 21 // Ramos = [-0.87410169] <= Valor de corte // Exemplos no Nó = 19'\n",
      "\t\t\t\"Atributo = 21 // Ramos = ['benign'] Folha; // Exemplos no Nó = 6\"\n",
      "\t\t\t'Atributo = 17 // Ramos = [-0.24875045] <= Valor de corte // Exemplos no Nó = 13'\n",
      "\t\t\t\t\"Atributo = 17 // Ramos = ['malignant'] Folha; // Exemplos no Nó = 11\"\n",
      "\t\t\t\t\"Atributo = 17 // Ramos = ['benign'] Folha; // Exemplos no Nó = 2\"\n",
      "\t'Atributo = 22 // Ramos = [0.2248751] <= Valor de corte // Exemplos no Nó = 173'\n",
      "\t\t'Atributo = 21 // Ramos = [0.05022872] <= Valor de corte // Exemplos no Nó = 44'\n",
      "\t\t\t'Atributo = 27 // Ramos = [0.9182202] <= Valor de corte // Exemplos no Nó = 21'\n",
      "\t\t\t\t\"Atributo = 27 // Ramos = ['benign'] Folha; // Exemplos no Nó = 19\"\n",
      "\t\t\t\t\"Atributo = 27 // Ramos = ['malignant'] Folha; // Exemplos no Nó = 2\"\n",
      "\t\t\t'Atributo = 12 // Ramos = [-0.60719916] <= Valor de corte // Exemplos no Nó = 23'\n",
      "\t\t\t\t'Atributo = 29 // Ramos = [0.690597] <= Valor de corte // Exemplos no Nó = 2'\n",
      "\t\t\t\t\t\"Atributo = 29 // Ramos = ['benign'] Folha; // Exemplos no Nó = 1\"\n",
      "\t\t\t\t\t\"Atributo = 29 // Ramos = ['malignant'] Folha; // Exemplos no Nó = 1\"\n",
      "\t\t\t\t\"Atributo = 12 // Ramos = ['malignant'] Folha; // Exemplos no Nó = 21\"\n",
      "\t\t\"Atributo = 22 // Ramos = ['malignant'] Folha; // Exemplos no Nó = 129\"\n",
      "\n"
     ]
    }
   ],
   "source": [
    "print(ArvoreCancer)"
   ]
  },
  {
   "cell_type": "markdown",
   "metadata": {},
   "source": [
    "Árvore resultante da poda e sua avaliação de desempenho."
   ]
  },
  {
   "cell_type": "code",
   "execution_count": null,
   "metadata": {},
   "outputs": [
    {
     "name": "stdout",
     "output_type": "stream",
     "text": [
      "Ciclo 1\n",
      "Nó podado:  Atributo = 29 // Ramos = [-0.69596444] <= Valor de corte // Exemplos no Nó = 4\n",
      "Nó podado:  Atributo = 17 // Ramos = [-0.24875045] <= Valor de corte // Exemplos no Nó = 13\n",
      "Nó podado:  Atributo = 27 // Ramos = [0.9182202] <= Valor de corte // Exemplos no Nó = 21\n",
      "Ciclo 2\n",
      "Nó podado:  Atributo = 21 // Ramos = [-0.87410169] <= Valor de corte // Exemplos no Nó = 19\n",
      "Ciclo 3\n",
      "Nenhum nó podado neste ciclo\n"
     ]
    }
   ],
   "source": [
    "ArvoreCancer.poda(0.33, 3)"
   ]
  },
  {
   "cell_type": "code",
   "execution_count": null,
   "metadata": {},
   "outputs": [
    {
     "name": "stdout",
     "output_type": "stream",
     "text": [
      "'Atributo = 7 // Ramos = [0.09311633] <= Valor de corte // Exemplos no Nó = 455'\n",
      "\t'Atributo = 20 // Ramos = [0.13626713] <= Valor de corte // Exemplos no Nó = 282'\n",
      "\t\t'Atributo = 13 // Ramos = [0.19156129] <= Valor de corte // Exemplos no Nó = 263'\n",
      "\t\t\t'Atributo = 21 // Ramos = [0.77813892] <= Valor de corte // Exemplos no Nó = 260'\n",
      "\t\t\t\t\"Atributo = 21 // Ramos = ['benign'] Folha; // Exemplos no Nó = 225\"\n",
      "\t\t\t\t'Atributo = 23 // Ramos = [-0.39394683] <= Valor de corte // Exemplos no Nó = 35'\n",
      "\t\t\t\t\t\"Atributo = 23 // Ramos = ['benign'] Folha; // Exemplos no Nó = 25\"\n",
      "\t\t\t\t\t'Atributo = 2 // Ramos = [-0.22812006] <= Valor de corte // Exemplos no Nó = 10'\n",
      "\t\t\t\t\t\t\"Atributo = 29 // Ramos = ['malignant'] Folha; // Exemplos no Nó = 4\"\n",
      "\t\t\t\t\t\t\"Atributo = 2 // Ramos = ['benign'] Folha; // Exemplos no Nó = 6\"\n",
      "\t\t\t'Atributo = 28 // Ramos = [-1.15092154] <= Valor de corte // Exemplos no Nó = 3'\n",
      "\t\t\t\t\"Atributo = 28 // Ramos = ['malignant'] Folha; // Exemplos no Nó = 2\"\n",
      "\t\t\t\t\"Atributo = 28 // Ramos = ['benign'] Folha; // Exemplos no Nó = 1\"\n",
      "\t\t\"Atributo = 21 // Ramos = ['malignant'] Folha; // Exemplos no Nó = 19\"\n",
      "\t'Atributo = 22 // Ramos = [0.2248751] <= Valor de corte // Exemplos no Nó = 173'\n",
      "\t\t'Atributo = 21 // Ramos = [0.05022872] <= Valor de corte // Exemplos no Nó = 44'\n",
      "\t\t\t\"Atributo = 27 // Ramos = ['benign'] Folha; // Exemplos no Nó = 21\"\n",
      "\t\t\t'Atributo = 12 // Ramos = [-0.60719916] <= Valor de corte // Exemplos no Nó = 23'\n",
      "\t\t\t\t'Atributo = 29 // Ramos = [0.690597] <= Valor de corte // Exemplos no Nó = 2'\n",
      "\t\t\t\t\t\"Atributo = 29 // Ramos = ['benign'] Folha; // Exemplos no Nó = 1\"\n",
      "\t\t\t\t\t\"Atributo = 29 // Ramos = ['malignant'] Folha; // Exemplos no Nó = 1\"\n",
      "\t\t\t\t\"Atributo = 12 // Ramos = ['malignant'] Folha; // Exemplos no Nó = 21\"\n",
      "\t\t\"Atributo = 22 // Ramos = ['malignant'] Folha; // Exemplos no Nó = 129\"\n",
      "\n"
     ]
    }
   ],
   "source": [
    "print(ArvoreCancer)"
   ]
  },
  {
   "cell_type": "code",
   "execution_count": null,
   "metadata": {},
   "outputs": [
    {
     "name": "stdout",
     "output_type": "stream",
     "text": [
      "############## Agoritmo Podado ##############\n",
      "\n",
      "[[71  0]\n",
      " [ 4 39]]\n",
      "              precision    recall  f1-score   support\n",
      "\n",
      "      benign       0.95      1.00      0.97        71\n",
      "   malignant       1.00      0.91      0.95        43\n",
      "\n",
      "    accuracy                           0.96       114\n",
      "   macro avg       0.97      0.95      0.96       114\n",
      "weighted avg       0.97      0.96      0.96       114\n",
      "\n",
      "Acurácia: 96.49122807017544 %\n"
     ]
    }
   ],
   "source": [
    "print(\"############## Agoritmo Podado ##############\\n\")\n",
    "avaliacao(ArvoreCancer.predict(X_testCancer), y_testCancer)"
   ]
  },
  {
   "cell_type": "markdown",
   "metadata": {},
   "source": [
    "#### Outra implementação da Árvore Utilizando Numpy e Array List do Python"
   ]
  },
  {
   "cell_type": "markdown",
   "metadata": {},
   "source": [
    "Abaixo temos a implementação da Árvore de Decisão utilizando tanto Numpy Arrays e seus métodos quanto Array List do próprio Python. Essa variação apresentou uma acurácia igual, contudo um desempenho muito melhor em relação ao tempo de treinamento. Podemos comparar os tempos no treinamento utilizando a base de Cancer de Mama pela sua grande quantidade de exemplos e atributos. Mesmo o simples emprego do NumPy na função de entropia já ocasionava uma demora maior no treinamento e conforme as demais funções auxiliares foram utilizando apenas os métodos NumPy, mais devagar o modelo treinava."
   ]
  },
  {
   "cell_type": "markdown",
   "metadata": {},
   "source": [
    "##### Código da Árvore e suas funções auxiliares sem o uso extensivo do NumPy (SNP)"
   ]
  },
  {
   "cell_type": "code",
   "execution_count": null,
   "metadata": {},
   "outputs": [],
   "source": [
    "def entropiaSNP(probs: list) -> float:\n",
    "    \"\"\"\n",
    "    Função que recebe um vetor de probabilidades e retorna o cálculo da entropia de Shannon baseado na seguinte fórmula sem utilizar funções do Numpy:\n",
    "    H(x) = -p1*log(p1)-p2*log(p2)-...-pn*log(pn).\n",
    "    :param probs: recebe um array de probabilidades (valores entre 0 e 1)\n",
    "    :return: float Entropia\n",
    "    \"\"\"\n",
    "    h = 0\n",
    "    for p in probs:\n",
    "        if(p!=0):\n",
    "            h = h-p*math.log2(p)\n",
    "    return h\n",
    "\n",
    "def infoTabelaSNP(classes: list)-> float:\n",
    "    \"\"\"\n",
    "    Função que recebe um vetor de classes (rótulos) e retorna a entropia do determinado vetor evitando o uso completo das funções do Numpy.\n",
    "    :param classes: recebe um array de classes (rótulos) \n",
    "    :return float Entropia contida no vetor de classes\n",
    "    \"\"\"\n",
    "    probs = []\n",
    "    _, freq = np.unique(classes, return_counts=True)\n",
    "    for f in freq:\n",
    "        probs.append(f/len(classes))\n",
    "    return entropiaSNP(probs)\n",
    "\n",
    "def ganho_info_categoriaSNP(idx: int, tabela: np.ndarray, classes: np.ndarray) -> float:\n",
    "    \"\"\"\n",
    "    Função que recebe um índice referente a um atributo específico, um array com todos os exemplos da amostra \n",
    "    selecionada e o array contendo as classes desses exemplos e retorna o ganho de informação obtido por esse \n",
    "    determinado atributo. Essa implementação utiliza loops e listas em vários momentos, sem o auxilio do numpy\n",
    "    :param idx: recebe um inteiro que representa o índice do atributo desejado\n",
    "    :param tabela: recebe um array com os exemplos da amostra\n",
    "    :param classes: recebe um array de classes dos exemplos\n",
    "    :return float retorna o ganho de informação do atributo desejado\n",
    "    \"\"\" \n",
    "    infos = []\n",
    "    probs = []\n",
    "    _, freq = np.unique(classes, return_counts=True)\n",
    "    tabelaT = tabela.T\n",
    "    for f in freq:\n",
    "        probs.append(f/len(classes))\n",
    "    infoOriginal = infoTabelaSNP(classes)\n",
    "    freq = []\n",
    "    for val in np.unique(tabelaT[idx]):\n",
    "        idxClasses = np.nonzero(tabelaT[idx]==val)[0]\n",
    "        _, freqRot = np.unique(classes[idxClasses], return_counts=True)\n",
    "        prob = []\n",
    "        n = len(idxClasses)\n",
    "        for f in freqRot:\n",
    "            prob.append(f/n)\n",
    "        infos.append(entropiaSNP(prob))\n",
    "        freq.append(n)\n",
    "    infoNova = 0\n",
    "    for i in range(len(infos)):\n",
    "        infoNova = infoNova + freq[i]*infos[i]\n",
    "    infoNova = infoNova/np.sum(freq)\n",
    "    ganho = infoOriginal - infoNova\n",
    "    return ganho\n",
    "\n",
    "def ganhoCorteSNP(tabela: np.ndarray, classes: np.ndarray, infoOriginal: float, idx: int, corte: float) -> float:\n",
    "    \"\"\"\n",
    "    Função que recebe um array com todos os exemplos da amostra selecionada, o array contendo as classes \n",
    "    desses exemplos, um valor de informação, um índice do atributo desejado, um valor de corte e retorna \n",
    "    o ganho de informação obtido por esse determinado atributo com base no valor de corte especificado.\n",
    "    O uso das funções do Numpy é mais restrita nessa implementação\n",
    "    :param tabela: recebe um array com os exemplos da amostra\n",
    "    :param classes: recebe um array de classes dos exemplos\n",
    "    :param infoOriginal: recebe um float que representa a entropia de todos os exemplos\n",
    "    :param idx: recebe um inteiro que representa o índice do atributo desejado\n",
    "    :param corte: recebe um float que representa o valor de corte desejado\n",
    "    :return float retorna o ganho de informação do atributo desejado\n",
    "    \"\"\"\n",
    "    freq = []\n",
    "    infos = []\n",
    "    for s in [0,1]:\n",
    "        if(s == 0):\n",
    "            idxClasses = np.nonzero(tabela[idx]<corte)[0]\n",
    "        else:\n",
    "            idxClasses = np.nonzero(tabela[idx]>=corte)[0]\n",
    "        _, freqRot = np.unique(classes[idxClasses], return_counts=True)\n",
    "        prob = []\n",
    "        n = len(idxClasses)\n",
    "        for f in freqRot:\n",
    "            prob.append(f/n)\n",
    "        infos.append(entropiaSNP(prob))\n",
    "        freq.append(n)\n",
    "    infoNova = 0\n",
    "    for l in range(len(infos)):\n",
    "        infoNova = infoNova + freq[l]*infos[l]\n",
    "    infoNova = infoNova/np.sum(freq)\n",
    "    ganho = infoOriginal - infoNova\n",
    "    return ganho\n",
    "\n",
    "def ganho_info_numericoSNP(idx: int, tabela: np.ndarray, classes: np.ndarray) -> tuple: \n",
    "    \"\"\"\n",
    "    Função que recebe um índice de determinado atributo, um array com todos os exemplos da amostra selecionada, \n",
    "    um array contendo as classes desses exemplos e retorna o maior ganho de informação obtido por esse determinado \n",
    "    atributo e valor corte que gera essa este ganho de informação. Essa implementação chama as funções SNP (Sem NumPy)\n",
    "    :param idx: recebe um inteiro que representa o índice do atributo desejado\n",
    "    :param tabela: recebe um array com os exemplos da amostra\n",
    "    :param classes: recebe um array de classes dos exemplos\n",
    "    :return retorna o ganho de informação do atributo desejado e o valor de corte encontrado\n",
    "    \"\"\"\n",
    "    ganhoFinal = 0\n",
    "    corteFinal = 0\n",
    "    tabelaT = tabela.T\n",
    "    atributos = np.unique(tabelaT[idx])\n",
    "    infoOriginal = infoTabelaSNP(classes)\n",
    "    n = len(atributos)\n",
    "    if(n==2):\n",
    "        corteFinal = atributos[1]\n",
    "        ganhoFinal = ganhoCorteSNP(tabelaT, classes, infoOriginal, idx, corteFinal)\n",
    "    elif(n>2):\n",
    "        for i in range(len(atributos)):\n",
    "            corte = atributos[i]\n",
    "            ganho = ganhoCorteSNP(tabelaT, classes, infoOriginal, idx, corte)\n",
    "            if(ganhoFinal <= ganho):\n",
    "                ganhoFinal = ganho\n",
    "                corteFinal = corte\n",
    "    return ganhoFinal, corteFinal\n",
    "\n",
    "class ArvoreDecisaoSNP:\n",
    "    def __init__(self, valor=-1,  nramos = 1, valRamos = list(), subnos = list(), corte=False):\n",
    "        \"\"\"\n",
    "        Método que recebe um índice do atributo que o nó representa, o número de ramos que ele possui, um array contendo os \n",
    "        valores do atributo do nó associados a cada subnó, um array contendo os subnós e um indicador se o atributo relacionado \n",
    "        ao nó é numérico ou categórico (possui valor de corte ou não).\n",
    "        :param valor: recebe um inteiro que representa o índice do atributo relacionado ao nó\n",
    "        :param nramos:  recebe um inteiro que indica a quantidade de ramos do nó\n",
    "        :param valRamos: recebe um array com os valores associados aos ramos do nó\n",
    "        :param subnos: recebe um array nós do tipo Árvore de Decisão associados aos ramos\n",
    "        :param corte: recebe um booleano que indica se valor do ramo é um valor de corte e consequentemente se o atributo \n",
    "        do nó é numérico\n",
    "        \"\"\"\n",
    "        self.valor = valor\n",
    "        self.nramos = nramos\n",
    "        self.valRamos = valRamos\n",
    "        self.subnos = subnos\n",
    "        self.corte = corte\n",
    "    \n",
    "    def folha(self):\n",
    "        \"\"\"\n",
    "        Método que indica se o nó da árvore é folha ou não.\n",
    "        :return retorna um booleano indicando se o nó é folha\n",
    "        \"\"\"\n",
    "        return len(self.subnos) == 0\n",
    "\n",
    "    \n",
    "    def __str__(self, level=0) -> str: \n",
    "        \"\"\"\n",
    "        Método que transforma o nó atual em string e os seus ramos recursivamente de maneira estruturada.\n",
    "        :param level recebe um inteiro que indica o nível do nó atual em relação à raíz da árvore.\n",
    "        :return retorna a string estruturada do nó e de seus ramos\n",
    "        \"\"\"\n",
    "        no = \"Atributo = {} // Ramos = {}\".format(self.valor, self.valRamos) + str(\" <= Valor de corte\" if self.corte else \"\") + str(\" Folha;\" if self.folha() else \"\")\n",
    "        ret = \"\\t\"*level+repr(no)+\"\\n\"\n",
    "        for subno in self.subnos:\n",
    "            ret += subno.__str__(level+1)\n",
    "        return ret\n",
    "\n",
    "    def __repr__(self):\n",
    "        \"\"\"\n",
    "        Método que retorna a string que contém o índice do atributo associado ao nó, os valores dos ramos,\n",
    "        as indicações se o nó pussi valor de corte ou se é folha.\n",
    "        :return retorna a string do nó atual\n",
    "        \"\"\"\n",
    "        no = \"Atributo = {} // Ramos = {}\".format(self.valor, self.valRamos) + str(\" <= Valor de corte\" if self.corte else \"\") + str(\" Folha;\" if self.folha() else \"\")\n",
    "        return no\n",
    "    \n",
    "\n",
    "    def fit(self, X: np.ndarray, Y: np.ndarray, atributo=-1, tipoColuna=list()):\n",
    "        \"\"\"\n",
    "        Método que realiza o treinamento da Árvore de Decisão a partir do array contendo os exemplos de \n",
    "        treinamento, um array contendo as classes dos exemplos, o atributo associado ao nó pai, um array \n",
    "        contendo o tipo de cada atributo dos exemplos e retorna o nó raiz da árvore.\n",
    "        :param X recebe um array contendo os exemplos de treinameto\n",
    "        :param Y: recebe um array contendo as classes dos exemplos de treinamento\n",
    "        :param atributo: recebe um inteiro indicando o índice do atributo relacionado ao nó pai\n",
    "        :param tipoColuna: recebe um array contendo o tipo de cada atributo dos exemplos de treinamento\n",
    "        \"\"\"\n",
    "        self.valor=-1\n",
    "        self.valRamos=[]\n",
    "        self.subnos = []\n",
    "        self.corte=False\n",
    "        if( len(np.unique(Y))==1):\n",
    "            self.valor=atributo\n",
    "            self.valRamos=[Y[0]]\n",
    "        else:\n",
    "            Xbest = 0\n",
    "            valorCorteBest = \"\"\n",
    "            Xtransposto = X.T\n",
    "            for col in range(X.shape[1]):\n",
    "                if(type(Xtransposto[Xbest][0])!=str if atributo == -1 else tipoColuna[Xbest] == \"N\"):\n",
    "                    num = ganho_info_numericoSNP(Xbest, X, Y)\n",
    "                    ganhoBest = num[0]\n",
    "                    valorCorteBest = num[1]\n",
    "                else:\n",
    "                    ganhoBest = ganho_info_categoriaSNP(Xbest, X, Y)\n",
    "                    valorCorteBest = \"\"\n",
    "                if(type(Xtransposto[col][0])!=str if atributo == -1 else tipoColuna[Xbest] == \"N\"):\n",
    "                    if(atributo==-1):\n",
    "                        tipoColuna = np.append(tipoColuna,\"N\")\n",
    "                    num = ganho_info_numericoSNP(col, X, Y)\n",
    "                    ganhoCol = num[0]\n",
    "                    valorCorte = num[1]\n",
    "                else:\n",
    "                    if(atributo==-1):\n",
    "                        tipoColuna = np.append(tipoColuna,\"C\")\n",
    "                    ganhoCol = ganho_info_categoriaSNP(col, X, Y)\n",
    "                    valorCorte=\"\"\n",
    "                if(ganhoCol>= ganhoBest):\n",
    "                    Xbest =  col\n",
    "                    valorCorteBest = valorCorte\n",
    "            if(valorCorteBest!=\"\"):\n",
    "                valRamos = [valorCorteBest]\n",
    "                self.valor=Xbest; self.nramos=len(valRamos); self.valRamos=valRamos; self.corte=True\n",
    "                idxVal = np.nonzero(Xtransposto[Xbest]<valorCorteBest)[0]\n",
    "                self.subnos = np.append(self.subnos, ArvoreDecisaoSNP())\n",
    "                self.subnos[0].fit(X[idxVal], Y[idxVal], Xbest, tipoColuna=tipoColuna)\n",
    "                idxVal = np.nonzero(Xtransposto[Xbest]>=valorCorteBest)[0]\n",
    "                self.subnos = np.append(self.subnos, ArvoreDecisaoSNP())\n",
    "                self.subnos[1].fit(X[idxVal], Y[idxVal], Xbest, tipoColuna=tipoColuna)\n",
    "            else:\n",
    "                valRamos = np.unique(Xtransposto[Xbest])\n",
    "                self.valor=Xbest; self.nramos=len(valRamos); self.valRamos=valRamos\n",
    "                for i, val in enumerate(valRamos):\n",
    "                    idxVal = np.nonzero(Xtransposto[Xbest]==val)[0]\n",
    "                    self.subnos = np.append(self.subnos, ArvoreDecisaoSNP())\n",
    "                    self.subnos[i].fit(X[idxVal], Y[idxVal], Xbest, tipoColuna=tipoColuna)\n",
    "\n",
    "    def predictOne(self, X:np.ndarray):\n",
    "        \"\"\"\n",
    "        Método que realiza a predição de um exemplo ao percorrer a árvore e retornando a classe do nó folha encontrado\n",
    "        :param X recebe um array contendo os atributos do exemplo de treinamento\n",
    "        :return retorna a classe predita do exemplo passado\n",
    "        \"\"\"\n",
    "        if(self.folha()):\n",
    "            return self.valRamos[0]\n",
    "        elif(self.corte):\n",
    "             if(X[self.valor]<self.valRamos[0]):\n",
    "                return self.subnos[0].predictOne(X)\n",
    "             else:\n",
    "                 return self.subnos[1].predictOne(X)\n",
    "        else:\n",
    "            for i in range(self.nramos):\n",
    "                if(X[self.valor]==self.valRamos[i]):\n",
    "                    return self.subnos[i].predictOne(X)\n",
    "            \n",
    "    def predict(self, X:np.ndarray):\n",
    "        \"\"\"\n",
    "        Método que realiza a predição de vários exemplos\n",
    "        :param X recebe um array contendo os exemplos de treinamento\n",
    "        :return retorna um array com as classes preditas dos exemplos passado\n",
    "        \"\"\"\n",
    "        ypred = []\n",
    "        for x in X:\n",
    "            ypred.append(self.predictOne(x))\n",
    "        return ypred"
   ]
  },
  {
   "cell_type": "markdown",
   "metadata": {},
   "source": [
    "##### Comparação do tempo"
   ]
  },
  {
   "cell_type": "code",
   "execution_count": null,
   "metadata": {},
   "outputs": [],
   "source": [
    "ArvoreSNP = ArvoreDecisaoSNP()\n",
    "inicioSNP = time.time()\n",
    "ArvoreSNP.fit(X_trainCancer, y_trainCancer)\n",
    "TtrainSNP =  time.time()-inicioSNP"
   ]
  },
  {
   "cell_type": "code",
   "execution_count": null,
   "metadata": {},
   "outputs": [],
   "source": [
    "ArvoreCNP = ArvoreDecisao()\n",
    "inicioCNP =  time.time()\n",
    "ArvoreCNP.fit(X_trainCancer, y_trainCancer)\n",
    "TtrainCNP =  time.time()-inicioCNP"
   ]
  },
  {
   "cell_type": "code",
   "execution_count": null,
   "metadata": {},
   "outputs": [],
   "source": [
    "dt = DecisionTreeClassifier(criterion=\"entropy\")\n",
    "inicioSKL =  time.time()\n",
    "dt.fit(X_trainCancer, y_trainCancer)\n",
    "TtrainSKL =  time.time()-inicioSKL"
   ]
  },
  {
   "cell_type": "code",
   "execution_count": null,
   "metadata": {},
   "outputs": [
    {
     "name": "stdout",
     "output_type": "stream",
     "text": [
      "Tempo de execução do Algoritmo 100% NumPy: 16.3639 segundos\n",
      "Tempo de execução do Algoritmo Misto entre NumPy e Array List: 12.3714 segundos\n",
      "Tempo de execução do modelo do Sklearn: 0.0090 segundos\n"
     ]
    }
   ],
   "source": [
    "print(\"Tempo de execução do Algoritmo 100% NumPy: {:.4f} segundos\".format(TtrainCNP))\n",
    "print(\"Tempo de execução do Algoritmo Misto entre NumPy e Array List: {:.4f} segundos\".format(TtrainSNP))\n",
    "print(\"Tempo de execução do modelo do Sklearn: {:.4f} segundos\".format(TtrainSKL))"
   ]
  },
  {
   "cell_type": "markdown",
   "metadata": {},
   "source": [
    "#### Discussão Árvore de Decisão"
   ]
  },
  {
   "cell_type": "markdown",
   "metadata": {},
   "source": [
    "<div style=\"text-align: justify\">\n",
    "Ao desenvolver a seção de \"Avaliação dos Modelos\", inicialmente apenas uma predição de base de dados obteve acurácia menor que a obtida pelo modelo importado da biblioteca `sklearn`, a predição realizada na base Iris. Os primeiros resultados eram de 94% de acurácia para o algoritmo implementado e 97% para o modelo importado, isso ocorria por conta da montagem da árvore durante a escolha do primeiro atributo com maior ganho de informação. 2 atributos possuiam o mesmo ganho e nesse caso o algoritmo desenvolvido selecionava o primeiro enquanto que o modelo de referência selecionava o segundo atributo. Dessa forma, a escolha de atributos com o mesmo ganho foi alterada nas funções de fit apra a escolha do último atributo que apresentou o maior valor de ganho. Essa mudaça garantiu a confecção da mesma árvore entres os modelos após o treinamento na base Iris, o que consequentemente igualou as acurácias entres os dois modelos em 97%. Contudo, houve uma mudança no treinamento com a base de Câncer de Mama (Breast Cancer), na qual a acurácia saltou de 95,61% para 96,49%. superando a acurácia de teste do modelo de referência que varia entre 94% e 95%.\n",
    "<div>"
   ]
  },
  {
   "cell_type": "markdown",
   "metadata": {},
   "source": [
    "O algoritmo de poda das árvores desenvolvido foi o mais simples possível afim de não adicionar mais complexidade ao modelo e funciona bem. O impacto final na acurácia do modelo acabou sendo mínima na maioria dos casos. Contudo, po conta de sua simplicidade, para se obter uma poda maior é preciso usar porcentagens de corte muito altas e muitos ciclos, o que pode prejudicar bastante o desempenho final do modelo."
   ]
  },
  {
   "cell_type": "markdown",
   "metadata": {},
   "source": [
    "<div style=\"text-align: justify\">\n",
    "Os resultados obtidos foram muito além do esperado para a Árvore Decisão, já que as métricas de avaliação foram semelhantes e até melhores em certos casos em relação ao modelo de referência. Dito isso, é comprovada a eficácia do método de seleção de atributos a partir do cálculo da Entropia de Shannon e do ganho de informação. Além disso, é possível notar o impacto que diferentes estratégias de implementação podem causar no desempenho do modelo, tanto na sua acurácia como no tempo de treinamento. Portanto é de fundamental importância o desenvolvedor estar alinhado com as técnicas de aprendizado de máquina afim de saber tratar exceções e otimizar seus modelos.\n",
    "<div>"
   ]
  },
  {
   "cell_type": "markdown",
   "metadata": {},
   "source": [
    "### k-NN (k Nearest Neighbours)"
   ]
  },
  {
   "cell_type": "markdown",
   "metadata": {},
   "source": [
    "<div style=\" text-align: justify;\">\n",
    "O k-NN é um algoritmo de apredizagem de máquina também muito utilizado no apredizado supervisionado. Sua principal característica é a classificação de exemplos a partir da semelhança entre seus atributos. Essa semelhança é calculada utilizando uma função de distância, no caso do trabalho a função de distância implementada é a Distância Euclidiana. O algoritmo consegue classificar conjuntos com atributos numéricos e categóricos codificados e recebe como entrada um DataFrame do Pandas. Além disso, foi implementada a seleção de protótipos tanto pelo método de falsos vizinhos como pela clusterização do k-means.\n",
    "<div>"
   ]
  },
  {
   "cell_type": "markdown",
   "metadata": {},
   "source": [
    "#### Definição da classe do k-NN"
   ]
  },
  {
   "cell_type": "markdown",
   "metadata": {},
   "source": [
    "Abaixo temos a implementação da classe do k-NN. Ao todo ela possui 6 métodos, sendo 1 de treinamento, 1 para predição, 2 para a seleção de protótipos, 1 para o cálculo da distância e o último de inicialização."
   ]
  },
  {
   "cell_type": "markdown",
   "metadata": {},
   "source": [
    "- **\\_\\_init\\_\\_:** O método de inicialização deve receber 1 parâmetros obrigatório, sendo o número de vizinhos a ser selecionado."
   ]
  },
  {
   "cell_type": "markdown",
   "metadata": {},
   "source": [
    "- **dist_euclidiana:** O método que calcula a distância euclidiana entre dois valores."
   ]
  },
  {
   "cell_type": "markdown",
   "metadata": {},
   "source": [
    "- **prototypesFV:** O método que realiza a seleção de protótipos utilizando o algoritmo de falsos vizinhos. Para cada exemplo de treino é calculada a distância para os demais exemplos, em seguida é selecionada os k exemplos com menores distâncias. Em seguida é verificada o rótulo de cada um desses exemplos. Se houver algum com rótulo diferente do rótulo do exemplo original, então o vizinho é contabilizado como falso vizinho. Em seguida, se a quantidade de falsos vizinhos for de no máximo 1 esse exemplo é selecionado para ser protótipo, caso contrário ele será ignorado na predição."
   ]
  },
  {
   "cell_type": "markdown",
   "metadata": {},
   "source": [
    "- **prototypesKM:** O método que realiza a seleção de protótipos utilizando o algoritmo de k-Means. Primeiramente é definida a quantidade de centroídes a ser calculada, sendo ela a divisão entre a quantidade de exemplos e a quantidade de vizinhos desejada (k). Em seguida é aplicado o `KMeans` do `Sklearn` para o agrupamento e separados os centroídes. Em seguida é calculada a distância de cada exemplo de treino tem de cada centroíde e os exemplos com as menores são selecionados para serem os protótipos."
   ]
  },
  {
   "cell_type": "markdown",
   "metadata": {},
   "source": [
    "- **fit:** O método que realiza o treinamento do k-NN. Seus parâmetros são os exemplos de treino, suas respectivas classes, um booleano para a indicação do uso dos protótipos e o método de cálculo dos protótipos (\"KM\" para KMeans e \"FV\" para Falsos Vizinhos). O algoritmo implementado aceita apenas DataFrames do Pandas como exemplos de treino e Séries do panda como rótulo. **O modelo NÃO aceita Arrays Lists ou Numpy Arrays.**  \n",
    "A principio o algoritmo apenas armazena os exemplos de treino e seus rótulos. Caso o parâmetro _selectprototypes_ for verdadeiro, então será executada o método de falsos vizinhos _prototypesFV_ por padrão, caso o parâmetro _prototypesMethod_ tenha especificado o tipo de seleção, será aplicada a correspondente (`\"FV\"` para Falsos Vizinhos e `\"KM\"` para KMeans)."
   ]
  },
  {
   "cell_type": "markdown",
   "metadata": {},
   "source": [
    "- **predict:** O método que realiza a predição da classe para vários exemplos. Ele recebe como parâmetro um Dataframe com os exemplos de teste e para cada um deles é calculada a distância entre os exemplos de treino. Assim é selecionado os k vizinhos com menores distâncias para cada exemplo de teste e por voto majoritário selecionado o rótulo do exemplo."
   ]
  },
  {
   "cell_type": "code",
   "execution_count": null,
   "metadata": {},
   "outputs": [],
   "source": [
    "class KNN:\n",
    "    def __init__(self, k=1):\n",
    "        \"\"\"\n",
    "        Método que recebe o número de vizinhos desejados para o algoritmo.\n",
    "        :param k: recebe um inteiro que representa o número de vizinhos\n",
    "        \"\"\"\n",
    "        self.k = k\n",
    "        self.X_treino = None\n",
    "        self.y_treino = None\n",
    "    \n",
    "    def dist_euclidiana(self, arg1: np.ndarray, arg2: np.ndarray):\n",
    "        \"\"\"\n",
    "        Método que recebe dois valores e retorna a distância euclidiana entre eles.\n",
    "        :param arg1: recebe um vetor de atributos do exemplo\n",
    "        :param arg2: recebe um vetor de atributos de outro exemplo\n",
    "        :return retorna um float com a distância entre os dois vetores\n",
    "        \"\"\"\n",
    "        return np.linalg.norm(arg1 - arg2)\n",
    "\n",
    "    def prototypesFV(self, X_treino: pd.DataFrame, y_treino: pd.Series):\n",
    "        \"\"\"\n",
    "        Método que recebe um DataFrame com os exemplos de treino e uma Série com os rótulos\n",
    "        dos exemplos e realiza a seleção dos protótipos utilizando o método de Falsos Vizinhos.\n",
    "        Em seguida, descarta do armazenamento os exemplos com mais de 1 falso vizinho.\n",
    "        :param X_treino: recebe um Dataframe com os exemplos de treino\n",
    "        :param y_treino: recebe uma Serie com os rótulos dos exemplos de treino\n",
    "        \"\"\"\n",
    "        id_prototypes = []\n",
    "        len_xt = range(len(X_treino))\n",
    "        \n",
    "        for i in len_xt:\n",
    "            distancias = []\n",
    "\n",
    "            for j in len_xt:\n",
    "                dists = self.dist_euclidiana(X_treino.iloc[i].values, X_treino.iloc[j].values)\n",
    "                distancias.append(dists)\n",
    "\n",
    "            i_menores = pd.Series(distancias).nsmallest(self.k).index\n",
    "            species_proximas = self.y_treino.iloc[i_menores].value_counts()\n",
    "        \n",
    "            falsos_visinhos = species_proximas.sum() - species_proximas[y_treino.iloc[i]]\n",
    "            if falsos_visinhos < 2:\n",
    "                id_prototypes.append(i)\n",
    "                \n",
    "        self.X_treino = X_treino.iloc[id_prototypes]\n",
    "        self.y_treino = y_treino.iloc[id_prototypes]\n",
    "\n",
    "    def prototypesKM(self, X_treino: pd.DataFrame, y_treino: pd.Series):\n",
    "        \"\"\"\n",
    "        Método que recebe um DataFrame com os exemplos de treino e uma Série com os rótulos\n",
    "        dos exemplos e realiza a seleção dos protótipos utilizando o método de KMeans.\n",
    "        Em seguida, descarta do armazenamento os exemplos com as maiores distâncias entre os\n",
    "        centróides encontrado pelo KMeans.\n",
    "        :param X_treino: recebe um Dataframe com os exemplos de treino\n",
    "        :param y_treino: recebe uma Serie com os rótulos dos exemplos de treino\n",
    "        \"\"\"\n",
    "        n_prototypes = len(X_treino) // self.k \n",
    "        kmeans = KMeans(n_clusters=n_prototypes,random_state=0, n_init=10)\n",
    "        kmeans.fit(X_treino)\n",
    "    \n",
    "        centroids = kmeans.cluster_centers_\n",
    "\n",
    "        id_prototypes = []\n",
    "        for x in X_treino.values:\n",
    "            distancias = []\n",
    "\n",
    "            for centroid in centroids:\n",
    "                dists = self.dist_euclidiana(x, centroid)\n",
    "                distancias.append(dists)\n",
    "\n",
    "            id_prototypes.append(np.argmin(distancias)) \n",
    "\n",
    "        select_prototypes = np.unique(id_prototypes)\n",
    "        \n",
    "        self.X_treino = X_treino.iloc[select_prototypes]\n",
    "        self.y_treino = y_treino.iloc[select_prototypes]\n",
    "\n",
    "    def fit(self, X_treino: pd.DataFrame, y_treino: pd.Series, selectprototypes=False, prototypesMethod='FV'):\n",
    "        \"\"\"\n",
    "        Método que recebe um DataFrame com os exemplos de treino, uma Série com os rótulos\n",
    "        dos exemplos, um booleando indicando a seleção de protótipos e um string indicando qual método de seleção.\n",
    "        Os exemplos de treino são armazenados junto com seus rótulos. Caso tenha que selecionar protótipos,\n",
    "        será aplicado método correspondente ao selecionado no parâmetro prototypesMethod\n",
    "        :param X_treino: recebe um Dataframe com os exemplos de treino\n",
    "        :param y_treino: recebe uma Serie com os rótulos dos exemplos de treino\n",
    "        :param selectprototypes: recebe um booleando com a indição da seleção de protótipos\n",
    "        :param prototypesMethod: recebe uma string com a indicação do método de seleção de protótipos ('FV' para Falsos Vizinhos e 'KM' para KMeans)\n",
    "        \"\"\"\n",
    "        self.X_treino = X_treino\n",
    "        self.y_treino = y_treino\n",
    "\n",
    "        if selectprototypes == True:\n",
    "            if prototypesMethod == 'FV':\n",
    "                self.prototypesFV(X_treino, y_treino)\n",
    "            elif prototypesMethod == 'KM':\n",
    "                self.prototypesKM(X_treino, y_treino)\n",
    "\n",
    "    def predict(self, X_teste: pd.DataFrame):\n",
    "        \"\"\"\n",
    "        Método que recebe um DataFrame com os exemplos de teste e percorre por eles calculando para cada um a distância entre ele e\n",
    "        os exemplos de treinamento salvos. Em seguida seleciona para cada um os k vizinhos com menores distâncias e classifica o exemplo\n",
    "        pelo voto majoritário entre os rótulos dos k vizinhos.\n",
    "        :param X_treino: recebe um Dataframe com os exemplos de teste\n",
    "        :return retorna uma lista de rótulos previstos pelo modelo.\n",
    "        \"\"\"\n",
    "        y_pred = []\n",
    "        for i in range(len(X_teste)):\n",
    "            distancias = []\n",
    "\n",
    "            for j in range(len(self.X_treino)):\n",
    "                dists = self.dist_euclidiana(X_teste.iloc[i].values, self.X_treino.iloc[j].values)\n",
    "                distancias.append(dists)\n",
    "\n",
    "            i_menores = pd.Series(distancias).nsmallest(self.k).index\n",
    "            especies = self.y_treino.iloc[i_menores]\n",
    "            mais_proximo = especies.mode().iloc[0]\n",
    "            y_pred.append(mais_proximo)\n",
    "\n",
    "        return y_pred\n",
    "    \n"
   ]
  },
  {
   "cell_type": "markdown",
   "metadata": {},
   "source": [
    "#### Treinamento e Avaliação do K-NN"
   ]
  },
  {
   "cell_type": "markdown",
   "metadata": {},
   "source": [
    "A seguir será feito treinamento e a avaliação de desempenho dos modelos utilizando os conjuntos de dados apresentados anteriormente e verificando o tempo de predição para comparar a seleção de protótipos."
   ]
  },
  {
   "cell_type": "markdown",
   "metadata": {},
   "source": [
    "##### Play Tennis K-NN Codificado"
   ]
  },
  {
   "cell_type": "code",
   "execution_count": null,
   "metadata": {},
   "outputs": [
    {
     "name": "stdout",
     "output_type": "stream",
     "text": [
      "############## Agoritmo K-NN sem seleção protótipos ##############\n",
      "\n",
      "[[3 1]\n",
      " [2 8]]\n",
      "              precision    recall  f1-score   support\n",
      "\n",
      "          No       0.60      0.75      0.67         4\n",
      "         Yes       0.89      0.80      0.84        10\n",
      "\n",
      "    accuracy                           0.79        14\n",
      "   macro avg       0.74      0.78      0.75        14\n",
      "weighted avg       0.81      0.79      0.79        14\n",
      "\n",
      "Acurácia: 78.57142857142857 %\n",
      "Tempo total para predição: 0.022999286651611328 segundos\n"
     ]
    }
   ],
   "source": [
    "knn_tennis = KNN(3)\n",
    "knn_tennis.fit(XTennisEncPD, YTennisEncPD)\n",
    "start_time = time.time()\n",
    "y_pred_tennis = knn_tennis.predict(XTennisEncPD)\n",
    "total_time_tennis = time.time() - start_time\n",
    "print(\"############## Agoritmo K-NN sem seleção protótipos ##############\\n\")\n",
    "avaliacao(YTennisEncPD, y_pred_tennis)\n",
    "print(\"Tempo total para predição:\", total_time_tennis, \"segundos\")"
   ]
  },
  {
   "cell_type": "code",
   "execution_count": null,
   "metadata": {},
   "outputs": [
    {
     "name": "stdout",
     "output_type": "stream",
     "text": [
      "\n",
      "############## Agoritmo K-NN com Falsos Vizinhos ##############\n",
      "\n",
      "[[3 1]\n",
      " [2 8]]\n",
      "              precision    recall  f1-score   support\n",
      "\n",
      "          No       0.60      0.75      0.67         4\n",
      "         Yes       0.89      0.80      0.84        10\n",
      "\n",
      "    accuracy                           0.79        14\n",
      "   macro avg       0.74      0.78      0.75        14\n",
      "weighted avg       0.81      0.79      0.79        14\n",
      "\n",
      "Acurácia: 78.57142857142857 %\n",
      "Tempo total para predição: 0.015000104904174805 segundos\n",
      "Redução de 34.78 % no tempo de predição\n"
     ]
    }
   ],
   "source": [
    "knn_tennis_FV = KNN(3)\n",
    "knn_tennis_FV.fit(XTennisEncPD, YTennisEncPD, True, \"FV\")\n",
    "start_time = time.time()\n",
    "y_pred_tennis = knn_tennis_FV.predict(XTennisEncPD)\n",
    "total_time_tennisFV = time.time() - start_time\n",
    "print(\"\\n############## Agoritmo K-NN com Falsos Vizinhos ##############\\n\")\n",
    "avaliacao(YTennisEncPD, y_pred_tennis)\n",
    "print(\"Tempo total para predição:\", total_time_tennisFV, \"segundos\")\n",
    "print(\"Redução de\", np.round((1-(total_time_tennisFV/total_time_tennis))*100, 2), \"% no tempo de predição\")\n"
   ]
  },
  {
   "cell_type": "code",
   "execution_count": null,
   "metadata": {},
   "outputs": [
    {
     "name": "stderr",
     "output_type": "stream",
     "text": [
      "c:\\Users\\dan-s\\anaconda3\\Lib\\site-packages\\sklearn\\cluster\\_kmeans.py:1436: UserWarning: KMeans is known to have a memory leak on Windows with MKL, when there are less chunks than available threads. You can avoid it by setting the environment variable OMP_NUM_THREADS=1.\n",
      "  warnings.warn(\n"
     ]
    },
    {
     "name": "stdout",
     "output_type": "stream",
     "text": [
      "\n",
      "############## Agoritmo K-NN com KMeans ##############\n",
      "\n",
      "[[5 4]\n",
      " [0 5]]\n",
      "              precision    recall  f1-score   support\n",
      "\n",
      "          No       1.00      0.56      0.71         9\n",
      "         Yes       0.56      1.00      0.71         5\n",
      "\n",
      "    accuracy                           0.71        14\n",
      "   macro avg       0.78      0.78      0.71        14\n",
      "weighted avg       0.84      0.71      0.71        14\n",
      "\n",
      "Acurácia: 71.42857142857143 %\n",
      "Tempo total para predição: 0.014999866485595703 segundos\n",
      "Redução de 34.78 % no tempo de predição\n"
     ]
    }
   ],
   "source": [
    "knn_tennis_KM = KNN(3)\n",
    "knn_tennis_KM.fit(XTennisEncPD, YTennisEncPD, True, \"KM\")\n",
    "start_time = time.time()\n",
    "y_pred_tennis = knn_tennis_KM.predict(XTennisEncPD)\n",
    "total_time_tennisKM = time.time() - start_time\n",
    "print(\"\\n############## Agoritmo K-NN com KMeans ##############\\n\")\n",
    "avaliacao(YTennisEncPD, y_pred_tennis)\n",
    "print(\"Tempo total para predição:\", total_time_tennisKM, \"segundos\")\n",
    "print(\"Redução de\", np.round((1-(total_time_tennisKM/total_time_tennis))*100, 2), \"% no tempo de predição\")"
   ]
  },
  {
   "cell_type": "code",
   "execution_count": null,
   "metadata": {},
   "outputs": [
    {
     "name": "stdout",
     "output_type": "stream",
     "text": [
      "\n",
      "############## Agoritmo Sklearn ##############\n",
      "\n",
      "[[3 1]\n",
      " [2 8]]\n",
      "              precision    recall  f1-score   support\n",
      "\n",
      "          No       0.60      0.75      0.67         4\n",
      "         Yes       0.89      0.80      0.84        10\n",
      "\n",
      "    accuracy                           0.79        14\n",
      "   macro avg       0.74      0.78      0.75        14\n",
      "weighted avg       0.81      0.79      0.79        14\n",
      "\n",
      "Acurácia: 78.57142857142857 %\n",
      "Tempo total para predição: 0.002001047134399414 segundos\n"
     ]
    }
   ],
   "source": [
    "knn_sk = KNeighborsClassifier(n_neighbors=3)\n",
    "\n",
    "knn_sk.fit(XTennisEncPD, YTennisEncPD)\n",
    "start_time = time.time()\n",
    "y_pred_sk_iris = knn_sk.predict(XTennisEncPD)\n",
    "end_time = time.time()\n",
    "total_time_skiris = end_time - start_time\n",
    "\n",
    "print(\"\\n############## Agoritmo Sklearn ##############\\n\")\n",
    "avaliacao(YTennisEncPD, y_pred_sk_iris)\n",
    "print(\"Tempo total para predição:\", total_time_skiris, \"segundos\")"
   ]
  },
  {
   "cell_type": "markdown",
   "metadata": {},
   "source": [
    "##### Conjunto Iris"
   ]
  },
  {
   "cell_type": "code",
   "execution_count": null,
   "metadata": {},
   "outputs": [
    {
     "name": "stdout",
     "output_type": "stream",
     "text": [
      "############## Agoritmo K-NN sem seleção protótipos ##############\n",
      "\n",
      "[[13  0  0]\n",
      " [ 0 16  0]\n",
      " [ 0  0  9]]\n",
      "              precision    recall  f1-score   support\n",
      "\n",
      "      setosa       1.00      1.00      1.00        13\n",
      "  versicolor       1.00      1.00      1.00        16\n",
      "   virginica       1.00      1.00      1.00         9\n",
      "\n",
      "    accuracy                           1.00        38\n",
      "   macro avg       1.00      1.00      1.00        38\n",
      "weighted avg       1.00      1.00      1.00        38\n",
      "\n",
      "Acurácia: 100.0 %\n",
      "Tempo total para predição: 0.2409982681274414 segundos\n"
     ]
    }
   ],
   "source": [
    "knn_Iris = KNN(5)\n",
    "knn_Iris.fit(X_trainIrisPD, y_trainIrisPD)\n",
    "start_time = time.time()\n",
    "y_pred_Iris = knn_Iris.predict(X_testIrisPD)\n",
    "total_time_Iris = time.time() - start_time\n",
    "print(\"############## Agoritmo K-NN sem seleção protótipos ##############\\n\")\n",
    "avaliacao(y_testIrisPD, y_pred_Iris)\n",
    "print(\"Tempo total para predição:\", total_time_Iris, \"segundos\")\n"
   ]
  },
  {
   "cell_type": "code",
   "execution_count": null,
   "metadata": {},
   "outputs": [
    {
     "name": "stdout",
     "output_type": "stream",
     "text": [
      "\n",
      "############## Agoritmo K-NN com Falsos Vizinhos ##############\n",
      "\n",
      "[[13  0  0]\n",
      " [ 0 15  0]\n",
      " [ 0  1  9]]\n",
      "              precision    recall  f1-score   support\n",
      "\n",
      "      setosa       1.00      1.00      1.00        13\n",
      "  versicolor       0.94      1.00      0.97        15\n",
      "   virginica       1.00      0.90      0.95        10\n",
      "\n",
      "    accuracy                           0.97        38\n",
      "   macro avg       0.98      0.97      0.97        38\n",
      "weighted avg       0.98      0.97      0.97        38\n",
      "\n",
      "Acurácia: 97.36842105263158 %\n",
      "Tempo total para predição: 0.20200014114379883 segundos\n",
      "Redução de 16.18 % no tempo de predição\n"
     ]
    }
   ],
   "source": [
    "knn_Iris_FV = KNN(5)\n",
    "knn_Iris_FV.fit(X_trainIrisPD, y_trainIrisPD, True, \"FV\")\n",
    "start_time = time.time()\n",
    "y_pred_Iris = knn_Iris_FV.predict(X_testIrisPD)\n",
    "total_time_IrisFV = time.time() - start_time\n",
    "print(\"\\n############## Agoritmo K-NN com Falsos Vizinhos ##############\\n\")\n",
    "avaliacao(y_testIrisPD, y_pred_Iris)\n",
    "print(\"Tempo total para predição:\", total_time_IrisFV, \"segundos\")\n",
    "print(\"Redução de\", np.round((1-(total_time_IrisFV/total_time_Iris))*100, 2), \"% no tempo de predição\")"
   ]
  },
  {
   "cell_type": "code",
   "execution_count": null,
   "metadata": {},
   "outputs": [
    {
     "name": "stderr",
     "output_type": "stream",
     "text": [
      "c:\\Users\\dan-s\\anaconda3\\Lib\\site-packages\\sklearn\\cluster\\_kmeans.py:1436: UserWarning: KMeans is known to have a memory leak on Windows with MKL, when there are less chunks than available threads. You can avoid it by setting the environment variable OMP_NUM_THREADS=1.\n",
      "  warnings.warn(\n"
     ]
    },
    {
     "name": "stdout",
     "output_type": "stream",
     "text": [
      "\n",
      "############## Agoritmo K-NN com KMeans ##############\n",
      "\n",
      "[[13  0  0]\n",
      " [ 0 15  0]\n",
      " [ 0  1  9]]\n",
      "              precision    recall  f1-score   support\n",
      "\n",
      "      setosa       1.00      1.00      1.00        13\n",
      "  versicolor       0.94      1.00      0.97        15\n",
      "   virginica       1.00      0.90      0.95        10\n",
      "\n",
      "    accuracy                           0.97        38\n",
      "   macro avg       0.98      0.97      0.97        38\n",
      "weighted avg       0.98      0.97      0.97        38\n",
      "\n",
      "Acurácia: 97.36842105263158 %\n",
      "Tempo total para predição: 0.08000063896179199 segundos\n",
      "Redução de 66.8 % no tempo de predição\n"
     ]
    }
   ],
   "source": [
    "knn_Iris_KM = KNN(5)\n",
    "knn_Iris_KM.fit(X_trainIrisPD, y_trainIrisPD, True, \"KM\")\n",
    "start_time = time.time()\n",
    "y_pred_Iris = knn_Iris_KM.predict(X_testIrisPD)\n",
    "total_time_IrisKM = time.time() - start_time\n",
    "print(\"\\n############## Agoritmo K-NN com KMeans ##############\\n\")\n",
    "avaliacao(y_testIrisPD, y_pred_Iris)\n",
    "print(\"Tempo total para predição:\", total_time_IrisKM, \"segundos\")\n",
    "print(\"Redução de\", np.round((1-(total_time_IrisKM/total_time_Iris))*100, 2), \"% no tempo de predição\")"
   ]
  },
  {
   "cell_type": "code",
   "execution_count": null,
   "metadata": {},
   "outputs": [
    {
     "name": "stdout",
     "output_type": "stream",
     "text": [
      "\n",
      "############## Agoritmo Sklearn ##############\n",
      "\n",
      "[[13  0  0]\n",
      " [ 0 16  0]\n",
      " [ 0  0  9]]\n",
      "              precision    recall  f1-score   support\n",
      "\n",
      "      setosa       1.00      1.00      1.00        13\n",
      "  versicolor       1.00      1.00      1.00        16\n",
      "   virginica       1.00      1.00      1.00         9\n",
      "\n",
      "    accuracy                           1.00        38\n",
      "   macro avg       1.00      1.00      1.00        38\n",
      "weighted avg       1.00      1.00      1.00        38\n",
      "\n",
      "Acurácia: 100.0 %\n",
      "Tempo total para predição: 0.001998424530029297 segundos\n"
     ]
    }
   ],
   "source": [
    "knn_Iris_sk = KNeighborsClassifier(n_neighbors=5)\n",
    "\n",
    "knn_Iris_sk.fit(X_trainIrisPD, y_trainIrisPD)\n",
    "start_time = time.time()\n",
    "y_pred_sk_iris = knn_Iris_sk.predict(X_testIrisPD)\n",
    "end_time = time.time()\n",
    "total_time_skiris = end_time - start_time\n",
    "\n",
    "print(\"\\n############## Agoritmo Sklearn ##############\\n\")\n",
    "avaliacao(y_testIrisPD, y_pred_sk_iris)\n",
    "print(\"Tempo total para predição:\", total_time_skiris, \"segundos\")"
   ]
  },
  {
   "cell_type": "markdown",
   "metadata": {},
   "source": [
    "##### Conjunto Wine"
   ]
  },
  {
   "cell_type": "code",
   "execution_count": null,
   "metadata": {},
   "outputs": [
    {
     "name": "stdout",
     "output_type": "stream",
     "text": [
      "############## Agoritmo K-NN sem seleção protótipos ##############\n",
      "\n",
      "[[16  0  0]\n",
      " [ 0 18  0]\n",
      " [ 0  0 20]]\n",
      "              precision    recall  f1-score   support\n",
      "\n",
      "     class_0       1.00      1.00      1.00        16\n",
      "     class_1       1.00      1.00      1.00        18\n",
      "     class_2       1.00      1.00      1.00        20\n",
      "\n",
      "    accuracy                           1.00        54\n",
      "   macro avg       1.00      1.00      1.00        54\n",
      "weighted avg       1.00      1.00      1.00        54\n",
      "\n",
      "Acurácia: 100.0 %\n",
      "Tempo total para predição: 0.367018461227417 segundos\n"
     ]
    }
   ],
   "source": [
    "knn_Wine = KNN(5)\n",
    "knn_Wine.fit(X_trainWinePD, y_trainWinePD)\n",
    "start_time = time.time()\n",
    "y_pred_Wine = knn_Wine.predict(X_testWinePD)\n",
    "total_time_Wine = time.time() - start_time\n",
    "print(\"############## Agoritmo K-NN sem seleção protótipos ##############\\n\")\n",
    "avaliacao(y_testWinePD, y_pred_Wine)\n",
    "print(\"Tempo total para predição:\", total_time_Wine, \"segundos\")"
   ]
  },
  {
   "cell_type": "code",
   "execution_count": null,
   "metadata": {},
   "outputs": [
    {
     "name": "stdout",
     "output_type": "stream",
     "text": [
      "\n",
      "############## Agoritmo K-NN com Falsos Vizinhos ##############\n",
      "\n",
      "[[16  0  0]\n",
      " [ 0 18  0]\n",
      " [ 0  0 20]]\n",
      "              precision    recall  f1-score   support\n",
      "\n",
      "     class_0       1.00      1.00      1.00        16\n",
      "     class_1       1.00      1.00      1.00        18\n",
      "     class_2       1.00      1.00      1.00        20\n",
      "\n",
      "    accuracy                           1.00        54\n",
      "   macro avg       1.00      1.00      1.00        54\n",
      "weighted avg       1.00      1.00      1.00        54\n",
      "\n",
      "Acurácia: 100.0 %\n",
      "Tempo total para predição: 0.31500983238220215 segundos\n",
      "Redução de 14.17 % no tempo de predição\n"
     ]
    }
   ],
   "source": [
    "knn_Wine_FV = KNN(5)\n",
    "knn_Wine_FV.fit(X_trainWinePD, y_trainWinePD, True, \"FV\")\n",
    "start_time = time.time()\n",
    "y_pred_Wine = knn_Wine_FV.predict(X_testWinePD)\n",
    "total_time_WineFV = time.time() - start_time\n",
    "print(\"\\n############## Agoritmo K-NN com Falsos Vizinhos ##############\\n\")\n",
    "avaliacao(y_testWinePD, y_pred_Wine)\n",
    "print(\"Tempo total para predição:\", total_time_WineFV, \"segundos\")\n",
    "print(\"Redução de\", np.round((1-(total_time_WineFV/total_time_Wine))*100, 2), \"% no tempo de predição\")"
   ]
  },
  {
   "cell_type": "code",
   "execution_count": null,
   "metadata": {},
   "outputs": [
    {
     "name": "stderr",
     "output_type": "stream",
     "text": [
      "c:\\Users\\dan-s\\anaconda3\\Lib\\site-packages\\sklearn\\cluster\\_kmeans.py:1436: UserWarning: KMeans is known to have a memory leak on Windows with MKL, when there are less chunks than available threads. You can avoid it by setting the environment variable OMP_NUM_THREADS=1.\n",
      "  warnings.warn(\n"
     ]
    },
    {
     "name": "stdout",
     "output_type": "stream",
     "text": [
      "\n",
      "############## Agoritmo K-NN com KMeans ##############\n",
      "\n",
      "[[15  1  0]\n",
      " [ 1 16  0]\n",
      " [ 0  1 20]]\n",
      "              precision    recall  f1-score   support\n",
      "\n",
      "     class_0       0.94      0.94      0.94        16\n",
      "     class_1       0.89      0.94      0.91        17\n",
      "     class_2       1.00      0.95      0.98        21\n",
      "\n",
      "    accuracy                           0.94        54\n",
      "   macro avg       0.94      0.94      0.94        54\n",
      "weighted avg       0.95      0.94      0.95        54\n",
      "\n",
      "Acurácia: 94.44444444444444 %\n",
      "Tempo total para predição: 0.11999869346618652 segundos\n",
      "Redução de 67.3 % no tempo de predição\n"
     ]
    }
   ],
   "source": [
    "knn_Wine_KM = KNN(5)\n",
    "knn_Wine_KM.fit(X_trainWinePD, y_trainWinePD, True, \"KM\")\n",
    "start_time = time.time()\n",
    "y_pred_Wine = knn_Wine_KM.predict(X_testWinePD)\n",
    "total_time_WineKM = time.time() - start_time\n",
    "print(\"\\n############## Agoritmo K-NN com KMeans ##############\\n\")\n",
    "avaliacao(y_testWinePD, y_pred_Wine)\n",
    "print(\"Tempo total para predição:\", total_time_WineKM, \"segundos\")\n",
    "print(\"Redução de\", np.round((1-(total_time_WineKM/total_time_Wine))*100, 2), \"% no tempo de predição\")"
   ]
  },
  {
   "cell_type": "code",
   "execution_count": null,
   "metadata": {},
   "outputs": [
    {
     "name": "stdout",
     "output_type": "stream",
     "text": [
      "\n",
      "############## Agoritmo Sklearn ##############\n",
      "\n",
      "[[16  0  0]\n",
      " [ 0 18  0]\n",
      " [ 0  0 20]]\n",
      "              precision    recall  f1-score   support\n",
      "\n",
      "     class_0       1.00      1.00      1.00        16\n",
      "     class_1       1.00      1.00      1.00        18\n",
      "     class_2       1.00      1.00      1.00        20\n",
      "\n",
      "    accuracy                           1.00        54\n",
      "   macro avg       1.00      1.00      1.00        54\n",
      "weighted avg       1.00      1.00      1.00        54\n",
      "\n",
      "Acurácia: 100.0 %\n",
      "Tempo total para predição: 0.0020024776458740234 segundos\n"
     ]
    }
   ],
   "source": [
    "knn_Wine_sk = KNeighborsClassifier(n_neighbors=5)\n",
    "\n",
    "knn_Wine_sk.fit(X_trainWinePD, y_trainWinePD)\n",
    "start_time = time.time()\n",
    "y_pred_sk_Wine = knn_Wine_sk.predict(X_testWinePD)\n",
    "end_time = time.time()\n",
    "total_time_skWine = end_time - start_time\n",
    "\n",
    "print(\"\\n############## Agoritmo Sklearn ##############\\n\")\n",
    "avaliacao(y_testWinePD, y_pred_sk_Wine)\n",
    "print(\"Tempo total para predição:\", total_time_skWine, \"segundos\")"
   ]
  },
  {
   "cell_type": "markdown",
   "metadata": {},
   "source": [
    "##### Conjunto Câncer de Mama"
   ]
  },
  {
   "cell_type": "code",
   "execution_count": null,
   "metadata": {},
   "outputs": [
    {
     "name": "stdout",
     "output_type": "stream",
     "text": [
      "############## Agoritmo K-NN sem seleção protótipos ##############\n",
      "\n",
      "[[68  3]\n",
      " [ 3 40]]\n",
      "              precision    recall  f1-score   support\n",
      "\n",
      "      benign       0.96      0.96      0.96        71\n",
      "   malignant       0.93      0.93      0.93        43\n",
      "\n",
      "    accuracy                           0.95       114\n",
      "   macro avg       0.94      0.94      0.94       114\n",
      "weighted avg       0.95      0.95      0.95       114\n",
      "\n",
      "Acurácia: 94.73684210526315 %\n",
      "Tempo total para predição: 2.4040372371673584 segundos\n"
     ]
    }
   ],
   "source": [
    "knn_Cancer = KNN(5)\n",
    "knn_Cancer.fit(X_trainCancerPD, y_trainCancerPD)\n",
    "start_time = time.time()\n",
    "y_pred_Cancer = knn_Cancer.predict(X_testCancerPD)\n",
    "total_time_Cancer = time.time() - start_time\n",
    "print(\"############## Agoritmo K-NN sem seleção protótipos ##############\\n\")\n",
    "avaliacao(y_testCancerPD, y_pred_Cancer)\n",
    "print(\"Tempo total para predição:\", total_time_Cancer, \"segundos\")"
   ]
  },
  {
   "cell_type": "code",
   "execution_count": null,
   "metadata": {},
   "outputs": [
    {
     "name": "stdout",
     "output_type": "stream",
     "text": [
      "\n",
      "############## Agoritmo K-NN com Falsos Vizinhos ##############\n",
      "\n",
      "[[68  4]\n",
      " [ 3 39]]\n",
      "              precision    recall  f1-score   support\n",
      "\n",
      "      benign       0.96      0.94      0.95        72\n",
      "   malignant       0.91      0.93      0.92        42\n",
      "\n",
      "    accuracy                           0.94       114\n",
      "   macro avg       0.93      0.94      0.93       114\n",
      "weighted avg       0.94      0.94      0.94       114\n",
      "\n",
      "Acurácia: 93.85964912280701 %\n",
      "Tempo total para predição: 2.296002149581909 segundos\n",
      "Redução de 4.49 % no tempo de predição\n"
     ]
    }
   ],
   "source": [
    "knn_Cancer_FV = KNN(5)\n",
    "knn_Cancer_FV.fit(X_trainCancerPD, y_trainCancerPD, True, \"FV\")\n",
    "start_time = time.time()\n",
    "y_pred_Cancer = knn_Cancer_FV.predict(X_testCancerPD)\n",
    "total_time_CancerFV = time.time() - start_time\n",
    "print(\"\\n############## Agoritmo K-NN com Falsos Vizinhos ##############\\n\")\n",
    "avaliacao(y_testCancerPD, y_pred_Cancer)\n",
    "print(\"Tempo total para predição:\", total_time_CancerFV, \"segundos\")\n",
    "print(\"Redução de\", np.round((1-(total_time_CancerFV/total_time_Cancer))*100, 2), \"% no tempo de predição\")"
   ]
  },
  {
   "cell_type": "code",
   "execution_count": null,
   "metadata": {},
   "outputs": [
    {
     "name": "stderr",
     "output_type": "stream",
     "text": [
      "c:\\Users\\dan-s\\anaconda3\\Lib\\site-packages\\sklearn\\cluster\\_kmeans.py:1436: UserWarning: KMeans is known to have a memory leak on Windows with MKL, when there are less chunks than available threads. You can avoid it by setting the environment variable OMP_NUM_THREADS=2.\n",
      "  warnings.warn(\n"
     ]
    },
    {
     "name": "stdout",
     "output_type": "stream",
     "text": [
      "\n",
      "############## Agoritmo K-NN com KMeans ##############\n",
      "\n",
      "[[71  5]\n",
      " [ 0 38]]\n",
      "              precision    recall  f1-score   support\n",
      "\n",
      "      benign       1.00      0.93      0.97        76\n",
      "   malignant       0.88      1.00      0.94        38\n",
      "\n",
      "    accuracy                           0.96       114\n",
      "   macro avg       0.94      0.97      0.95       114\n",
      "weighted avg       0.96      0.96      0.96       114\n",
      "\n",
      "Acurácia: 95.6140350877193 %\n",
      "Tempo total para predição: 0.5390021800994873 segundos\n",
      "Redução de 77.58 % no tempo de predição\n"
     ]
    }
   ],
   "source": [
    "knn_Cancer_KM = KNN(5)\n",
    "knn_Cancer_KM.fit(X_trainCancerPD, y_trainCancerPD, True, \"KM\")\n",
    "start_time = time.time()\n",
    "y_pred_Cancer = knn_Cancer_KM.predict(X_testCancerPD)\n",
    "total_time_CancerKM = time.time() - start_time\n",
    "print(\"\\n############## Agoritmo K-NN com KMeans ##############\\n\")\n",
    "avaliacao(y_testCancerPD, y_pred_Cancer)\n",
    "print(\"Tempo total para predição:\", total_time_CancerKM, \"segundos\")\n",
    "print(\"Redução de\", np.round((1-(total_time_CancerKM/total_time_Cancer))*100, 2), \"% no tempo de predição\")"
   ]
  },
  {
   "cell_type": "code",
   "execution_count": null,
   "metadata": {},
   "outputs": [
    {
     "name": "stdout",
     "output_type": "stream",
     "text": [
      "\n",
      "############## Agoritmo Sklearn ##############\n",
      "\n",
      "[[68  3]\n",
      " [ 3 40]]\n",
      "              precision    recall  f1-score   support\n",
      "\n",
      "      benign       0.96      0.96      0.96        71\n",
      "   malignant       0.93      0.93      0.93        43\n",
      "\n",
      "    accuracy                           0.95       114\n",
      "   macro avg       0.94      0.94      0.94       114\n",
      "weighted avg       0.95      0.95      0.95       114\n",
      "\n",
      "Acurácia: 94.73684210526315 %\n",
      "Tempo total para predição: 0.01399850845336914 segundos\n"
     ]
    }
   ],
   "source": [
    "knn_Cancer_sk = KNeighborsClassifier(n_neighbors=5)\n",
    "\n",
    "knn_Cancer_sk.fit(X_trainCancer, y_trainCancer)\n",
    "start_time = time.time()\n",
    "y_pred_sk_Cancer = knn_Cancer_sk.predict(X_testCancer)\n",
    "end_time = time.time()\n",
    "total_time_skCancer = end_time - start_time\n",
    "\n",
    "print(\"\\n############## Agoritmo Sklearn ##############\\n\")\n",
    "avaliacao(y_testCancer, y_pred_sk_Cancer)\n",
    "print(\"Tempo total para predição:\", total_time_skCancer, \"segundos\")"
   ]
  },
  {
   "cell_type": "markdown",
   "metadata": {},
   "source": [
    "#### Discussão"
   ]
  },
  {
   "cell_type": "markdown",
   "metadata": {},
   "source": [
    "<div style=\"text-align: justify\">\n",
    "O algoritmo do k-NN é um dos mais simples de ser implementado e obteve a mesma acurácia do modelo de referência em todas as bases de dados. Como na árvore de decisão, a avaliação do modelo na base Play Tennis é feita com os próprios exemplos de treino por conta da quantidade pequena de exemplos e por conta disso apresentou a menor acurácia entre todos os testes. Para o modelo k-NN é essencial a normalização dos dados e isso foi comprovado durante a implementação do trabalho. Para o conjunto Wine, foi realizado otreino do modelo sem a normalização o que acarretou em uma performance abaixo de 70% de acurácia tanto no modelo implementado quanto no de referência. Esse comportamento se alterou quando a normalização foi aplicada, subindo a acurácia para 100%.\n",
    "<div>"
   ]
  },
  {
   "cell_type": "markdown",
   "metadata": {},
   "source": [
    "Os algoritmos de seleção de protótipos se mostraram bem eficientes na proposta de redução de tempo de predição. A redução atinge valores próximos a 44% de redução no tempo para o conjunto de dados Play Tennis ao utilizar o método dos Falsos Vizinhos, contudo esse método vai se tornando cada vez menos eficiente quando se aumenta a quantidade de exemplos de treino. Podemos notar isso quando se realiza a predição no conjunto de dados Breast Cancer, na qual a reduçõa de apenas 4%. Contudo, o desempenho do método do kMeans foi bem demonstrou um comportamento inverso ao observado no método anterior, acreditamos que por conta da utilização da função de agrupamento mais eficiente disponibilizada pelo sklearn. Quanto maior o conjunto de treino, maior era a redução no tempo chegando até a 77% no conjunto Breast Cancer. "
   ]
  },
  {
   "cell_type": "markdown",
   "metadata": {},
   "source": [
    "<div style=\"text-align: justify\">\n",
    "Os resultados obtidos foram muito além do esperado para o K-NN, visto que a simplicidade da implementação não refletisse no mesmo algoritmo utilizado pelo de referência, ao menos as mesmas conclusões dos dois modelos são correspondentes. Dito isso, é comprovada a eficácia do k-NN e como sua aplicação pode ser o primeiro passo na resolução de certos problemas ou pelo menos para garantir uma nova visão sobre o conjunto de dados devido a sua simplicidade. Além disso é de fundamental importância o desenvolvedor estar alinhado com as técnicas de pré-processamento de dados para garantir um funcionamento correto do modelo, como observamos nos casos em foi nescessária uma normalização dos dados.\n",
    "<div>"
   ]
  },
  {
   "cell_type": "markdown",
   "metadata": {},
   "source": [
    "### Naive Bayes"
   ]
  },
  {
   "cell_type": "markdown",
   "metadata": {},
   "source": [
    "O naive Bayes é um algoritmo de classificação de apredizado bastante popular no meio estatístico. Sua principal característica consiste na construção de uma tabela de probabilidades a partir dos dados de treinamento que é consultada durante a predição para gerar o rótulo desejado. O algoritmo implementado é capaz de classificar conjuntos de dados com atributos categóricos, numéricos e mistos. O formato de dados aceito pelo modelo é um Dataframe do Pandas para o conjunto de treino e de teste e uma Serie do Pandas para os rótulos."
   ]
  },
  {
   "cell_type": "markdown",
   "metadata": {},
   "source": [
    "#### Definição da classe do Naive Bayes"
   ]
  },
  {
   "cell_type": "markdown",
   "metadata": {},
   "source": [
    "Abaixo temos a implementação da classe do Naive Bayes. Ao todo ela possui 6 métodos, sendo 1 de treinamento, 1 para predição, 2 para a o cálculo da verossimilhança, 1 para a consulta da tabela de probabilidades e o último de inicialização."
   ]
  },
  {
   "cell_type": "markdown",
   "metadata": {},
   "source": [
    "- **\\_\\_init\\_\\_:** O método de inicialização que possui parâmetros."
   ]
  },
  {
   "cell_type": "markdown",
   "metadata": {},
   "source": [
    "- **_estimate_frequencies:** O método que realiza o cálculo das probalilidades de verossimilhança dos atributos categóricos. Recebe uma série do Pandas contendo os rótulos dos exemplos e calcula as probabilidades de cada classe."
   ]
  },
  {
   "cell_type": "markdown",
   "metadata": {},
   "source": [
    "- **Fnb:** O método que realiza o calculo das probalilidades de verossimilhança dos atributos gaussianos. Recebe o valor do atributo, a média desse atributo em determinada classe e o desvio padrão do atribtuo na mesma classe. O cálculo é feito com base na seguinte fórmula (visibilidade da fórmula prejudicada em tema escuro do editor): \n",
    "<br/>\n",
    "<br/>\n",
    "\n",
    "![Equação probabilidade atributo categórico](https://media.licdn.com/dms/image/C4D12AQHxarXqsGJdaw/article-inline_image-shrink_400_744/0/1608732590155?e=1702512000&v=beta&t=fSqygj05bXD38B6L6h_2T-hjhBJwa4SnPTQjixDiEyE)"
   ]
  },
  {
   "cell_type": "markdown",
   "metadata": {},
   "source": [
    "- **fit:** O método que realiza o treinamento para atributos categoricos e Gaussianos. Seus parâmetros são os exemplos de treino, suas respectivas classes, uma lista com o tipo de dado para cada atributo (\"C\" para categórico e \"N\" para numérico) e o fator de suavização de Laplace. O algoritmo implementado aceita apenas DataFrames do Pandas como exemplos de treino e Séries do panda como rótulo. **O modelo NÃO aceita Arrays Lists ou Numpy Arrays.** A princípio o algoritmo separa os dados em dois Dataframes com os atributos numéricos e os categóricos. Em seguida ele armazena as prioris de cada classe (número de exemplos de cada classe/ número total de exemplos). Em seguida é adicionado na tabela cada probabilidade de um atributo categórico ocorrer em determinada classe. Logo após é armazenada a média e desvio padrão de cada atributo numérico para cada classe criando assim uma tabela de médias e desvios padrão.\n"
   ]
  },
  {
   "cell_type": "markdown",
   "metadata": {},
   "source": [
    "- **_get_likelihood:** O método que busca na tabela de probabilidades dos atributos categóricos a probabilidade de determinado valor de um determinado atributo em uma determinada classe. Em seguida é aplicada a suavização de Laplace na probabilidade encontrada e retornado esse valor. Recebe uma classe, um atributo e o valor desse atributo."
   ]
  },
  {
   "attachments": {
    "image.png": {
     "image/png": "[encoded data removed]"
    }
   },
   "cell_type": "markdown",
   "metadata": {},
   "source": [
    "- **predict:** O método que realiza a predição da classe para vários exemplos. Ele recebe um Dataframe com os exemplos de teste e separa em Dataframes diferentes os atributos categóricos e numéricos. Em seguida, para os atributos categóricos é calculada a probabilidade para cada classe a partir da função `Fnb` descrita anteriormente. Para cada exemplo essas probabilidades são multiplicadas e salvas em outro dataframe de probabilidades em cada classe. Logo após isso, para os atributos categóricos é buscado no dicionário de probabilidades com a função `_get_likelihood` a probabilidade correspondentes aos respectivos atributos. Da mesma forma que os numéricos, as probabilidades em cada classe dos atributos são multiplicadas e salvas em outro dataframe. Por fim, os dois dataframes de probabilidades são multiplicados entre sim juntamente com a priori de cada classe e retornado qual o nome da coluna (classe) que possuir o maior valor, atribuindo assim o rótulo a essa classe. Abaixo temos a função de cálculo da probabilidade de cada classe.\n",
    "<br/>\n",
    "<br/>\n",
    "\n",
    "![Cálculo probabilidade categórica](attachment:image.png)"
   ]
  },
  {
   "cell_type": "code",
   "execution_count": null,
   "metadata": {},
   "outputs": [],
   "source": [
    "class NaiveBayes:\n",
    "    def __init__(self):\n",
    "        \"\"\"\n",
    "        Método de inicialização da classe Naive Bayes que não recebe parâmetros\n",
    "        \"\"\"\n",
    "        self._prioris = {}\n",
    "        self._likelihoods = {}\n",
    "        self._means = {}\n",
    "        self._sds = {}\n",
    "        self._atributesType = []\n",
    "        self._alfa_ = 0\n",
    "        self._unique_atributes = {}\n",
    "        \n",
    "        self._labels = []\n",
    "        self._num_labels = -1\n",
    "        \n",
    "        self._features = []\n",
    "        self._num_features = -1\n",
    "        \n",
    "        self._label_distribuition = []\n",
    "        \n",
    "    def _estimate_frequencies(self, series: pd.Series)->pd.Series:\n",
    "        \"\"\"\n",
    "        Método para o calculo das probalilidades de verossimilhança dos atributos categoricos. Recebe uma Série do Pandas com os rótulos de determinados exemplos\n",
    "        :param series recebe uma Série do pandas\n",
    "        :return uma série contendo as estimativas de cada classe.\n",
    "        \"\"\"\n",
    "        serie = (series.value_counts() + self._alfa_) / (series.shape[0] + self._alfa_*self._unique_atributes[series.name])\n",
    "        return serie\n",
    "    \n",
    "\n",
    "    def Fnb(self, x: float, u: float, o: float)-> float:\n",
    "        \"\"\"\n",
    "        Método para o calculo das probalilidades de verossimilhança dos atributos gaussianos. Recebe um float com o valor do atributo, um float com \n",
    "        o valor da média do atributo em determinada classe e um float com o desvio padrão do atributo em determinada classe.\n",
    "        :param x recebe um float com o valor do atributo\n",
    "        :param u recebe um float com a média do atributo\n",
    "        :param o recebe um float com o desvio padrão do atributo\n",
    "        :return retorna um float com a probabilidade de tal classe para determinado atributo\n",
    "        \"\"\"\n",
    "        return (1/np.sqrt(2*np.pi*o**2))*np.exp(-((x-u)**2)/(2*o**2))\n",
    "    \n",
    " \n",
    "    def fit(self, X: pd.DataFrame, y: pd.Series, tipoAtributos=[], fatorLaplace=1e-10):\n",
    "        \"\"\"\n",
    "        Método para o treinamento para atributos categoricos e Gaussianos.  \n",
    "        :param X recebe um Dataframe com os exemplos de treinamento\n",
    "        :param u recebe uma Série com os rótulos das classes dos exemplos de treinamento\n",
    "        :param tipoAtributos recebe uma lista de caracteres indicando o tipo de dado de cada atributo (\"C\" para categórico e \"N\" para numérico)\n",
    "        :param fatorLaplace recebe um float com o valor do fator de suavização de Laplace\n",
    "        \"\"\"\n",
    "        self._alfa_ =  fatorLaplace\n",
    "        self._labels = list(y.drop_duplicates())\n",
    "        self._label_distribuition = y.value_counts()\n",
    "        self._unique_atributes[y.name] = len(np.unique(y))\n",
    "        \n",
    "        # separa os dados de acordo com o tipo\n",
    "        if(len(tipoAtributos)>0):\n",
    "            maskCat = [i in [\"C\"] for i in tipoAtributos]\n",
    "            maskNum = list(np.invert(maskCat))\n",
    "            X_cat = X.loc[:, maskCat]\n",
    "            X_num = X.loc[:, maskNum]\n",
    "        else:\n",
    "            maskNum = (X.dtypes == (np.int64)).values + (X.dtypes == (float)).values\n",
    "            tipoAtributos = [\"N\" if i else \"C\" for i in maskNum]\n",
    "            X_num = X.select_dtypes(['float64', 'int64'])\n",
    "            X_cat = X.drop(X_num, axis=1)\n",
    "            \n",
    "        self._atributesType = tipoAtributos\n",
    "        self._num_features = X.shape[1]\n",
    "        self._num_labels = len(self._labels)\n",
    "        self._prioris = self._estimate_frequencies(y)\n",
    "        self._features = X.keys().values\n",
    "        # Guarda as probabilidades dos atributos categoricos para cada classe.\n",
    "        if (len(X_cat.columns) != 0):\n",
    "            CatColumns = X_cat.columns.values\n",
    "            for f in CatColumns:\n",
    "                self._unique_atributes[f] = len(np.unique(X_cat[f]))\n",
    "            for label in self._labels:\n",
    "                subset = X_cat[y == label]\n",
    "                self._likelihoods[label] = [self._estimate_frequencies(subset[i]) for i in CatColumns]\n",
    "        \n",
    "        # Guarda a media e o desvio padrao de cada atributo numerico de acordo com as classes.\n",
    "        if (len(X_num.columns) != 0):\n",
    "            for label in self._labels:\n",
    "                subsetNum = X_num[y == label]\n",
    "                labels_means = np.mean(subsetNum, axis=0)\n",
    "                labels_sds = np.std(subsetNum, axis=0)\n",
    "                self._means[label] = labels_means\n",
    "                self._sds[label] = labels_sds\n",
    "        \n",
    "            \n",
    "    def _get_likelihood(self, feature: int, value, label: str | int) -> float:\n",
    "        \"\"\"\n",
    "        O método que busca na tabela de probabilidades dos atributos categóricos a probabilidade de determinado valor de um determinado atributo em uma determinada classe.\n",
    "        :param feature recebe inteiro com índice do atributo desejado no dicionário da classe\n",
    "        :param value recebe um dado com o valor do atributo desejado\n",
    "        :param label recebe uma string ou int com o valor da classe desejada\n",
    "        :return retorna um float com o valor do fator da probabilidade encontrada\n",
    "        \"\"\"\n",
    "        if(value in self._likelihoods[label][feature].index.values):\n",
    "            return self._likelihoods[label][feature][value]\n",
    "        return (self._alfa_) / ( self._label_distribuition[label]+ self._alfa_*self._unique_atributes[self._features[feature]])\n",
    "    \n",
    "    def predict(self, Xpred: pd.DataFrame):      \n",
    "        \"\"\"\n",
    "        O método que realiza a predição da classe para vários exemplos. Ele recebe um Dataframe com os exemplos e retorna uma lista de rótulos.\n",
    "        :param Xpred recebe um dataframe com os exemplos de teste\n",
    "        :return retorna uma lsita de rótulos preditos para os exemplos de teste\n",
    "        \"\"\"         \n",
    "        maskCat = [i in [\"C\"] for i in self._atributesType]\n",
    "        maskNum = list(np.invert(maskCat))\n",
    "        X_cat = Xpred.loc[:, maskCat]\n",
    "        X_num = Xpred.loc[:, maskNum]\n",
    "        y_pred = 1\n",
    "        prob = {}\n",
    "        # Aprendizado dos atributos Gaussianos.\n",
    "        if (len(X_num.columns) != 0):\n",
    "            class_prob_dic = {}\n",
    "            for label in self._labels:\n",
    "                mean = self._means[label]\n",
    "                sd = self._sds[label]\n",
    "                gaussian = self.Fnb(X_num, mean, sd)\n",
    "                gaussian = gaussian.prod(axis=1)\n",
    "                class_prob =gaussian\n",
    "                class_prob_dic[label] = class_prob\n",
    "            class_prob_df = pd.DataFrame(class_prob_dic)\n",
    "            y_pred = y_pred * class_prob_df\n",
    "\n",
    "        # Aprendizado dos atributos Categoricos.\n",
    "        y_pred_Cat = pd.DataFrame()\n",
    "        if (len(X_cat.columns) != 0):\n",
    "            for ind in X_cat.index:\n",
    "                for l in range(self._num_labels):\n",
    "                    label = self._labels[l]\n",
    "                    this_chance = [self._get_likelihood(i, X_cat.loc[ind][X_cat.keys().values[i]], label) for i in range(X_cat.shape[1])]\n",
    "                    prob[label] = np.prod(np.array(this_chance))\n",
    "                y_pred_Cat = pd.concat([y_pred_Cat, pd.DataFrame([prob], index=[ind], columns=self._labels)])\n",
    "            y_pred = y_pred * y_pred_Cat\n",
    "\n",
    "        # Calculo do aprendizado com as probabilidades a priore.\n",
    "        priores = pd.DataFrame([self._prioris.values], columns=self._prioris.keys())\n",
    "        for l in y_pred.columns.values:\n",
    "            y_pred[l] = y_pred[l]*priores[l].values[0]\n",
    "\n",
    "        # Retorna o aprendizado de maior probabilidade\n",
    "        return y_pred.idxmax(axis=1)"
   ]
  },
  {
   "cell_type": "markdown",
   "metadata": {},
   "source": [
    "#### Treinamento e Avaliação do Naive Bayes"
   ]
  },
  {
   "cell_type": "markdown",
   "metadata": {},
   "source": [
    "A seguir será feito treinamento e a avaliação de desempenho dos modelos utilizando os conjuntos de dados apresentados anteriormente e verificando o tempo de predição para comparar a seleção de protótipos."
   ]
  },
  {
   "cell_type": "markdown",
   "metadata": {},
   "source": [
    "##### Play Tennis Naive Bayes com Codificação"
   ]
  },
  {
   "cell_type": "markdown",
   "metadata": {},
   "source": [
    "O treinamento do modelo implementado será com os dados codificados para demonstrar o uso do mesmo tipo de dado de entrada na comparação com o `CategoricalNB`."
   ]
  },
  {
   "cell_type": "code",
   "execution_count": null,
   "metadata": {},
   "outputs": [
    {
     "name": "stdout",
     "output_type": "stream",
     "text": [
      "############## Agoritmo Naive Bayes ##############\n",
      "\n",
      "[[4 1]\n",
      " [0 9]]\n",
      "              precision    recall  f1-score   support\n",
      "\n",
      "          No       1.00      0.80      0.89         5\n",
      "         Yes       0.90      1.00      0.95         9\n",
      "\n",
      "    accuracy                           0.93        14\n",
      "   macro avg       0.95      0.90      0.92        14\n",
      "weighted avg       0.94      0.93      0.93        14\n",
      "\n",
      "Acurácia: 92.85714285714286 %\n"
     ]
    }
   ],
   "source": [
    "nbTennis = NaiveBayes()\n",
    "nbTennis.fit(XTennisEncPD, ytennisPD)\n",
    "ypredTennis = nbTennis.predict(XTennisEncPD)\n",
    "\n",
    "print(\"############## Agoritmo Naive Bayes ##############\\n\")\n",
    "avaliacao(ypredTennis, ytennisPD)\n"
   ]
  },
  {
   "cell_type": "code",
   "execution_count": null,
   "metadata": {},
   "outputs": [
    {
     "name": "stdout",
     "output_type": "stream",
     "text": [
      "############## Agoritmo Sklearn ##############\n",
      "\n",
      "[[4 1]\n",
      " [0 9]]\n",
      "              precision    recall  f1-score   support\n",
      "\n",
      "          No       1.00      0.80      0.89         5\n",
      "         Yes       0.90      1.00      0.95         9\n",
      "\n",
      "    accuracy                           0.93        14\n",
      "   macro avg       0.95      0.90      0.92        14\n",
      "weighted avg       0.94      0.93      0.93        14\n",
      "\n",
      "Acurácia: 92.85714285714286 %\n"
     ]
    }
   ],
   "source": [
    "nbSKTennis = CategoricalNB()\n",
    "nbSKTennis.fit(XTennisEncPD, ytennisPD)\n",
    "ypredSKTennis = nbSKTennis.predict(XTennisEncPD)\n",
    "\n",
    "print(\"############## Agoritmo Sklearn ##############\\n\")\n",
    "avaliacao(ypredSKTennis, ytennisPD)\n"
   ]
  },
  {
   "cell_type": "markdown",
   "metadata": {},
   "source": [
    "##### Play Tennis Naive Bayes com atributos Mistos"
   ]
  },
  {
   "cell_type": "code",
   "execution_count": null,
   "metadata": {},
   "outputs": [
    {
     "name": "stdout",
     "output_type": "stream",
     "text": [
      "############## Agoritmo Naive Bayes ##############\n",
      "\n",
      "[[4 1]\n",
      " [0 9]]\n",
      "              precision    recall  f1-score   support\n",
      "\n",
      "          No       1.00      0.80      0.89         5\n",
      "         Yes       0.90      1.00      0.95         9\n",
      "\n",
      "    accuracy                           0.93        14\n",
      "   macro avg       0.95      0.90      0.92        14\n",
      "weighted avg       0.94      0.93      0.93        14\n",
      "\n",
      "Acurácia: 92.85714285714286 %\n"
     ]
    }
   ],
   "source": [
    "nbTennisNum = NaiveBayes()\n",
    "nbTennisNum.fit(xtennisNumPD, ytennisNumPD, [\"C\", \"N\", \"N\", \"C\"])\n",
    "ypredTennisNum = nbTennisNum.predict(xtennisNumPD)\n",
    "\n",
    "print(\"############## Agoritmo Naive Bayes ##############\\n\")\n",
    "avaliacao(ypredTennisNum, ytennisNumPD)\n"
   ]
  },
  {
   "cell_type": "markdown",
   "metadata": {},
   "source": [
    "##### Conjunto Iris"
   ]
  },
  {
   "cell_type": "code",
   "execution_count": null,
   "metadata": {},
   "outputs": [
    {
     "name": "stdout",
     "output_type": "stream",
     "text": [
      "############## Agoritmo Naive Bayes ##############\n",
      "\n",
      "[[13  0  0]\n",
      " [ 0 15  1]\n",
      " [ 0  0  9]]\n",
      "              precision    recall  f1-score   support\n",
      "\n",
      "      setosa       1.00      1.00      1.00        13\n",
      "  versicolor       1.00      0.94      0.97        16\n",
      "   virginica       0.90      1.00      0.95         9\n",
      "\n",
      "    accuracy                           0.97        38\n",
      "   macro avg       0.97      0.98      0.97        38\n",
      "weighted avg       0.98      0.97      0.97        38\n",
      "\n",
      "Acurácia: 97.36842105263158 %\n"
     ]
    }
   ],
   "source": [
    "nbIris = NaiveBayes()\n",
    "nbIris.fit(X_trainIrisPD, y_trainIrisPD)\n",
    "ypredIris = nbIris.predict(X_testIrisPD)\n",
    "\n",
    "print(\"############## Agoritmo Naive Bayes ##############\\n\")\n",
    "avaliacao(ypredIris, y_testIrisPD)\n"
   ]
  },
  {
   "cell_type": "code",
   "execution_count": null,
   "metadata": {},
   "outputs": [
    {
     "name": "stdout",
     "output_type": "stream",
     "text": [
      "############## Agoritmo Sklearn ##############\n",
      "\n",
      "[[13  0  0]\n",
      " [ 0 15  1]\n",
      " [ 0  0  9]]\n",
      "              precision    recall  f1-score   support\n",
      "\n",
      "      setosa       1.00      1.00      1.00        13\n",
      "  versicolor       1.00      0.94      0.97        16\n",
      "   virginica       0.90      1.00      0.95         9\n",
      "\n",
      "    accuracy                           0.97        38\n",
      "   macro avg       0.97      0.98      0.97        38\n",
      "weighted avg       0.98      0.97      0.97        38\n",
      "\n",
      "Acurácia: 97.36842105263158 %\n"
     ]
    }
   ],
   "source": [
    "nbSKIris = GaussianNB()\n",
    "nbSKIris.fit(X_trainIrisPD, y_trainIrisPD)\n",
    "ypredSKIris = nbSKIris.predict(X_testIrisPD)\n",
    "\n",
    "print(\"############## Agoritmo Sklearn ##############\\n\")\n",
    "avaliacao(ypredSKIris, y_testIrisPD)\n"
   ]
  },
  {
   "cell_type": "markdown",
   "metadata": {},
   "source": [
    "##### Conjunto Wine"
   ]
  },
  {
   "cell_type": "code",
   "execution_count": null,
   "metadata": {},
   "outputs": [
    {
     "name": "stdout",
     "output_type": "stream",
     "text": [
      "############## Agoritmo Naive Bayes ##############\n",
      "\n",
      "[[15  1  0]\n",
      " [ 0 18  0]\n",
      " [ 0  0 20]]\n",
      "              precision    recall  f1-score   support\n",
      "\n",
      "     class_0       1.00      0.94      0.97        16\n",
      "     class_1       0.95      1.00      0.97        18\n",
      "     class_2       1.00      1.00      1.00        20\n",
      "\n",
      "    accuracy                           0.98        54\n",
      "   macro avg       0.98      0.98      0.98        54\n",
      "weighted avg       0.98      0.98      0.98        54\n",
      "\n",
      "Acurácia: 98.14814814814815 %\n"
     ]
    }
   ],
   "source": [
    "nbWine = NaiveBayes()\n",
    "nbWine.fit(X_trainWinePD, y_trainWinePD)\n",
    "ypredWine = nbWine.predict(X_testWinePD)\n",
    "\n",
    "print(\"############## Agoritmo Naive Bayes ##############\\n\")\n",
    "avaliacao(ypredWine, y_testWinePD)\n"
   ]
  },
  {
   "cell_type": "code",
   "execution_count": null,
   "metadata": {},
   "outputs": [
    {
     "name": "stdout",
     "output_type": "stream",
     "text": [
      "############## Agoritmo Sklearn ##############\n",
      "\n",
      "[[15  1  0]\n",
      " [ 0 18  0]\n",
      " [ 0  0 20]]\n",
      "              precision    recall  f1-score   support\n",
      "\n",
      "     class_0       1.00      0.94      0.97        16\n",
      "     class_1       0.95      1.00      0.97        18\n",
      "     class_2       1.00      1.00      1.00        20\n",
      "\n",
      "    accuracy                           0.98        54\n",
      "   macro avg       0.98      0.98      0.98        54\n",
      "weighted avg       0.98      0.98      0.98        54\n",
      "\n",
      "Acurácia: 98.14814814814815 %\n"
     ]
    }
   ],
   "source": [
    "nbSKWine = GaussianNB()\n",
    "nbSKWine.fit(X_trainWinePD, y_trainWinePD)\n",
    "ypredSKWine = nbSKWine.predict(X_testWinePD)\n",
    "\n",
    "print(\"############## Agoritmo Sklearn ##############\\n\")\n",
    "avaliacao(ypredSKWine, y_testWinePD)\n"
   ]
  },
  {
   "cell_type": "markdown",
   "metadata": {},
   "source": [
    "##### Conjunto Câncer de Mama"
   ]
  },
  {
   "cell_type": "code",
   "execution_count": null,
   "metadata": {},
   "outputs": [
    {
     "name": "stdout",
     "output_type": "stream",
     "text": [
      "############## Agoritmo Naive Bayes ##############\n",
      "\n",
      "[[70  1]\n",
      " [ 3 40]]\n",
      "              precision    recall  f1-score   support\n",
      "\n",
      "      benign       0.96      0.99      0.97        71\n",
      "   malignant       0.98      0.93      0.95        43\n",
      "\n",
      "    accuracy                           0.96       114\n",
      "   macro avg       0.97      0.96      0.96       114\n",
      "weighted avg       0.97      0.96      0.96       114\n",
      "\n",
      "Acurácia: 96.49122807017544 %\n"
     ]
    }
   ],
   "source": [
    "nbCancer = NaiveBayes()\n",
    "nbCancer.fit(X_trainCancerPD, y_trainCancerPD)\n",
    "ypredCancer = nbCancer.predict(X_testCancerPD)\n",
    "\n",
    "print(\"############## Agoritmo Naive Bayes ##############\\n\")\n",
    "avaliacao(ypredCancer, y_testCancerPD)\n"
   ]
  },
  {
   "cell_type": "code",
   "execution_count": null,
   "metadata": {},
   "outputs": [
    {
     "name": "stdout",
     "output_type": "stream",
     "text": [
      "############## Agoritmo Sklearn ##############\n",
      "\n",
      "[[70  1]\n",
      " [ 3 40]]\n",
      "              precision    recall  f1-score   support\n",
      "\n",
      "      benign       0.96      0.99      0.97        71\n",
      "   malignant       0.98      0.93      0.95        43\n",
      "\n",
      "    accuracy                           0.96       114\n",
      "   macro avg       0.97      0.96      0.96       114\n",
      "weighted avg       0.97      0.96      0.96       114\n",
      "\n",
      "Acurácia: 96.49122807017544 %\n"
     ]
    }
   ],
   "source": [
    "nbSKCancer = GaussianNB()\n",
    "nbSKCancer.fit(X_trainCancerPD, y_trainCancerPD)\n",
    "ypredSKCancer = nbSKCancer.predict(X_testCancerPD)\n",
    "\n",
    "print(\"############## Agoritmo Sklearn ##############\\n\")\n",
    "avaliacao(ypredSKCancer, y_testCancerPD)\n"
   ]
  },
  {
   "cell_type": "markdown",
   "metadata": {},
   "source": [
    "#### Discussão"
   ]
  },
  {
   "cell_type": "markdown",
   "metadata": {},
   "source": [
    "<div style=\"text-align: justify\">\n",
    "O algoritmo do Naive Bayes possui um grau de complexidade maior que o K-NN, principalmente por conta da implementação diferenciada para cada tipo de atributo. Como na árvore de decisão, a avaliação do modelo na base Play Tennis é feita com os próprios exemplos de treino por conta da quantidade pequena de exemplos, mas não influênciou muito na acurácia já que foi bem alta. Para o modelo de referência do Naive Bayes é preciso passar os dados codificados pois a função do sklearn não aceita strings, dessa forma o treino na base Play Tennis categórico foi com os dados codificados para os dois modelos. Acurácia em todos os testes foram iguais as obtidas pelo modelo de referência mostrando a eficiência do nosso modelo.\n",
    "<div>"
   ]
  },
  {
   "cell_type": "markdown",
   "metadata": {},
   "source": [
    "A passagem de uma lista com o tipo dos atributos como numéricos ou categóricos é uma solução muito boa para a implementação do Naive Bayes misto, contudo para conjuntos de dados com muitos atributos essa lista terá um tamanho bem elevado também. Quando não especificada a tipagem de cada atributo o algoritmo faz uma divisão simples: tudo que for numeral será tratado como atributo numérico, tudo que não for numeral será tratado como atributo categórico, por isso que nos treinos nos conjuntos Iris, Wine e Breast Cancer não foi necessária a especificação do tipoAtributo. Em comparação com os modelos implementados anteriormente, esse foi que possuiu o menor tempo de treino e de predição pois seus cálculos são muito simples, necessitando poucos loops para cada exemplo. "
   ]
  },
  {
   "cell_type": "markdown",
   "metadata": {},
   "source": [
    "<div style=\"text-align: justify\">\n",
    "Os resultados obtidos foram muito além do esperado para o Naive Bayes, devido a dificuldade inicial para identificar e implementar o cálculo para probalidade em atributos numéricos. Contudo, após muita pesquisa o desafio foi contornado. A biblioteca do Pandas foi muito utilizada e auxiliou na redução dos tempos de predição e treino por conta da facilidade de aplicar funções em todo o Dataframe. Dessa forma, foi demonstrado que a manipulação correta das bibliotecas disponíveis são de fundamental importância para um algoritmo mais eficiente e eficaz.\n",
    "<div>"
   ]
  },
  {
   "cell_type": "markdown",
   "metadata": {},
   "source": [
    "## Conclusão"
   ]
  },
  {
   "cell_type": "markdown",
   "metadata": {},
   "source": [
    "O presente trabalho foi realizado a partir dos assuntos abordados na Aprendizagem de Máquina e Mineração de Dados e foi capaz de exercitar e desafiar todos os estudantes envolvidos. O principal desafio encontrado na implementação de cada modelo consistiu em entender como o modelo funciona na teoria, para assim poder avançar no código. A parte da produção apresentou seus problemas, principalmente encontrando as limitações que cada biblioteca possui e tentando contorná-las.  \n",
    "Todos os modelos obtiveram resultados muito satisfatórios em relação aos modelos de referência, mostrando assim que o objetivo inicial com trabalho foi concluído. Os vários testes com diferentes conjuntos de dados e com quantidade de exemplos variada, evidenciam a flexibildade dos algoritmos e preocupação resolver cada caso de estudo.\n",
    "Dito isso, este trabalho foi de fundamental importância para agregar os conhecimentos sobre a disciplina para o resto da nossas carreiras."
   ]
  }
 ],
 "metadata": {
  "kernelspec": {
   "display_name": "base",
   "language": "python",
   "name": "python3"
  },
  "language_info": {
   "codemirror_mode": {
    "name": "ipython",
    "version": 3
   },
   "file_extension": ".py",
   "mimetype": "text/x-python",
   "name": "python",
   "nbconvert_exporter": "python",
   "pygments_lexer": "ipython3",
   "version": "3.11.6"
  }
 },
 "nbformat": 4,
 "nbformat_minor": 2
}
